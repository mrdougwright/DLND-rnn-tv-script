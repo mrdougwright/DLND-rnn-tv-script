{
 "cells": [
  {
   "cell_type": "markdown",
   "metadata": {
    "deletable": true,
    "editable": true
   },
   "source": [
    "# TV Script Generation\n",
    "In this project, you'll generate your own [Simpsons](https://en.wikipedia.org/wiki/The_Simpsons) TV scripts using RNNs.  You'll be using part of the [Simpsons dataset](https://www.kaggle.com/wcukierski/the-simpsons-by-the-data) of scripts from 27 seasons.  The Neural Network you'll build will generate a new TV script for a scene at [Moe's Tavern](https://simpsonswiki.com/wiki/Moe's_Tavern).\n",
    "## Get the Data\n",
    "The data is already provided for you.  You'll be using a subset of the original dataset.  It consists of only the scenes in Moe's Tavern.  This doesn't include other versions of the tavern, like \"Moe's Cavern\", \"Flaming Moe's\", \"Uncle Moe's Family Feed-Bag\", etc.."
   ]
  },
  {
   "cell_type": "code",
   "execution_count": 1,
   "metadata": {
    "collapsed": false,
    "deletable": true,
    "editable": true
   },
   "outputs": [],
   "source": [
    "\"\"\"\n",
    "DON'T MODIFY ANYTHING IN THIS CELL\n",
    "\"\"\"\n",
    "import helper\n",
    "\n",
    "data_dir = './data/simpsons/moes_tavern_lines.txt'\n",
    "text = helper.load_data(data_dir)\n",
    "# Ignore notice, since we don't use it for analysing the data\n",
    "text = text[81:]"
   ]
  },
  {
   "cell_type": "markdown",
   "metadata": {
    "deletable": true,
    "editable": true
   },
   "source": [
    "## Explore the Data\n",
    "Play around with `view_sentence_range` to view different parts of the data."
   ]
  },
  {
   "cell_type": "code",
   "execution_count": 2,
   "metadata": {
    "collapsed": false,
    "deletable": true,
    "editable": true
   },
   "outputs": [
    {
     "name": "stdout",
     "output_type": "stream",
     "text": [
      "Dataset Stats\n",
      "Roughly the number of unique words: 11492\n",
      "Number of scenes: 262\n",
      "Average number of sentences in each scene: 15.248091603053435\n",
      "Number of lines: 4257\n",
      "Average number of words in each line: 11.50434578341555\n",
      "\n",
      "The sentences 0 to 10:\n",
      "Moe_Szyslak: (INTO PHONE) Moe's Tavern. Where the elite meet to drink.\n",
      "Bart_Simpson: Eh, yeah, hello, is Mike there? Last name, Rotch.\n",
      "Moe_Szyslak: (INTO PHONE) Hold on, I'll check. (TO BARFLIES) Mike Rotch. Mike Rotch. Hey, has anybody seen Mike Rotch, lately?\n",
      "Moe_Szyslak: (INTO PHONE) Listen you little puke. One of these days I'm gonna catch you, and I'm gonna carve my name on your back with an ice pick.\n",
      "Moe_Szyslak: What's the matter Homer? You're not your normal effervescent self.\n",
      "Homer_Simpson: I got my problems, Moe. Give me another one.\n",
      "Moe_Szyslak: Homer, hey, you should not drink to forget your problems.\n",
      "Barney_Gumble: Yeah, you should only drink to enhance your social skills.\n",
      "\n",
      "\n"
     ]
    }
   ],
   "source": [
    "view_sentence_range = (0, 10)\n",
    "\n",
    "\"\"\"\n",
    "DON'T MODIFY ANYTHING IN THIS CELL\n",
    "\"\"\"\n",
    "import numpy as np\n",
    "\n",
    "print('Dataset Stats')\n",
    "print('Roughly the number of unique words: {}'.format(len({word: None for word in text.split()})))\n",
    "scenes = text.split('\\n\\n')\n",
    "print('Number of scenes: {}'.format(len(scenes)))\n",
    "sentence_count_scene = [scene.count('\\n') for scene in scenes]\n",
    "print('Average number of sentences in each scene: {}'.format(np.average(sentence_count_scene)))\n",
    "\n",
    "sentences = [sentence for scene in scenes for sentence in scene.split('\\n')]\n",
    "print('Number of lines: {}'.format(len(sentences)))\n",
    "word_count_sentence = [len(sentence.split()) for sentence in sentences]\n",
    "print('Average number of words in each line: {}'.format(np.average(word_count_sentence)))\n",
    "\n",
    "print()\n",
    "print('The sentences {} to {}:'.format(*view_sentence_range))\n",
    "print('\\n'.join(text.split('\\n')[view_sentence_range[0]:view_sentence_range[1]]))"
   ]
  },
  {
   "cell_type": "markdown",
   "metadata": {
    "deletable": true,
    "editable": true
   },
   "source": [
    "## Implement Preprocessing Functions\n",
    "The first thing to do to any dataset is preprocessing.  Implement the following preprocessing functions below:\n",
    "- Lookup Table\n",
    "- Tokenize Punctuation\n",
    "\n",
    "### Lookup Table\n",
    "To create a word embedding, you first need to transform the words to ids.  In this function, create two dictionaries:\n",
    "- Dictionary to go from the words to an id, we'll call `vocab_to_int`\n",
    "- Dictionary to go from the id to word, we'll call `int_to_vocab`\n",
    "\n",
    "Return these dictionaries in the following tuple `(vocab_to_int, int_to_vocab)`"
   ]
  },
  {
   "cell_type": "code",
   "execution_count": 22,
   "metadata": {
    "collapsed": false,
    "deletable": true,
    "editable": true
   },
   "outputs": [
    {
     "name": "stdout",
     "output_type": "stream",
     "text": [
      "{0: 'moe_szyslak', 1: 'rotch', 2: 'your', 3: 'mike', 4: 'you', 5: 'drink', 6: 'to', 7: 'on', 8: 'one', 9: 'problems', 10: 'yeah', 11: 'homer', 12: 'gonna', 13: 'should', 14: 'hey', 15: 'not', 16: 'name', 17: \"i'm\", 18: 'my', 19: 'the', 20: 'back', 21: 'give', 22: 'got', 23: 'normal', 24: 'social', 25: 'is', 26: 'elite', 27: 'anybody', 28: 'homer_simpson', 29: 'ice', 30: 'only', 31: 'of', 32: 'carve', 33: 'catch', 34: 'forget', 35: 'moe', 36: 'pick', 37: 'bart_simpson', 38: 'there', 39: 'tavern', 40: 'matter', 41: 'hello', 42: 'i', 43: 'eh', 44: \"moe's\", 45: 'little', 46: 'an', 47: 'last', 48: \"you're\", 49: 'days', 50: 'whats', 51: 'me', 52: 'has', 53: 'listen', 54: 'seen', 55: 'lately', 56: 'barney_gumble', 57: 'puke', 58: 'check', 59: 'enhance', 60: 'where', 61: 'with', 62: 'these', 63: 'meet', 64: 'self', 65: 'skills', 66: 'effervescent', 67: 'another', 68: 'hold', 69: \"i'll\", 70: 'and'}\n",
      "Tests Passed\n"
     ]
    }
   ],
   "source": [
    "import numpy as np\n",
    "import problem_unittests as tests\n",
    "from collections import Counter\n",
    "\n",
    "def create_lookup_tables(text):\n",
    "    \"\"\"\n",
    "    Create lookup tables for vocabulary\n",
    "    :param text: The text of tv scripts split into words\n",
    "    :return: A tuple of dicts (vocab_to_int, int_to_vocab)\n",
    "    \"\"\"\n",
    "    counts = Counter(text)\n",
    "    vocab = sorted(counts, key=counts.get, reverse=True)\n",
    "    vocab_to_int = {word: num for num, word in enumerate(vocab)}\n",
    "    int_to_vocab = {num: word for num, word in enumerate(vocab)}\n",
    "    print(int_to_vocab)\n",
    "    return (vocab_to_int, int_to_vocab)\n",
    "\n",
    "\n",
    "\"\"\"\n",
    "DON'T MODIFY ANYTHING IN THIS CELL THAT IS BELOW THIS LINE\n",
    "\"\"\"\n",
    "tests.test_create_lookup_tables(create_lookup_tables)"
   ]
  },
  {
   "cell_type": "markdown",
   "metadata": {
    "deletable": true,
    "editable": true
   },
   "source": [
    "### Tokenize Punctuation\n",
    "We'll be splitting the script into a word array using spaces as delimiters.  However, punctuations like periods and exclamation marks make it hard for the neural network to distinguish between the word \"bye\" and \"bye!\".\n",
    "\n",
    "Implement the function `token_lookup` to return a dict that will be used to tokenize symbols like \"!\" into \"||Exclamation_Mark||\".  Create a dictionary for the following symbols where the symbol is the key and value is the token:\n",
    "- Period ( . )\n",
    "- Comma ( , )\n",
    "- Quotation Mark ( \" )\n",
    "- Semicolon ( ; )\n",
    "- Exclamation mark ( ! )\n",
    "- Question mark ( ? )\n",
    "- Left Parentheses ( ( )\n",
    "- Right Parentheses ( ) )\n",
    "- Dash ( -- )\n",
    "- Return ( \\n )\n",
    "\n",
    "This dictionary will be used to token the symbols and add the delimiter (space) around it.  This separates the symbols as it's own word, making it easier for the neural network to predict on the next word. Make sure you don't use a token that could be confused as a word. Instead of using the token \"dash\", try using something like \"||dash||\"."
   ]
  },
  {
   "cell_type": "code",
   "execution_count": 23,
   "metadata": {
    "collapsed": false,
    "deletable": true,
    "editable": true
   },
   "outputs": [
    {
     "name": "stdout",
     "output_type": "stream",
     "text": [
      "Tests Passed\n"
     ]
    }
   ],
   "source": [
    "def token_lookup():\n",
    "    \"\"\"\n",
    "    Generate a dict to turn punctuation into a token.\n",
    "    :return: Tokenize dictionary where the key is the punctuation and the value is the token\n",
    "    \"\"\"\n",
    "    # TODO: Implement Function\n",
    "    token_dict = {\n",
    "        \".\": \"period\", \",\": \"comma\", '\"': \"quotation\", \";\": \"semicolon\", \"!\": \"exclamation_mark\", \n",
    "        \"?\": \"question_mark\", \"(\": \"left_paren\", \")\": \"right_paren\", \"--\": \"dash\", \"\\n\": \"return\"\n",
    "    }\n",
    "    return token_dict\n",
    "\n",
    "\"\"\"\n",
    "DON'T MODIFY ANYTHING IN THIS CELL THAT IS BELOW THIS LINE\n",
    "\"\"\"\n",
    "tests.test_tokenize(token_lookup)"
   ]
  },
  {
   "cell_type": "markdown",
   "metadata": {
    "deletable": true,
    "editable": true
   },
   "source": [
    "## Preprocess all the data and save it\n",
    "Running the code cell below will preprocess all the data and save it to file."
   ]
  },
  {
   "cell_type": "code",
   "execution_count": 24,
   "metadata": {
    "collapsed": false,
    "deletable": true,
    "editable": true
   },
   "outputs": [
    {
     "name": "stdout",
     "output_type": "stream",
     "text": [
      "{0: 'period', 1: 'return', 2: 'comma', 3: 'left_paren', 4: 'right_paren', 5: 'the', 6: 'i', 7: 'you', 8: 'exclamation_mark', 9: 'moe_szyslak:', 10: 'question_mark', 11: 'a', 12: 'homer_simpson:', 13: 'to', 14: 'and', 15: 'of', 16: 'my', 17: 'it', 18: 'that', 19: 'in', 20: 'quotation', 21: 'me', 22: 'is', 23: 'this', 24: \"i'm\", 25: 'for', 26: 'your', 27: 'homer', 28: 'on', 29: 'hey', 30: 'moe', 31: 'oh', 32: 'no', 33: 'lenny_leonard:', 34: 'what', 35: 'with', 36: 'yeah', 37: 'all', 38: 'just', 39: 'like', 40: 'but', 41: 'barney_gumble:', 42: 'so', 43: 'be', 44: 'here', 45: 'carl_carlson:', 46: \"don't\", 47: 'have', 48: 'up', 49: \"it's\", 50: 'well', 51: 'out', 52: 'do', 53: 'was', 54: 'got', 55: 'are', 56: 'get', 57: 'we', 58: 'uh', 59: \"that's\", 60: 'one', 61: \"you're\", 62: 'now', 63: 'not', 64: 'can', 65: 'know', 66: 'dash', 67: 'at', 68: 'right', 69: '/', 70: 'how', 71: 'if', 72: 'back', 73: 'marge_simpson:', 74: 'about', 75: 'from', 76: 'he', 77: 'go', 78: 'gonna', 79: 'there', 80: 'they', 81: 'beer', 82: 'good', 83: 'who', 84: 'an', 85: 'man', 86: 'okay', 87: 'little', 88: 'his', 89: 'as', 90: 'some', 91: 'then', 92: \"can't\", 93: 'never', 94: \"i'll\", 95: 'come', 96: 'think', 97: 'could', 98: \"i've\", 99: 'him', 100: 'want', 101: 'really', 102: 'look', 103: 'see', 104: 'too', 105: 'guys', 106: 'been', 107: 'make', 108: 'when', 109: 'why', 110: 'ya', 111: 'bar', 112: 'her', 113: 'did', 114: 'time', 115: 'say', 116: 'marge', 117: 'gotta', 118: 'or', 119: 'ah', 120: 'take', 121: 'into', 122: 'love', 123: 'down', 124: 'more', 125: 'our', 126: 'am', 127: 'off', 128: 'guy', 129: 'sure', 130: 'two', 131: 'barney', 132: \"there's\", 133: 'thing', 134: 'lisa_simpson:', 135: 'would', 136: \"we're\", 137: 'tell', 138: 'let', 139: \"he's\", 140: 'where', 141: 'had', 142: 'big', 143: 'need', 144: 'money', 145: 'over', 146: \"what's\", 147: 'something', 148: 'drink', 149: 'us', 150: 'sorry', 151: 'bart_simpson:', 152: 'only', 153: 'ever', 154: 'by', 155: 'way', 156: 'day', 157: 'will', 158: 'wait', 159: 'chief_wiggum:', 160: 'she', 161: 'even', 162: 'give', 163: \"i'd\", 164: 'god', 165: 'new', 166: 'huh', 167: \"didn't\", 168: 'those', 169: \"ain't\", 170: 'people', 171: 'great', 172: 'has', 173: 'phone', 174: 'were', 175: 'lenny', 176: 'eh', 177: 'maybe', 178: \"moe's\", 179: 'life', 180: 'much', 181: 'than', 182: 'going', 183: 'mean', 184: 'place', 185: 'around', 186: 'still', 187: 'wanna', 188: 'mr', 189: 'these', 190: \"you've\", 191: 'better', 192: 'should', 193: 'help', 194: 'old', 195: 'home', 196: \"'em\", 197: 'friend', 198: 'night', 199: 'please', 200: 'before', 201: 'name', 202: 'noise', 203: 'seymour_skinner:', 204: 'aw', 205: 'whoa', 206: 'last', 207: 'tv', 208: 'made', 209: 'boy', 210: 'face', 211: 'any', 212: 'drunk', 213: 'hello', 214: 'duff', 215: 'put', 216: 'three', 217: 'thanks', 218: \"'cause\", 219: 'call', 220: 'their', 221: 'looking', 222: 'again', 223: 'listen', 224: 'bad', 225: 'car', 226: 'first', 227: \"let's\", 228: 'best', 229: 'very', 230: 'does', 231: 'yes', 232: 'wow', 233: 'every', 234: 'ooh', 235: 'looks', 236: 'kent_brockman:', 237: 'said', 238: 'while', 239: 'them', 240: 'another', 241: 'guess', 242: 'work', 243: 'apu_nahasapeemapetilon:', 244: 'other', 245: 'wife', 246: 'years', 247: 'dad', 248: 'feel', 249: 'singing', 250: 'play', 251: 'springfield', 252: \"won't\", 253: 'tonight', 254: 'sweet', 255: 'find', 256: 'thought', 257: 'everybody', 258: 'after', 259: 'sobs', 260: 'voice', 261: \"they're\", 262: 'dr', 263: 'kids', 264: 'things', 265: 'buy', 266: 'might', 267: 'check', 268: 'keep', 269: 'happy', 270: 'show', 271: 'nice', 272: 'beat', 273: 'since', 274: 'shut', 275: 'head', 276: 'world', 277: 'girl', 278: 'because', 279: 'minute', 280: 'chuckle', 281: 'sings', 282: 'use', 283: 'lisa', 284: 'bart', 285: 'sighs', 286: \"who's\", 287: 'friends', 288: 'always', 289: 'ow', 290: 'stupid', 291: 'which', 292: 'c', 293: \"isn't\", 294: 'krusty_the_clown:', 295: 'kid', 296: 'someone', 297: 'carl', 298: \"you'll\", 299: 'lot', 300: 'anything', 301: \"here's\", 302: 'talk', 303: 'laugh', 304: 'remember', 305: 'hundred', 306: 'seen', 307: 'next', 308: 'thank', 309: 'simpson', 310: 'chuckles', 311: 'hell', 312: 'through', 313: 'job', 314: 'laughs', 315: 'glass', 316: 'hear', 317: 'says', 318: 'lost', 319: 'pretty', 320: 'woman', 321: 'kind', 322: 'happened', 323: 'outta', 324: 'five', 325: \"nothin'\", 326: 'hope', 327: 'long', 328: 'believe', 329: 'house', 330: 'matter', 331: 'away', 332: '_montgomery_burns:', 333: 'nervous', 334: \"homer's\", 335: 'once', 336: 'family', 337: 'wish', 338: 'comes', 339: 'book', 340: 'four', 341: 'stop', 342: 'tavern', 343: 'real', 344: 'waylon_smithers:', 345: \"c'mon\", 346: 'fat', 347: 'turn', 348: 'ned_flanders:', 349: 'ask', 350: \"goin'\", 351: 'wants', 352: 'game', 353: 'myself', 354: \"doin'\", 355: 'business', 356: 'wrong', 357: 'idea', 358: 'actually', 359: 'grampa_simpson:', 360: 'party', 361: 'used', 362: 'done', 363: 'town', 364: 'everything', 365: \"she's\", 366: 'getting', 367: 'enough', 368: 'must', 369: 'duffman:', 370: 'today', 371: 'nobody', 372: 'problem', 373: \"comin'\", 374: 'loud', 375: \"we've\", 376: \"wouldn't\", 377: 'many', 378: 'burns', 379: 'free', 380: 'nah', 381: 'sounds', 382: 'true', 383: 'reading', 384: 'bucks', 385: 'hold', 386: 'woo', 387: 'try', 388: 'um', 389: 'maggie', 390: 'thinking', 391: 'na', 392: 'doing', 393: 'took', 394: 'gee', 395: 'sound', 396: 'dollars', 397: 'watch', 398: 'beautiful', 399: 'pants', 400: 'pay', 401: 'baby', 402: 'being', 403: 'wanted', 404: 'edna', 405: 'makes', 406: 'stuff', 407: 'canyonero', 408: 'sell', 409: 'daughter', 410: 'kemi:', 411: 'most', 412: 'secret', 413: 'gimme', 414: 'chief', 415: 'kill', 416: 'under', 417: 'leave', 418: 'everyone', 419: 'yourself', 420: 'excuse', 421: 'care', 422: \"where's\", 423: 'save', 424: 'own', 425: 'tipsy', 426: 'sad', 427: 'mouth', 428: 'pick', 429: 'tough', 430: 'dinner', 431: 'hurt', 432: 'worry', 433: 'points', 434: 'quickly', 435: 'pal', 436: 'dead', 437: \"you'd\", 438: 'left', 439: 'went', 440: 'smithers', 441: 'knew', 442: 'break', 443: 'came', 444: 'camera', 445: 'fine', 446: 'excited', 447: 'till', 448: 'gets', 449: 'saw', 450: 'drinking', 451: 'hoo', 452: 'hate', 453: 'ladies', 454: 'sign', 455: 'skinner', 456: 'dog', 457: 'hi', 458: 'funny', 459: 'school', 460: 'feeling', 461: 'quit', 462: 'tomorrow', 463: 'heard', 464: 'win', 465: 'die', 466: 'gave', 467: 'told', 468: 'eyes', 469: 'booze', 470: 'alcohol', 471: 'flaming', 472: 'clean', 473: 'artie_ziff:', 474: 'barflies:', 475: 'easy', 476: 'kinda', 477: 'fight', 478: \"aren't\", 479: 'surprised', 480: 'calling', 481: 'room', 482: 'krusty', 483: 'drive', 484: 'mom', 485: 'hands', 486: 'super', 487: 'fire', 488: 'forget', 489: 'sir', 490: 'burn', 491: 'hand', 492: 'gasp', 493: 'loves', 494: 'small', 495: 'million', 496: 'loser', 497: 'kirk_van_houten:', 498: 'nuts', 499: 'anyone', 500: 'without', 501: 'seven', 502: 'cash', 503: 'jacques:', 504: 'date', 505: 'eat', 506: 'gone', 507: 'mad', 508: 'bring', 509: \"couldn't\", 510: 'twenty', 511: 'read', 512: 'noises', 513: 'problems', 514: \"lookin'\", 515: 'already', 516: 'upset', 517: 'anyway', 518: 'meet', 519: \"talkin'\", 520: 'called', 521: 'gentlemen', 522: 'dear', 523: 'happen', 524: \"haven't\", 525: 'low', 526: \"we'll\", 527: 'professor_jonathan_frink:', 528: 'chance', 529: 'six', 530: \"drinkin'\", 531: 'tape', 532: 'door', 533: 'trouble', 534: \"wasn't\", 535: \"y'know\", 536: 'course', 537: \"somethin'\", 538: \"doesn't\", 539: 'bartender', 540: 'sadly', 541: 'seymour', 542: 'turns', 543: 'geez', 544: 'each', 545: 'high', 546: 'coming', 547: 'behind', 548: 'cut', 549: 'works', 550: 'trying', 551: 'disgusted', 552: 'hot', 553: 'worse', 554: 'talking', 555: 'hours', 556: 'whatever', 557: 'ugly', 558: 'moan', 559: 'least', 560: \"it'll\", 561: 'quiet', 562: 'song', 563: 'end', 564: ':', 565: 'outside', 566: 'spend', 567: 'bottle', 568: 'keys', 569: 'wiggum', 570: 'machine', 571: 'm', 572: 'lady', 573: 'sigh', 574: 'start', 575: 'realizing', 576: 'uh-oh', 577: \"gettin'\", 578: 'heart', 579: 'crazy', 580: 'learn', 581: 'live', 582: 'throat', 583: 'bar_rag:', 584: 'straight', 585: 'the_rich_texan:', 586: 'war', 587: 'steal', 588: 'fun', 589: 'self', 590: 'change', 591: 'worried', 592: 'dump', 593: 'larry:', 594: 'whole', 595: 'stand', 596: 'stay', 597: 'mmmm', 598: 'sing', 599: 'blame', 600: 'watching', 601: 'close', 602: 'eye', 603: 'snake_jailbird:', 604: 'police', 605: 'girls', 606: 'marriage', 607: 'blue', 608: 'barflies', 609: 'times', 610: 'less', 611: 'air', 612: 'may', 613: 'gasps', 614: 'annoyed', 615: 'thinks', 616: 'mother', 617: 'ten', 618: 'ma', 619: 'lousy', 620: 'apu', 621: 'far', 622: 'probably', 623: 'pull', 624: 'perfect', 625: 'playing', 626: 'such', 627: 'greatest', 628: 'drinks', 629: 'point', 630: 'poor', 631: 'soon', 632: 'bowl', 633: 'butt', 634: 'tsk', 635: 'light', 636: 'second', 637: 'young', 638: 'thousand', 639: 'heh', 640: 'front', 641: 'anymore', 642: 'late', 643: 'person', 644: 'shocked', 645: 'goodbye', 646: 'special', 647: \"'bout\", 648: 'morning', 649: 'joe', 650: 'year', 651: 'bit', 652: 'stick', 653: 'delete', 654: 'whip', 655: 'married', 656: 'private', 657: 'either', 658: \"shouldn't\", 659: 'else', 660: 'alive', 661: 'turned', 662: 'learned', 663: 'crowd:', 664: 'smell', 665: 'lucky', 666: 'throw', 667: 'kick', 668: \"how'd\", 669: 'pig', 670: 'open', 671: 'instead', 672: 'join', 673: 'duffman', 674: 'uh-huh', 675: 'christmas', 676: 'patty_bouvier:', 677: 'turning', 678: 'boys', 679: 'card', 680: 'later', 681: 'yet', 682: 'king', 683: 'youse', 684: 'eight', 685: 'found', 686: 'mayor_joe_quimby:', 687: 'president', 688: 'taking', 689: 'rev', 690: 'nothing', 691: 'fifty', 692: 'feet', 693: 'goodnight', 694: 'both', 695: 'walk', 696: 'cool', 697: 'exactly', 698: 'letter', 699: 'beers', 700: 'alone', 701: 'knows', 702: 'blood', 703: 'barn', 704: 'ticket', 705: 'ass', 706: 'store', 707: 'shot', 708: 'jacques', 709: 'goes', 710: 'box', 711: 'arm', 712: 'agnes_skinner:', 713: 'mind', 714: 'lemme', 715: 'angry', 716: 'serious', 717: 'shotgun', 718: 'miss', 719: 'minutes', 720: 'anybody', 721: 'buddy', 722: 'american', 723: 'couple', 724: 'nods', 725: 'moron', 726: 'boxing', 727: 'tab', 728: 'picture', 729: 'nine', 730: 'days', 731: 'afraid', 732: 'full', 733: 'semicolon', 734: 'deal', 735: 'means', 736: 'terrible', 737: 'son', 738: 'himself', 739: 'weird', 740: 'ha', 741: 'favorite', 742: 'dance', 743: 'huge', 744: 'lucius:', 745: 'channel', 746: 'human', 747: 'rummy', 748: 'hide', 749: 'la', 750: 'fast', 751: 'warm_female_voice:', 752: 'moans', 753: 'smile', 754: 'screw', 755: 'together', 756: 'accident', 757: 'plus', 758: 'o', 759: 'grampa', 760: 'using', 761: 'friendly', 762: 'sotto', 763: 'renee:', 764: 'glad', 765: 'wire', 766: 'butts', 767: \"makin'\", 768: 'amazed', 769: 'table', 770: 'eggs', 771: 'proudly', 772: 'etc', 773: 'japanese', 774: 'hmm', 775: 'fellas', 776: 'welcome', 777: 'inside', 778: 'send', 779: 'top', 780: 'english', 781: 'telling', 782: 'black', 783: 'dry', 784: \"kiddin'\", 785: 'sitting', 786: 'losers', 787: 'peanuts', 788: 'tap', 789: 'crap', 790: 'finally', 791: \"ol'\", 792: 'mrs', 793: 'saying', 794: 'paint', 795: 'round', 796: 'number', 797: 'word', 798: 'making', 799: 'food', 800: 'comic_book_guy:', 801: 'news', 802: 'street', 803: 'collette:', 804: 'intrigued', 805: 'narrator:', 806: 'warmly', 807: 'walking', 808: 'advice', 809: 'pour', 810: 'hang', 811: 'forever', 812: 'city', 813: 'horrible', 814: 'glove', 815: 'run', 816: 'young_marge:', 817: 'story', 818: 'happier', 819: 'homie', 820: 'seems', 821: 'though', 822: 's', 823: 'kiss', 824: 'plant', 825: \"he'll\", 826: 'words', 827: 'scared', 828: 'seat', 829: 'ready', 830: 'somebody', 831: 'ned', 832: 'cold', 833: 'ball', 834: 'ahh', 835: 'alright', 836: 'move', 837: 'selma_bouvier:', 838: 'broke', 839: 'damn', 840: 'power', 841: 'nigel_bakerbutcher:', 842: 'szyslak', 843: 'class', 844: 'star', 845: 'plastic', 846: 'sips', 847: 'belch', 848: 'crack', 849: 'fill', 850: 'tune', 851: 'bag', 852: 'milk', 853: 'dangerous', 854: 'gold', 855: 'shall', 856: 'gumbel', 857: 'principal', 858: 'set', 859: 'gives', 860: 'half', 861: 'brought', 862: 'sick', 863: 'denver', 864: \"that'll\", 865: 'early', 866: 'romantic', 867: 'became', 868: 'smells', 869: 'ice', 870: 'hard', 871: 'touched', 872: 'princess', 873: 'company', 874: 'dunno', 875: 'ones', 876: 'holds', 877: 'uncle', 878: 'numbers', 879: 'men', 880: 'giving', 881: 'bow', 882: 'hit', 883: 'honest', 884: 'impressed', 885: 'young_homer:', 886: 'pass', 887: 'along', 888: 'honey', 889: 'slap', 890: 'tinkle', 891: 'seconds', 892: 'eating', 893: 'fall', 894: 'normal', 895: 'laughing', 896: 'health', 897: 'group', 898: 'supposed', 899: 'walther_hotenhoffer:', 900: 'lying', 901: 'lives', 902: 'truth', 903: 'across', 904: 'won', 905: 'state', 906: 'takes', 907: 'heaven', 908: 'slow', 909: 'admit', 910: 'flanders', 911: 'thirty', 912: 'lou:', 913: 'fat_tony:', 914: 'write', 915: 'al', 916: 'maya:', 917: 'quick', 918: 'manjula_nahasapeemapetilon:', 919: 'week', 920: 'water', 921: 'tip', 922: 'rat', 923: 'invented', 924: 'desperate', 925: 'baseball', 926: 'health_inspector:', 927: 'treasure', 928: 'loved', 929: 'sex', 930: 'hank_williams_jr', 931: \"sayin'\", 932: 'stool', 933: 'dumb', 934: 'holding', 935: 'jukebox', 936: 'charge', 937: 'worst', 938: 'forgot', 939: 'hair', 940: 'omigod', 941: 'kent', 942: 'except', 943: \"we'd\", 944: 'music', 945: 'mister', 946: 'same', 947: 'bitter', 948: 'tony', 949: 'joey', 950: '_julius_hibbert:', 951: 'harv:', 952: 'sent', 953: 'plan', 954: 'football_announcer:', 955: 'safe', 956: 'strong', 957: 'bet', 958: 'birthday', 959: 'lowers', 960: 'calm', 961: 'glen:', 962: 'named', 963: 'gay', 964: 'mike', 965: 'suit', 966: 'detective_homer_simpson:', 967: 'troll', 968: 'absolutely', 969: \"guy's\", 970: 'movie', 971: 'park', 972: 'duh', 973: \"smokin'_joe_frazier:\", 974: 'beach', 975: 'center', 976: 'ashamed', 977: 'deer', 978: 'sharps', 979: 'local', 980: 'third', 981: 'counting', 982: 'testing', 983: 'cheer', 984: 'evening', 985: 'broad', 986: 'dying', 987: 'bank', 988: 'pity', 989: 'african', 990: 'tv_wife:', 991: 'act', 992: 'dude', 993: 'hated', 994: 'selma', 995: 'biggest', 996: 'children', 997: 'dallas', 998: 'coaster', 999: 'daddy', 1000: 'wonderful', 1001: 'few', 1002: 'tongue', 1003: 'strap', 1004: \"lisa's\", 1005: 'announcer:', 1006: 'unless', 1007: 'brilliant', 1008: 'soul', 1009: 'rest', 1010: 'saved', 1011: 'pop', 1012: 'wine', 1013: 'stories', 1014: 'college', 1015: 'games', 1016: 'dame', 1017: 'america', 1018: 'dank', 1019: 'cutting', 1020: 'cost', 1021: 'cop', 1022: 'chug', 1023: 'proud', 1024: 'hanging', 1025: '_hooper:', 1026: 'given', 1027: 'yea', 1028: 'pipe', 1029: 'short', 1030: 'needs', 1031: 'shaking', 1032: 'totally', 1033: 'women', 1034: 'lloyd:', 1035: 'brockman', 1036: 'sober', 1037: 'puzzled', 1038: \"one's\", 1039: 'handsome', 1040: 'tv_husband:', 1041: 'hopeful', 1042: 'speaking', 1043: 'lessons', 1044: 'club', 1045: 'cow', 1046: 'tired', 1047: 'all:', 1048: 'caught', 1049: 'adult_bart:', 1050: 'quietly', 1051: 'suicide', 1052: \"he'd\", 1053: 'piece', 1054: 'fingers', 1055: 'rope', 1056: 'lose', 1057: 'fellow', 1058: 'hospital', 1059: 'bender:', 1060: 'sunday', 1061: 'wha', 1062: 'luck', 1063: \"world's\", 1064: 'treat', 1065: 'p', 1066: 'clown', 1067: 'speak', 1068: 'wonder', 1069: 'french', 1070: 'wheel', 1071: 'side', 1072: 'nein', 1073: 'asked', 1074: 'man:', 1075: 'wall', 1076: 'punch', 1077: 'yep', 1078: '_zander:', 1079: 'favor', 1080: 'drederick', 1081: 'wrote', 1082: 'running', 1083: 'suddenly', 1084: 'against', 1085: 'stunned', 1086: 'part', 1087: 'nineteen', 1088: 'red', 1089: 'little_man:', 1090: 'lord', 1091: 'glasses', 1092: 'accent', 1093: 'chanting', 1094: 'grand', 1095: \"callin'\", 1096: 'billy_the_kid:', 1097: 'truck', 1098: 'exasperated', 1099: 'jerks', 1100: \"tellin'\", 1101: 'sauce', 1102: 'closed', 1103: 'edna_krabappel-flanders:', 1104: 'offended', 1105: 'service', 1106: 'horrified', 1107: 'writing', 1108: 'speech', 1109: 'ago', 1110: 'confused', 1111: 'ad', 1112: 'filthy', 1113: 'also', 1114: 'longer', 1115: 'surgery', 1116: 'fish', 1117: 'shirt', 1118: 'disappointed', 1119: 'jeez', 1120: 'felt', 1121: 'jack', 1122: 'clears', 1123: \"how's\", 1124: 'during', 1125: 'until', 1126: 'beloved', 1127: \"sittin'\", 1128: 'catch', 1129: 'bed', 1130: 'changing', 1131: 'thumb', 1132: 'mouse', 1133: 'swear', 1134: 'pool', 1135: \"workin'\", 1136: 'nuclear', 1137: 'mayor', 1138: 'joint', 1139: 'i-i', 1140: 'names', 1141: \"i'm-so-stupid\", 1142: 'isotopes', 1143: 'jar', 1144: 'owe', 1145: 'customers', 1146: 'wallet', 1147: 'survive', 1148: \"drivin'\", 1149: 'designated', 1150: 'x', 1151: 'tree', 1152: 'sob', 1153: 'government', 1154: 'having', 1155: 'window', 1156: 'clear', 1157: 'none', 1158: 'represent', 1159: 'bee', 1160: 'cleaned', 1161: \"tryin'\", 1162: 'empty', 1163: 'boring', 1164: 'doubt', 1165: 'artie', 1166: 'driving', 1167: 'mine', 1168: 'invited', 1169: 'meaningful', 1170: 'therapy', 1171: 'explaining', 1172: 're:', 1173: 'nose', 1174: 'fbi', 1175: 'tatum', 1176: 'gin', 1177: 'magic', 1178: \"they've\", 1179: 'david_byrne:', 1180: 'vance', 1181: 'stock', 1182: 'partner', 1183: \"who'll\", 1184: 'bald', 1185: 'blow', 1186: 'twins', 1187: 'spot', 1188: 'senator', 1189: 'hurry', 1190: 'busy', 1191: 'scream', 1192: 'eleven', 1193: 'meeting', 1194: 'yellow', 1195: 'pointed', 1196: 'eddie:', 1197: 'different', 1198: 'feels', 1199: 'upbeat', 1200: 'pickle', 1201: \"today's\", 1202: 'stillwater:', 1203: 'character', 1204: 'furious', 1205: 'offer', 1206: 'bees', 1207: 'heavyweight', 1208: 'garbage', 1209: 'amazing', 1210: 'whaddaya', 1211: 'drug', 1212: 'frustrated', 1213: 'teenage_bart:', 1214: 'senators', 1215: 'sarcastic', 1216: 'original', 1217: 'moment', 1218: \"buyin'\", 1219: 'flowers', 1220: 'market', 1221: 'sits', 1222: 'woman:', 1223: 'fridge', 1224: \"bein'\", 1225: 'hoping', 1226: 'milhouse_van_houten:', 1227: \"everyone's\", 1228: 'polite', 1229: 'wear', 1230: 'whisper', 1231: 'figured', 1232: 'keeps', 1233: 'sincere', 1234: 'usually', 1235: 'brain', 1236: 'mug', 1237: 'lie', 1238: 'egg', 1239: 'teenage_barney:', 1240: 'band', 1241: 'ourselves', 1242: 'teach', 1243: 'raises', 1244: 'pain', 1245: 'dollar', 1246: 'finger', 1247: 'movies', 1248: 'especially', 1249: 'cries', 1250: 'test', 1251: 'smooth', 1252: 'agent', 1253: 'radishes', 1254: 'rich', 1255: 'started', 1256: 'shows', 1257: 'tom', 1258: 'sobbing', 1259: 'lips', 1260: 'sit', 1261: 'bottom', 1262: 'rag', 1263: 'clearly', 1264: 'minimum', 1265: 'pit', 1266: 'professional', 1267: 'hungry', 1268: 'breath', 1269: 'smiling', 1270: 'months', 1271: 'gas', 1272: 'couch', 1273: 'books', 1274: 'choice', 1275: 'ride', 1276: 'huggenkiss', 1277: 'pipes', 1278: 'career', 1279: 'respect', 1280: 'dang', 1281: 'castle', 1282: 'france', 1283: 'billboard', 1284: 'championship', 1285: 'beauty', 1286: 'secrets', 1287: 'arms', 1288: 'à', 1289: 'jerk', 1290: 'follow', 1291: 'whee', 1292: 'buffalo', 1293: 'buttons', 1294: \"watchin'\", 1295: 'pleased', 1296: 'declan_desmond:', 1297: 'babies', 1298: 'correct', 1299: \"dad's\", 1300: 'rotch', 1301: 'hugh:', 1302: 'awkward', 1303: 'amanda', 1304: 'yard', 1305: 'match', 1306: 'quite', 1307: 'bill', 1308: 'amid', 1309: 'chocolate', 1310: 'ooo', 1311: 'ahead', 1312: 'forty', 1313: 'neck', 1314: 'enjoy', 1315: 'ominous', 1316: 'died', 1317: 'road', 1318: 'belches', 1319: \"livin'\", 1320: 'distraught', 1321: 'video', 1322: 'weekly', 1323: 'fix', 1324: 'seem', 1325: 'south', 1326: 'stirring', 1327: 'closing', 1328: 'able', 1329: 'rather', 1330: 'threw', 1331: 'new_health_inspector:', 1332: 'monster', 1333: 'flips', 1334: 'sexy', 1335: 'bye', 1336: 'calls', 1337: 'chick', 1338: \"valentine's\", 1339: 'pickled', 1340: 'burt', 1341: 'hm', 1342: 'arrest', 1343: 'knock', 1344: 'address', 1345: 'train', 1346: 'yesterday', 1347: 'hero', 1348: 'ivana', 1349: 'boat', 1350: \"what'll\", 1351: 'ingredient', 1352: 'almost', 1353: 'pub', 1354: 'body', 1355: 'plow', 1356: 'bars', 1357: 'question', 1358: 'betty:', 1359: 'whiny', 1360: 'finding', 1361: 'stagy', 1362: 'embarrassed', 1363: 'coat', 1364: \"o'clock\", 1365: 'hans:', 1366: 'flower', 1367: 'adeleine', 1368: 'grim', 1369: 'starts', 1370: 'computer', 1371: 'snake', 1372: 'legs', 1373: 'pulled', 1374: 'ken:', 1375: 'pitcher', 1376: 'dennis_conroy:', 1377: 'husband', 1378: 'u', 1379: 'forget-me-shot', 1380: 'sly', 1381: 'understand', 1382: 'lotta', 1383: 'sister', 1384: \"carl's\", 1385: \"moe's_thoughts:\", 1386: 'folks', 1387: 'sold', 1388: 'drivers', 1389: 'procedure', 1390: \"o'problem\", 1391: 'fifteen', 1392: 'tail', 1393: 'sports', 1394: 'sheepish', 1395: 'hits', 1396: 'sees', 1397: 'illegal', 1398: 'wally:', 1399: 'ruined', 1400: 'renee', 1401: 'opportunity', 1402: 'island', 1403: 'father', 1404: 'field', 1405: 'selling', 1406: 'working', 1407: 'burps', 1408: 'domestic', 1409: 'clothes', 1410: 'dramatic', 1411: 'guns', 1412: 'cable', 1413: 'situation', 1414: 'loaded', 1415: 'cares', 1416: 'cover', 1417: 'dan_gillick:', 1418: 'burp', 1419: 'rob', 1420: 'kidding', 1421: 'gotten', 1422: 'answer', 1423: 'sense', 1424: 'yap', 1425: 'fan', 1426: 'girlfriend', 1427: 'precious', 1428: 'deep', 1429: 'foibles', 1430: 'line', 1431: 'twelve', 1432: 'liver', 1433: 'needed', 1434: 'case', 1435: 'pulls', 1436: 'trip', 1437: 'restaurant', 1438: 'thoughtful', 1439: 'heads', 1440: 'somewhere', 1441: 'license', 1442: 'popular', 1443: 'brother', 1444: \"seein'\", 1445: 'rid', 1446: \"lenny's\", 1447: 'coffee', 1448: 'oil', 1449: 'suck', 1450: 'cough', 1451: 'coach:', 1452: 'jesus', 1453: 'fraud', 1454: '_kissingher:', 1455: 'sucked', 1456: 'beginning', 1457: 'book_club_member:', 1458: 'loan', 1459: 'fumes', 1460: 'theater', 1461: 'afternoon', 1462: 'hug', 1463: 'sometime', 1464: 'complete', 1465: 'pause', 1466: 'cheap', 1467: 'despite', 1468: 'jail', 1469: 'bought', 1470: 'public', 1471: 'opening', 1472: 'helicopter', 1473: 'crime', 1474: 'film', 1475: 'powerful', 1476: 'endorse', 1477: 'noticing', 1478: 'traffic', 1479: 'belly', 1480: 'weeks', 1481: 'cannot', 1482: 'toasting', 1483: 'touchdown', 1484: 'played', 1485: 'campaign', 1486: 'future', 1487: 'fact', 1488: \"kids'\", 1489: 'step', 1490: 'finest', 1491: 'chest', 1492: 'singers:', 1493: 'midge', 1494: 'imagine', 1495: 'kissing', 1496: 'lonely', 1497: 'wiener', 1498: 'bar-boy', 1499: 'scam', 1500: 'panicky', 1501: 'text', 1502: 'image', 1503: 'stayed', 1504: 'ran', 1505: 'ordered', 1506: 'stadium', 1507: 'natural', 1508: 'extra', 1509: 'met', 1510: 'sec_agent_#1:', 1511: 'shoot', 1512: 'doors', 1513: 'single', 1514: 'corpses', 1515: 'list', 1516: 'election', 1517: 'program', 1518: 'tv_father:', 1519: 'delicious', 1520: 'gag', 1521: 'brains', 1522: 'hilarious', 1523: \"they'd\", 1524: 'stopped', 1525: 'fancy', 1526: 'letters', 1527: 'toys', 1528: 'guest', 1529: 'trust', 1530: 'ruin', 1531: 'lots', 1532: 'covering', 1533: 'pats', 1534: 'serve', 1535: 'twenty-five', 1536: 'tried', 1537: 'pocket', 1538: 'saturday', 1539: 'leg', 1540: 'terrified', 1541: 'tells', 1542: 'idiot', 1543: 'slip', 1544: 'enemy', 1545: 'knowing', 1546: 'toilet', 1547: 'dive', 1548: 'international', 1549: '&', 1550: 'bright', 1551: 'dirt', 1552: 'death', 1553: 'bus', 1554: 'share', 1555: 'miserable', 1556: 'its', 1557: 'pissed', 1558: 'salad', 1559: 'alley', 1560: 'source', 1561: 'knocked', 1562: 'consider', 1563: 'finished', 1564: 'register', 1565: 'glum', 1566: 'tradition', 1567: 'killed', 1568: 'compliment', 1569: 'wayne:', 1570: 'spending', 1571: 'per', 1572: 'pfft', 1573: 'wipe', 1574: 'celebrities', 1575: 'defensive', 1576: 'season', 1577: 'form', 1578: 'mudflap', 1579: 'religion', 1580: 'talk-sings', 1581: 'ho', 1582: 'rough', 1583: 'jump', 1584: 'bite', 1585: \"havin'\", 1586: 'feed', 1587: 'yee-haw', 1588: 'modern', 1589: 'exit', 1590: 'happily', 1591: 'button', 1592: 'bless', 1593: 'workers', 1594: \"wife's\", 1595: 'peach', 1596: 'clone', 1597: 'attention', 1598: 'roll', 1599: 'drunks', 1600: 'grunts', 1601: 'pageant', 1602: 'meant', 1603: 'history', 1604: 'pathetic', 1605: 'embarrassing', 1606: 'crank', 1607: 'l', 1608: 'shove', 1609: 'der', 1610: 'exhaust', 1611: 'f', 1612: 'who-o-oa', 1613: 'sixty-nine', 1614: 'kang:', 1615: 'grow', 1616: 'cents', 1617: 'perhaps', 1618: 'challenge', 1619: 'sexual', 1620: 'teeth', 1621: 'milhouse', 1622: 'greystash', 1623: 'reason', 1624: 'sniffs', 1625: 'whose', 1626: 'drop', 1627: 'hour', 1628: 'thoughts', 1629: 'glen', 1630: 'aside', 1631: 'nobel', 1632: 'severe', 1633: 'changed', 1634: 'hiya', 1635: 'wooooo', 1636: 'peace', 1637: 'breaking', 1638: '_timothy_lovejoy:', 1639: 'spanish', 1640: 'flatly', 1641: 'buying', 1642: 'innocent', 1643: 'tips', 1644: 'bob', 1645: 'teenage', 1646: 'bitterly', 1647: '_babcock:', 1648: 'unison', 1649: \"where'd\", 1650: 'understanding', 1651: 'hall', 1652: 'mock', 1653: 'covers', 1654: 'junior', 1655: 'reminds', 1656: 'fritz:', 1657: 'law', 1658: 'clientele', 1659: 'seeing', 1660: 'pardon', 1661: 'kwik-e-mart', 1662: 'hunter', 1663: 'incredulous', 1664: 'bret:', 1665: 'taken', 1666: \"i-i'm\", 1667: 'casual', 1668: 'literature', 1669: 'lindsay_naegle:', 1670: 'edison', 1671: 'cameras', 1672: 'mel', 1673: 'leans', 1674: 'crummy', 1675: 'fireball', 1676: 'peter', 1677: 'staying', 1678: 'hmmm', 1679: 'gary:', 1680: 'r', 1681: 'snaps', 1682: 'become', 1683: 'dressed', 1684: 'tears', 1685: 'hole', 1686: 'boo', 1687: 'backwards', 1688: 'struggling', 1689: 'moments', 1690: 'shares', 1691: 'spoken', 1692: 'bike', 1693: 'gary_chalmers:', 1694: 'age', 1695: 'uneasy', 1696: 'careful', 1697: 'spit', 1698: 'scum', 1699: 'coney', 1700: 'ancient', 1701: 'banks', 1702: 'suppose', 1703: 'reads', 1704: 'searching', 1705: 'middle', 1706: 'ring', 1707: 'sadder', 1708: 'double', 1709: 'sisters', 1710: 'team', 1711: 'snort', 1712: \"ridin'\", 1713: 'british', 1714: 'fever', 1715: 'midnight', 1716: 'darts', 1717: 'scene', 1718: 'past', 1719: 'system', 1720: 'holiday', 1721: 'pays', 1722: 'moved', 1723: 'ohmygod', 1724: 'diet', 1725: 'weak', 1726: 'kept', 1727: 'fourth', 1728: 'foot', 1729: 'losing', 1730: 'worked', 1731: \"year's\", 1732: 'unlike', 1733: 'showing', 1734: 'enemies', 1735: 'recommend', 1736: 'ziffcorp', 1737: 'frankly', 1738: 'stole', 1739: 'born', 1740: 'troy:', 1741: 'harv', 1742: 'men:', 1743: 'size', 1744: \"bart's\", 1745: 'k', 1746: 'puff', 1747: 'focus', 1748: 'gently', 1749: 'kermit', 1750: \"stinkin'\", 1751: 'church', 1752: \"c'mere\", 1753: 'gal', 1754: 'mistake', 1755: 'accurate', 1756: 'rub', 1757: 'german', 1758: 'pained', 1759: 'directions', 1760: 'nation', 1761: 'yo', 1762: 'prime', 1763: 'turkey', 1764: 'jamaican', 1765: 'frink', 1766: 'puke', 1767: 'looked', 1768: 'grabs', 1769: 'label', 1770: 'tastes', 1771: 'spinning', 1772: 'marvin', 1773: 'ground', 1774: 'summer', 1775: 'chinese', 1776: 'bowling', 1777: 'driver', 1778: 'army', 1779: 'invite', 1780: 'wide', 1781: 'expect', 1782: 'sec', 1783: 'sniffles', 1784: \"robbin'\", 1785: 'vegas', 1786: 'hates', 1787: 'cocktail', 1788: 'paris', 1789: 'jolly', 1790: 'al_gore:', 1791: 'keeping', 1792: 'mechanical', 1793: 'ridiculous', 1794: 'relax', 1795: 'shape', 1796: 'mafia', 1797: 'motel', 1798: 'switch', 1799: \"gentleman's\", 1800: 'comfortable', 1801: 'inspector', 1802: 'following', 1803: 'stools', 1804: 'palmerston', 1805: \"men's\", 1806: 'andy', 1807: 'toss', 1808: 'then:', 1809: 'scotch', 1810: 'sadistic_barfly:', 1811: 'dynamite', 1812: 'fly', 1813: 'starting', 1814: 'threatening', 1815: 'cards', 1816: 'vomit', 1817: 'entire', 1818: 'odd', 1819: 'hurts', 1820: 'delighted', 1821: 'twenty-two', 1822: 'operation', 1823: 'pointing', 1824: 'concerned', 1825: 'barney-shaped_form:', 1826: 'crowd', 1827: 'fans', 1828: \"'til\", 1829: 'uncomfortable', 1830: 'toward', 1831: 'lately', 1832: 'prank', 1833: 'texas', 1834: 'unlucky', 1835: 'grabbing', 1836: 'subject', 1837: 'anguished', 1838: 'rats', 1839: \"could've\", 1840: 'cute', 1841: 'elder', 1842: 'dancing', 1843: 'order', 1844: 'higher', 1845: 'gift', 1846: 'crawl', 1847: \"they'll\", 1848: 'parking', 1849: 'checking', 1850: 'military', 1851: 'cheers', 1852: 'walks', 1853: 'upon', 1854: 'afford', 1855: 'indignant', 1856: 'pockets', 1857: 'checks', 1858: 'cigarette', 1859: 'grunt', 1860: 'general', 1861: \"barney's\", 1862: 'fault', 1863: 'feelings', 1864: 'raising', 1865: 'wasting', 1866: 'nards', 1867: 'lottery', 1868: 'fair', 1869: 'whatcha', 1870: 'customer', 1871: 'aww', 1872: 'evil', 1873: 'fork', 1874: 'anniversary', 1875: 'woo-hoo', 1876: 'floor', 1877: 'push', 1878: 'closer', 1879: 'sweetly', 1880: 'corner', 1881: 'fool', 1882: 'root', 1883: 'sleep', 1884: 'thankful', 1885: 'har', 1886: 'above', 1887: 'screams', 1888: 'bunch', 1889: 'inspection', 1890: 'awful', 1891: 'paying', 1892: 'burning', 1893: 'likes', 1894: 'child', 1895: 'jack_larson:', 1896: 'james', 1897: 'accept', 1898: 'wearing', 1899: 'harder', 1900: 'bags', 1901: 'dreamed', 1902: \"father's\", 1903: 'coward', 1904: 'restaurants', 1905: 'reached', 1906: 'spread', 1907: 'thighs', 1908: 'measurements', 1909: 'wayne', 1910: 'wooden', 1911: 'easier', 1912: 'inspired', 1913: 'yards', 1914: 'dismissive', 1915: 'prefer', 1916: 'regret', 1917: 'smart', 1918: 'gals', 1919: 'positive', 1920: 'candidate', 1921: 'yogurt', 1922: 'comic', 1923: 'folk', 1924: \"dyin'\", 1925: \"weren't\", 1926: 'based', 1927: 'teenage_homer:', 1928: 'weary', 1929: 'acting', 1930: 'sweeter', 1931: 'eyeball', 1932: 'possibly', 1933: \"it'd\", 1934: 'salt', 1935: 'stealings', 1936: 'winnings', 1937: 'judge', 1938: 'w', 1939: 'ambrosia', 1940: 'wangs', 1941: 'ha-ha', 1942: 'sleeps', 1943: 'agent_johnson:', 1944: \"marge's\", 1945: 'answers', 1946: 'umm', 1947: 'intense', 1948: 'lowering', 1949: 'alfalfa', 1950: \"other's\", 1951: 'chilly', 1952: 'inspiring', 1953: 'product', 1954: 'bedroom', 1955: 'bigger', 1956: 'christopher', 1957: 'advance', 1958: 'waylon', 1959: 'familiar', 1960: 'authorized', 1961: 'obvious', 1962: 'celebrity', 1963: 'hired', 1964: 'doreen:', 1965: 'hollywood', 1966: 'kidney', 1967: 'mic', 1968: 'forehead', 1969: 'mob', 1970: 'bathroom', 1971: 'rage', 1972: 'reynolds', 1973: 'awe', 1974: 'bubbles', 1975: 'pulling', 1976: 'gorgeous', 1977: 'weirded-out', 1978: 'love-matic', 1979: 'famous', 1980: 'bear', 1981: 'listening', 1982: 'detecting', 1983: 'spy', 1984: 'reliable', 1985: 'solo', 1986: 'cutie', 1987: 'present', 1988: 'tax', 1989: 'cowboys', 1990: 'professor', 1991: 'towed', 1992: 'quality', 1993: 'appointment', 1994: 'charlie', 1995: 'website', 1996: 'acquaintance', 1997: 'reviews', 1998: \"drawin'\", 1999: 'wedding', 2000: 'lock', 2001: 'joined', 2002: 'therefore', 2003: 'angel', 2004: 'lenny:', 2005: 'bucket', 2006: 'gang', 2007: 'stinks', 2008: 'bam', 2009: 'awww', 2010: 'beneath', 2011: 'carll', 2012: 'purse', 2013: 'seek', 2014: 'mop', 2015: 'bully', 2016: 'bourbon', 2017: 'trick', 2018: \"countin'\", 2019: 'reporter:', 2020: 'tiny', 2021: 'mount', 2022: 'schnapps', 2023: 'crew', 2024: 'ah-ha', 2025: 'helped', 2026: 'roomy', 2027: 'bugging', 2028: 'heavyset', 2029: 'tanked-up', 2030: 'scully', 2031: 'boozy', 2032: 'exchange', 2033: \"maggie's\", 2034: 'clock', 2035: 'broadway', 2036: 'maya', 2037: 'regulars', 2038: 'attack', 2039: \"what're\", 2040: 'awesome', 2041: \"game's\", 2042: 'cola', 2043: 'memory', 2044: 'manage', 2045: 'reasons', 2046: 'railroad', 2047: 'draw', 2048: 'corporation', 2049: 'golf', 2050: 'ohh', 2051: 'simp-sonnnn', 2052: 'nasa', 2053: 'elephants', 2054: 'dials', 2055: 'wake', 2056: \"payin'\", 2057: 'sport', 2058: 'inflated', 2059: 'crossed', 2060: 'jobs', 2061: 'worth', 2062: 'correcting', 2063: 'wave', 2064: 'dan', 2065: 'queen', 2066: 'slightly', 2067: 'manager', 2068: 'cleaner', 2069: 'murmurs', 2070: 'whenever', 2071: \"bar's\", 2072: 'plum', 2073: 'courage', 2074: 'ech', 2075: 'sabermetrics', 2076: 'doug:', 2077: 'kyoto', 2078: 'trench', 2079: 'someday', 2080: 'goods', 2081: 'catching', 2082: 'deadly', 2083: 'fevered', 2084: 'jerky', 2085: 'securities', 2086: 'blew', 2087: 'deeply', 2088: 'thought_bubble_homer:', 2089: 'planet', 2090: 'isle', 2091: 'suing', 2092: 'whistles', 2093: 'color', 2094: 'koholic', 2095: 'restroom', 2096: 'punches', 2097: 'owner', 2098: 'don', 2099: 'warn', 2100: 'changes', 2101: \"ma'am\", 2102: 'saint', 2103: 'falcons', 2104: 'nope', 2105: 'alfred', 2106: 'carve', 2107: 'yawns', 2108: 'reserve', 2109: 'teddy', 2110: 'price', 2111: 'puts', 2112: 'ironed', 2113: 'wondering', 2114: 'cream', 2115: 'lise:', 2116: 'lucius', 2117: 'flag', 2118: 'jubilant', 2119: 'marmaduke', 2120: 'gentleman:', 2121: 'atlanta', 2122: 'smoothly', 2123: 'appear', 2124: 'stevie', 2125: 'code', 2126: 'nearly', 2127: 'wa', 2128: 'message', 2129: 'twin', 2130: 'gum', 2131: 'cotton', 2132: 'rap', 2133: 'plans', 2134: 'wrestling', 2135: 'cooler', 2136: 'duty', 2137: 'duel', 2138: 'yup', 2139: 'banquo', 2140: 'shakespeare', 2141: 'hail', 2142: 'plenty', 2143: 'onions', 2144: 'sec_agent_#2:', 2145: 'justice', 2146: 'european', 2147: 'commission', 2148: 'neil_gaiman:', 2149: 'jerry', 2150: 'stationery', 2151: 'cueball', 2152: 'sympathetic', 2153: 'wing', 2154: 'tabooger', 2155: 'disappeared', 2156: \"money's\", 2157: 'honor', 2158: 'fixed', 2159: 'civilization', 2160: 'blend', 2161: 'calmly', 2162: 'routine', 2163: 'costume', 2164: 'willy', 2165: 'befouled', 2166: 'weirder', 2167: 'products', 2168: 'filled', 2169: \"pope's\", 2170: 'promised', 2171: 'bridge', 2172: 'radio', 2173: 'billion', 2174: 'amount', 2175: 'boneheaded', 2176: 'ocean', 2177: \"hadn't\", 2178: 'koi', 2179: 'wade_boggs:', 2180: 'torn', 2181: 'decide', 2182: 'sea', 2183: 'craphole', 2184: 'assistant', 2185: 'relieved', 2186: 'discuss', 2187: 'dryer', 2188: '6', 2189: 'cruel', 2190: 'hotline', 2191: 'borrow', 2192: 'nerve', 2193: 'bastard', 2194: 'eventually', 2195: \"monroe's\", 2196: 'disgrace', 2197: 'latin', 2198: 'buried', 2199: 'queer', 2200: 'kicked', 2201: 'magazine', 2202: 'dessert', 2203: 'lurleen_lumpkin:', 2204: 'tv_announcer:', 2205: 'hangs', 2206: 'taps', 2207: 'louder', 2208: 'results', 2209: 'naked', 2210: 'aerosmith', 2211: 'broom', 2212: 'cheat', 2213: 'surprise', 2214: 'darkest', 2215: 'all-star', 2216: 'thoughtfully', 2217: 'priest', 2218: 'type', 2219: 'dennis_kucinich:', 2220: 'fabulous', 2221: 'laws', 2222: 'wordloaf', 2223: 'vacation', 2224: 'andalay', 2225: 'bible', 2226: 'linda', 2227: 'confident', 2228: 'bartenders', 2229: 'deacon', 2230: 'cheese', 2231: 'held', 2232: 'mmm', 2233: 'joking', 2234: 'highway', 2235: 'laney_fontaine:', 2236: \"bartender's\", 2237: 'crumble', 2238: 'un-sults', 2239: 'tester', 2240: 'written', 2241: 'shaken', 2242: 'informant', 2243: 'drawing', 2244: 'grade', 2245: 'reasonable', 2246: 'writers', 2247: \"'topes\", 2248: 'trapped', 2249: 'ball-sized', 2250: 'potato', 2251: 'baritone', 2252: 'lights', 2253: 'safer', 2254: 'pigs', 2255: 'freak', 2256: 'spied', 2257: 't-shirt', 2258: 'recall', 2259: 'yoo', 2260: 'yell', 2261: 'stir', 2262: 'suspicious', 2263: 'belong', 2264: 'jets', 2265: 'patient', 2266: 'grandmother', 2267: 'suds', 2268: 'smugglers', 2269: 'refund', 2270: 'seriously', 2271: 'corkscrew', 2272: 'asking', 2273: 'eyesore', 2274: 'combine', 2275: 'yours', 2276: 'mcstagger', 2277: 'raise', 2278: 'curious', 2279: 'expert', 2280: 'ziff', 2281: 'eighty-one', 2282: 'scrape', 2283: 'fresh', 2284: '250', 2285: 'brow', 2286: 'slyly', 2287: 'level', 2288: 'cigarettes', 2289: 'involved', 2290: 'greedy', 2291: 'gargoyle', 2292: 'maman', 2293: 'advantage', 2294: 'force', 2295: 'although', 2296: 'penny', 2297: 'prize', 2298: 'vote', 2299: 'contest', 2300: 'soap', 2301: 'therapist', 2302: 'memories', 2303: 'teacher', 2304: 'poet', 2305: 'mention', 2306: 'freeze', 2307: 'steel', 2308: 'excellent', 2309: 'boxing_announcer:', 2310: 'known', 2311: 'dough', 2312: 'rock', 2313: 'peanut', 2314: 'apartment', 2315: 'frog', 2316: 'project', 2317: 'complaint', 2318: 'lurleen', 2319: 'curds', 2320: 'energy', 2321: 'kindly', 2322: 'jailbird', 2323: 'drown', 2324: '7-year-old_brockman:', 2325: 'complaining', 2326: 'difficult', 2327: 'kramer', 2328: 'pride', 2329: 'painting', 2330: 'yelling', 2331: 'neighbor', 2332: 'sack', 2333: 'whether', 2334: 'self-made', 2335: 'stern', 2336: 'ringing', 2337: 'abandon', 2338: 'suspect', 2339: 'effects', 2340: 'ale', 2341: 'mona_simpson:', 2342: 'available', 2343: 'pleasant', 2344: 'flying', 2345: 'outlook', 2346: 'shoots', 2347: 'throwing', 2348: 'morlocks', 2349: 'underpants', 2350: 'loss', 2351: \"what'sa\", 2352: 'compliments', 2353: 'woman_bystander:', 2354: 'mall', 2355: 'ginger', 2356: 'director', 2357: 'tie', 2358: 'handle', 2359: \"hasn't\", 2360: 'so-called', 2361: 'admiration', 2362: 'lover', 2363: 'snorts', 2364: 'tommy', 2365: 'monkey', 2366: 'knife', 2367: 'cheery', 2368: 'fragile', 2369: 'seats', 2370: 'quotes', 2371: 'cookies', 2372: 'funds', 2373: 'cozy', 2374: \"cat's\", 2375: 'comedy', 2376: 'foil', 2377: 'forward', 2378: 'museum', 2379: 'dearest', 2380: 'creeps', 2381: 'wang', 2382: \"crawlin'\", 2383: 'laramie', 2384: 'aged_moe:', 2385: 'windex', 2386: 'heading', 2387: 'businessman_#1:', 2388: 'knees', 2389: 'conspiratorial', 2390: 'syrup', 2391: 'fictional', 2392: 'blown', 2393: 'aging', 2394: 'copy', 2395: \"waitin'\", 2396: 'department', 2397: 'bashir', 2398: \"homer's_brain:\", 2399: 'poking', 2400: 'meal', 2401: 'reaching', 2402: 'gator:', 2403: 'stranger:', 2404: 'wins', 2405: 'ugliest', 2406: 'bold', 2407: 'ahhh', 2408: 'karaoke', 2409: 'bears', 2410: 'brewed', 2411: 'academy', 2412: 'actors', 2413: 'bartending', 2414: 'male_inspector:', 2415: 'record', 2416: 'astronaut', 2417: 'mcbain', 2418: 'scary', 2419: 'completing', 2420: 'doreen', 2421: 'civic', 2422: 'joey_kramer:', 2423: 'joining', 2424: 'africa', 2425: 'skin', 2426: \"fallin'\", 2427: 'sudden', 2428: 'dreams', 2429: '_powers:', 2430: 'hawking:', 2431: 'b', 2432: 'naturally', 2433: 'multiple', 2434: 'bird', 2435: 'violations', 2436: 'ayyy', 2437: 'sitar', 2438: 'virtual', 2439: 'impatient', 2440: 'snow', 2441: 'troy_mcclure:', 2442: 'airport', 2443: 'bubble', 2444: 'lovely', 2445: 'prison', 2446: 'barf', 2447: 'stands', 2448: 'babe', 2449: 'needy', 2450: 'shower', 2451: 'pressure', 2452: 'henry', 2453: 'doll', 2454: 'soup', 2455: 'pian-ee', 2456: 'blues', 2457: \"meanin'\", 2458: 'somehow', 2459: 'relationship', 2460: 'certain', 2461: 'social', 2462: 'lap', 2463: 'mixed', 2464: 'shaggy', 2465: 'fondly', 2466: 'fanciest', 2467: 'warily', 2468: 'clinton', 2469: 'young_moe:', 2470: 'involving', 2471: 'pitch', 2472: 'putting', 2473: 'gums', 2474: 'arab_man:', 2475: 'straining', 2476: 'tick', 2477: 'helllp', 2478: 'miles', 2479: 'realized', 2480: 'germs', 2481: 'appealing', 2482: \"hangin'\", 2483: 'rainier_wolfcastle:', 2484: 'smug', 2485: 'century', 2486: 'refresh', 2487: 'scare', 2488: 'pointless', 2489: 'electronic', 2490: 'beam', 2491: 'superior', 2492: 'oof', 2493: 'thru', 2494: 'victory', 2495: '100', 2496: 'insightful', 2497: 'sneaky', 2498: 'wishes', 2499: 'thesaurus', 2500: 'shooting', 2501: 'pleading', 2502: 'tang', 2503: 'tofu', 2504: 'deliberate', 2505: 'smurfs', 2506: 'nudge', 2507: 'nigeria', 2508: 'balls', 2509: 'moe-clone:', 2510: 'devastated', 2511: 'nigerian', 2512: 'punk', 2513: 'conditioner', 2514: 'sale', 2515: \"beer's\", 2516: 'failed', 2517: 'realize', 2518: 'built', 2519: 'degradation', 2520: 'industry', 2521: 'watered-down', 2522: 'closes', 2523: 'sweetheart', 2524: 'decent', 2525: 'helen', 2526: 'freedom', 2527: 'shutting', 2528: 'swill', 2529: 'rolling', 2530: 'insulted', 2531: 'underbridge', 2532: 'ye', 2533: 'grandiose', 2534: 'granted', 2535: 'emotional', 2536: 'tries', 2537: 'patterns', 2538: 'reach', 2539: 'barkeep', 2540: 'greetings', 2541: 'delivery_boy:', 2542: 'bets', 2543: 'proposing', 2544: 'shock', 2545: 'standards', 2546: 'caused', 2547: 'feast', 2548: 'remains', 2549: 'grumpy', 2550: 'palm', 2551: 'carlson', 2552: 'row', 2553: 'chum', 2554: 'between', 2555: 'sausage', 2556: 'satisfaction', 2557: 'blood-thirsty', 2558: 'murmur', 2559: 'boyfriend', 2560: 'begins', 2561: 'lush', 2562: 'mortgage', 2563: 'roses', 2564: 'fighting', 2565: 'champ', 2566: 'slight', 2567: 'prayer', 2568: 'vodka', 2569: 'percent', 2570: 'grave', 2571: 'calculate', 2572: \"someone's\", 2573: 'cake', 2574: 'prove', 2575: 'square', 2576: 'shrugs', 2577: 'dropped', 2578: 'benefits', 2579: 'payments', 2580: 'allowed', 2581: 'pleasure', 2582: 'disapproving', 2583: 'trolls', 2584: 'sandwich', 2585: 'gun', 2586: 'rounds', 2587: 'superhero', 2588: 'tenor:', 2589: 'david', 2590: 'minister', 2591: \"tester's\", 2592: 'organ', 2593: 'fausto', 2594: 'giggles', 2595: 'mm', 2596: 'defeated', 2597: 'internet', 2598: 'wings', 2599: '1895', 2600: 'hunting', 2601: 'bedbugs', 2602: 'sissy', 2603: 'utility', 2604: 'cops', 2605: 'bush', 2606: 'grienke', 2607: 'cars', 2608: 'voice:', 2609: 'seemed', 2610: 'retired', 2611: 'rolled', 2612: 'candy', 2613: 'confidence', 2614: 'fritz', 2615: 'passion', 2616: 'fudd', 2617: 'marguerite:', 2618: 'steak', 2619: 'delivery', 2620: 'shrugging', 2621: 'i-i-i', 2622: 'wash', 2623: 'motorcycle', 2624: 'beating', 2625: 'mess', 2626: 'morose', 2627: 'bums', 2628: 'satisfied', 2629: 'juice', 2630: 'remembering', 2631: 'admiring', 2632: 'politics', 2633: 'themselves', 2634: 'hibbert', 2635: 'sometimes', 2636: \"showin'\", 2637: 'smile:', 2638: 'planning', 2639: 'judge_snyder:', 2640: 'remembered', 2641: 'disco', 2642: 'paid', 2643: 'hats', 2644: 'fuss', 2645: 'missed', 2646: 'agreement', 2647: 'waltz', 2648: 'prohibit', 2649: 'express', 2650: 'beats', 2651: 'bump', 2652: 'corporate', 2653: 'joke', 2654: 'awed', 2655: 'aggravated', 2656: \"others'\", 2657: \"wonderin'\", 2658: 'lighting', 2659: 'interested', 2660: 'successful', 2661: \"children's\", 2662: 'krabappel', 2663: 'fox_mulder:', 2664: \"town's\", 2665: 'teams', 2666: 'beep', 2667: 'managing', 2668: 'medicine', 2669: 'fold', 2670: 'matter-of-fact', 2671: 'cent', 2672: \"readin'\", 2673: 'jeff', 2674: 'shoo', 2675: 'terrific', 2676: 'unfortunately', 2677: 'voice_on_transmitter:', 2678: 'solid', 2679: 'space', 2680: 'irish', 2681: 'village', 2682: 'gifts', 2683: 'explain', 2684: 'muttering', 2685: 'poker', 2686: 'self-esteem', 2687: 'vampires', 2688: 'seas', 2689: 'cowardly', 2690: 'woozy', 2691: 'sooner', 2692: 'tale', 2693: 'large', 2694: 'alphabet', 2695: 'excitement', 2696: 'rumaki', 2697: 'admitting', 2698: 'attempting', 2699: 'violin', 2700: 'snap', 2701: 'hitler', 2702: 'barely', 2703: 'festival', 2704: 'trusted', 2705: 'important', 2706: 'diamond', 2707: 'princesses', 2708: \"takin'\", 2709: 'dames', 2710: 'sat', 2711: 'dating', 2712: 'poem', 2713: 'prepared', 2714: 'hobo', 2715: 'chicks', 2716: 'value', 2717: 'considering', 2718: 'deserve', 2719: 'scooter', 2720: 'animals', 2721: 'mail', 2722: 'skirt', 2723: 'bottles', 2724: 'genius', 2725: 'stuck', 2726: 'snake-handler', 2727: 'porn', 2728: \"shan't\", 2729: 'roz:', 2730: 'gosh', 2731: 'jockey', 2732: 'honored', 2733: 'sector', 2734: 'camp', 2735: 'lloyd', 2736: 'extremely', 2737: 'effervescent', 2738: 'tentative', 2739: 'coins', 2740: 'handing', 2741: 'hop', 2742: \"team's\", 2743: 'lazy', 2744: 'recently', 2745: 'brave', 2746: 'frosty', 2747: 'drank', 2748: 'shoulder', 2749: 'homers', 2750: 'effigy', 2751: 'bash', 2752: 'spent', 2753: 'anywhere', 2754: 'manjula', 2755: 'partly', 2756: 'thirteen', 2757: 'placing', 2758: 'grimly', 2759: 'thanksgiving', 2760: 'mate', 2761: 'dress', 2762: 'pretending', 2763: 'pirate', 2764: 'rhyme', 2765: 'release', 2766: 'began', 2767: 'generous', 2768: 'awwww', 2769: 'medical', 2770: 'd', 2771: 'ollie', 2772: 'brothers', 2773: 'riding', 2774: 'plywood', 2775: 'eighty-seven', 2776: 'fox', 2777: 'strategy', 2778: 'white', 2779: 'standing', 2780: 'boxer', 2781: 'pint', 2782: 'grab', 2783: 'margarita', 2784: 'choking', 2785: 'forgive', 2786: 'skeptical', 2787: 'denser', 2788: 'playful', 2789: 'smoke', 2790: 'floated', 2791: 'peppy', 2792: 'twice', 2793: 'sugar', 2794: 'brassiest', 2795: 'raccoons', 2796: 'dungeon', 2797: 'is:', 2798: 'formico', 2799: 'conversation', 2800: 'chase', 2801: 'belt', 2802: 'anarchy', 2803: 'klingon', 2804: 'ways', 2805: 'witty', 2806: 'guide', 2807: 'bread', 2808: 'lib', 2809: 'zero', 2810: 'pin', 2811: 'nickels', 2812: 'answering', 2813: 'photo', 2814: \"ladies'\", 2815: 'vulnerable', 2816: 'patty', 2817: 'distributor', 2818: 'near', 2819: 'friendship', 2820: 'neither', 2821: 'smallest', 2822: 'dee-fense', 2823: 'sports_announcer:', 2824: \"springfield's\", 2825: 'rule', 2826: 'continuing', 2827: 'increasingly', 2828: 'santa', 2829: 'jebediah', 2830: 'charm', 2831: 'mumbling', 2832: \"patrick's\", 2833: 'badges', 2834: 'inspire', 2835: 'bret', 2836: 'slice', 2837: 'forbidden', 2838: 'talked', 2839: 'roof', 2840: 'studio', 2841: 'passed', 2842: 'sinister', 2843: 'served', 2844: 'neat', 2845: 'media', 2846: 'attitude', 2847: 'action', 2848: 'labels', 2849: 'cat', 2850: 'sodas', 2851: 'pope', 2852: 'danish', 2853: 'rules', 2854: 'ragtime', 2855: 'pond', 2856: 'crying', 2857: 'louie:', 2858: 'bride', 2859: 'conference', 2860: 'firmly', 2861: 'page', 2862: \"chewin'\", 2863: 'carl:', 2864: 'vacuum', 2865: 'finishing', 2866: 'busted', 2867: 'achem', 2868: 'charity', 2869: 'jumps', 2870: 'pouring', 2871: 'expression', 2872: 'ripcord', 2873: 'yourselves', 2874: 'entirely', 2875: 'compared', 2876: 'troy', 2877: 'decency', 2878: 'bathing', 2879: 'discussing', 2880: \"'im\", 2881: 'liar', 2882: 'alcoholic', 2883: 'padre', 2884: 'pad', 2885: 'haw', 2886: \"'tis\", 2887: 'due', 2888: \"buffalo's\", 2889: 'investor', 2890: 'agree', 2891: 'wolfe', 2892: 'formico:', 2893: 'brightening', 2894: 'churchill', 2895: 'sour', 2896: 'reluctant', 2897: 'salvation', 2898: 'painless', 2899: 'seductive', 2900: 'chapter', 2901: 'spellbinding', 2902: 'lenford', 2903: 'telephone', 2904: 'hears', 2905: 'enterprising', 2906: 'avenue', 2907: 'homesick', 2908: 'sperm', 2909: 'spitting', 2910: 'versus', 2911: 'followed', 2912: 'larson', 2913: 'asks', 2914: 'bedtime', 2915: 'quero', 2916: \"cont'd:\", 2917: \"'ere\", 2918: 'flanders:', 2919: 'actor', 2920: 'knowingly', 2921: 'term', 2922: 'brawled', 2923: 'inning', 2924: 'various', 2925: 'newsweek', 2926: 'woe:', 2927: 'yammering', 2928: 'science', 2929: 'majority', 2930: 'expecting', 2931: 'repeating', 2932: 'demo', 2933: 'cheryl', 2934: 'moving', 2935: 'consulting', 2936: 'onto', 2937: 'toe', 2938: 'aims', 2939: 'orgasmville', 2940: 'common', 2941: 'confession', 2942: 'heaving', 2943: 'ura', 2944: 'brag', 2945: 'blurbs', 2946: 'supervising', 2947: 'ihop', 2948: 'tummies', 2949: 'exhibit', 2950: \"toot's\", 2951: 'eww', 2952: 'jubilation', 2953: 'rom', 2954: 'statue', 2955: 'gil_gunderson:', 2956: 'dies', 2957: 'envy-tations', 2958: 'ecru', 2959: 'director:', 2960: \"collector's\", 2961: 'fire_inspector:', 2962: 'cure', 2963: 'kennedy', 2964: 'brick', 2965: 'determined', 2966: 'monkeyshines', 2967: 'hugh', 2968: 'necessary', 2969: 'swings', 2970: 'savvy', 2971: \"getting'\", 2972: 'other_player:', 2973: 'macbeth', 2974: 'stars', 2975: 'falsetto', 2976: 'newspaper', 2977: 'poke', 2978: \"mo'\", 2979: 'elocution', 2980: 'carmichael', 2981: 'chuck', 2982: 'accelerating', 2983: 'worthless', 2984: 'beligerent', 2985: 'aid', 2986: 'diablo', 2987: 'shag', 2988: 'collapse', 2989: 'mild', 2990: 'dyspeptic', 2991: 'fights', 2992: 'rented', 2993: 'lorre', 2994: 'looser', 2995: 'dumb-asses', 2996: 'traitor', 2997: \"fans'll\", 2998: 'motor', 2999: 'eco-fraud', 3000: 'f-l-a-n-r-d-s', 3001: 'sponge', 3002: 'ends', 3003: 'blinded', 3004: \"tatum'll\", 3005: 'fired', 3006: 'chairman', 3007: \"can'tcha\", 3008: 'heart-broken', 3009: 'replace', 3010: 'kadlubowski', 3011: 'generously', 3012: 'computer_voice_2:', 3013: 'student', 3014: 'rubs', 3015: 'unlocked', 3016: 'sounded', 3017: 'awfully', 3018: 'swan', 3019: 'mill', 3020: 'scarf', 3021: 'stagehand:', 3022: 'st', 3023: 'zoomed', 3024: 'virile', 3025: 'laney', 3026: 'sales', 3027: 'applesauce', 3028: 'knit', 3029: 'tease', 3030: 'good-looking', 3031: 'wealthy', 3032: \"larry's\", 3033: \"dimwit's\", 3034: 'montrer', 3035: 'offensive', 3036: \"tv's\", 3037: 'gin-slingers', 3038: \"b-52's:\", 3039: \"rustlin'\", 3040: 'over-pronouncing', 3041: 'wiping', 3042: 'excuses', 3043: 'icelandic', 3044: 'fierce', 3045: 'sizes', 3046: \"y'see\", 3047: 'fad', 3048: 'average-looking', 3049: 'slab', 3050: 'kucinich', 3051: 'however', 3052: 'hah', 3053: 'minus', 3054: 'brainiac', 3055: 'inserted', 3056: 'recreate', 3057: \"duelin'\", 3058: 'station', 3059: 'comedies', 3060: 'looting', 3061: 'ehhh', 3062: 'driveability', 3063: 'rent', 3064: 'series', 3065: 'stamps', 3066: 'cocoa', 3067: 'longest', 3068: 'hops', 3069: \"disrobin'\", 3070: 'eu', 3071: 'feisty', 3072: 'snackie', 3073: 'tying', 3074: 'watashi', 3075: 'ho-ly', 3076: 'desire', 3077: 'prep', 3078: 'read:', 3079: \"man's\", 3080: 'coughs', 3081: 'lighter', 3082: 'quimby', 3083: 'luckiest', 3084: 'half-back', 3085: 'synthesize', 3086: 'linda_ronstadt:', 3087: 'lovers', 3088: 'ears', 3089: 'quimbys:', 3090: 'damned', 3091: \"washin'\", 3092: 'freshened', 3093: 'gore', 3094: 'perverted', 3095: 'crestfallen', 3096: 'administration', 3097: 'scram', 3098: 'uses', 3099: \"queen's\", 3100: 'premiering', 3101: 'misconstrue', 3102: 'bluff', 3103: 'eighty-three', 3104: 'filth', 3105: 'bake', 3106: 'unrelated', 3107: 'obama', 3108: 'switched', 3109: 'churchy', 3110: 'schabadoo', 3111: 'county', 3112: 'aiden', 3113: 'add', 3114: 'joy', 3115: 'thousands', 3116: 'videotaped', 3117: 'painted', 3118: 'eve', 3119: \"squeezin'\", 3120: 'aged', 3121: \"startin'\", 3122: 'amiable', 3123: 'runs', 3124: 'ref', 3125: 'mac-who', 3126: 'poisoning', 3127: 'replaced', 3128: 'barbed', 3129: 'spilled', 3130: 'design', 3131: 'puzzle', 3132: 'open-casket', 3133: 'courts', 3134: 'statues', 3135: 'picked', 3136: 'starla:', 3137: 'hammy', 3138: 'clothespins', 3139: 'straighten', 3140: 'peaked', 3141: 'sledge-hammer', 3142: 'stops', 3143: 'sweden', 3144: 'itchy', 3145: 'ohhhh', 3146: 'grants', 3147: 'squeeze', 3148: 'salvador', 3149: 'playoff', 3150: 'fireworks', 3151: 'pillows', 3152: 'seething', 3153: 'bones', 3154: 'backward', 3155: 'certificate', 3156: 'koji', 3157: 'chorus:', 3158: 'slays', 3159: 'kneeling', 3160: 'territorial', 3161: 'raking', 3162: \"wino's\", 3163: 'el', 3164: 'exquisite', 3165: 'cheated', 3166: 'yelp', 3167: 'plucked', 3168: 'rekindle', 3169: 'four-drink', 3170: 'damage', 3171: 'scum-sucking', 3172: 'composite', 3173: 'family-owned', 3174: 'grammy', 3175: 'seamstress', 3176: 'encouraging', 3177: 'pregnancy', 3178: 'captain', 3179: 'depression', 3180: 'lotsa', 3181: 'bragging', 3182: 'nonchalantly', 3183: 'guinea', 3184: 'kidnaps', 3185: 'courthouse', 3186: 'sagacity', 3187: 'customers-slash-only', 3188: 'robin', 3189: 'handling', 3190: 'sexton', 3191: 'sleeping', 3192: 'catholic', 3193: 'scout', 3194: 'groin', 3195: 'lifts', 3196: 'chip', 3197: \"son's\", 3198: 'clincher', 3199: 'faulkner', 3200: \"edna's\", 3201: 'frogs', 3202: 'avalanche', 3203: 'flew', 3204: 'mumble', 3205: '14', 3206: 'gr-aargh', 3207: 'tall', 3208: 'earth', 3209: 'advertising', 3210: 'birthplace', 3211: \"usin'\", 3212: 'romance', 3213: 'casting', 3214: 'ninth', 3215: 'hubub', 3216: 'marjorie', 3217: 'hero-phobia', 3218: 'expense', 3219: 'dum-dum', 3220: 'sideshow_bob:', 3221: 'drunkening', 3222: 'ate', 3223: 'menacing', 3224: 'go-near-', 3225: 'olive', 3226: 'audience:', 3227: 'friend:', 3228: 'awareness', 3229: 'dingy', 3230: '3rd_voice:', 3231: 'kinderhook', 3232: 'jig', 3233: 'yello', 3234: 'adrift', 3235: 'twelveball', 3236: 'mouths', 3237: 'cab_driver:', 3238: 'chili', 3239: 'dumbest', 3240: 'scent', 3241: 'equal', 3242: \"bo's\", 3243: 'ballclub', 3244: 'wage', 3245: 'supermodel', 3246: 'compressions', 3247: 'sugar-me-do', 3248: \"wouldn't-a\", 3249: 'pretentious_rat_lover:', 3250: 'browns', 3251: 'creates', 3252: 'blowfish', 3253: 'charges', 3254: 'attach', 3255: 'moe_recording:', 3256: 'anthony_kiedis:', 3257: \"america's\", 3258: 'species', 3259: 'onassis', 3260: \"smackin'\", 3261: 'race', 3262: \"tab's\", 3263: 'permitting', 3264: 'dea-d-d-dead', 3265: 'boston', 3266: 'missing', 3267: 'inquiries', 3268: 'terror', 3269: 'nucular', 3270: 'goo', 3271: 'law-abiding', 3272: 'oils', 3273: 'mistresses', 3274: 'simple', 3275: 'meyerhof', 3276: 'tracks', 3277: 'offshoot', 3278: 'disappear', 3279: 'balloon', 3280: 'considering:', 3281: 'southern', 3282: 'waitress', 3283: 'curiosity', 3284: 'intakes', 3285: 'brunch', 3286: 'soft', 3287: 'diets', 3288: \"y'money's\", 3289: 'passenger', 3290: 'branding', 3291: 'remorseful', 3292: 'accounta', 3293: 'streetcorner', 3294: 'someplace', 3295: 'visas', 3296: 'bushes', 3297: 'uglier', 3298: 'a-lug', 3299: 'reactions', 3300: 'pantry', 3301: 'bursts', 3302: 'mmm-hmm', 3303: 'foundation', 3304: 'souped', 3305: 'grammys', 3306: 'squashing', 3307: 'equivalent', 3308: 'inches', 3309: 'pigtown', 3310: 'annoying', 3311: 'preparation', 3312: 'wondered', 3313: 'reptile', 3314: 'attraction', 3315: 'flush-town', 3316: 'play/', 3317: 'pip', 3318: 'principles', 3319: 'installed', 3320: 'repairman', 3321: 'maitre', 3322: 'bide', 3323: 'düff', 3324: 'shoulders', 3325: 'vigilante', 3326: 'activity', 3327: \"she'd\", 3328: 'cases', 3329: 'mortal', 3330: 'bedridden', 3331: 'jobless', 3332: 'grubby', 3333: 'nurse', 3334: 'guzzles', 3335: 'slurred', 3336: 'goldarnit', 3337: 'mix', 3338: 'winner', 3339: 'feminist', 3340: 'crowds', 3341: 'voodoo', 3342: 'wars', 3343: 'thrust', 3344: 'pronounce', 3345: 'beard', 3346: 'guff', 3347: 'twelve-step', 3348: 'nuked', 3349: 'reward', 3350: 'sticking-place', 3351: 'complicated', 3352: 'domed', 3353: 'sucking', 3354: 'sucker', 3355: 'noggin', 3356: 'plastered', 3357: 'mint', 3358: 'grub', 3359: 'living', 3360: 'signed', 3361: 'way:', 3362: 'sweaty', 3363: \"starla's\", 3364: 'dull', 3365: 'mason', 3366: 'sedaris', 3367: 'applicant', 3368: 'slugger', 3369: 'lady-free', 3370: 'wore', 3371: 'hike', 3372: 'macho', 3373: 'aidens', 3374: 'poplar', 3375: 'manchego', 3376: 'savings', 3377: 'cats', 3378: 'pizzicato', 3379: 'enthusiasm', 3380: 'technical', 3381: 'alternative', 3382: 'lumpa', 3383: 'polish', 3384: 'reporter', 3385: 'woooooo', 3386: 'navy', 3387: 'grrrreetings', 3388: 'author', 3389: 'extract', 3390: 'surprising', 3391: 'coal', 3392: 'safely', 3393: 'specials', 3394: 'dawning', 3395: 'bulldozing', 3396: 'fountain', 3397: 'glee', 3398: 'herself', 3399: 'buddies', 3400: 'spare', 3401: 'handwriting', 3402: 'cuckoo', 3403: 'schemes', 3404: 'photographer', 3405: \"somethin's\", 3406: '2', 3407: 'brakes', 3408: 'remembers', 3409: 'boned', 3410: 'windowshade', 3411: 'sang', 3412: 'journey', 3413: 'slogan', 3414: 'flown', 3415: 'fledgling', 3416: 'intelligent', 3417: 'managed', 3418: 'credit', 3419: 'mediterranean', 3420: 'wienerschnitzel', 3421: 'answered', 3422: 'telemarketing', 3423: 'brunswick', 3424: 'girl-bart', 3425: 'addiction', 3426: 'cobra', 3427: 'filed', 3428: 'asleep', 3429: \"cupid's\", 3430: 'oh-so-sophisticated', 3431: 'ticks', 3432: 'sight-unseen', 3433: 'heartily', 3434: 'pre-game', 3435: \"thinkin'\", 3436: 'robot', 3437: 'passes', 3438: 'mini-beret', 3439: 'carpet', 3440: 'shades', 3441: 'diapers', 3442: \"'\", 3443: 'patron_#1:', 3444: 'musketeers', 3445: 'ruint', 3446: 'small_boy:', 3447: 'partially', 3448: 'closet', 3449: 'odor', 3450: 'smitty:', 3451: 'guilt', 3452: 'process', 3453: \"pullin'\", 3454: 'jacksons', 3455: 'homer_doubles:', 3456: 'africanized', 3457: 'presided', 3458: 'destroyed', 3459: 'mathis', 3460: 'aggie', 3461: 'bon-bons', 3462: 'sets', 3463: 'rude', 3464: 'feedbag', 3465: 'begin', 3466: 'purveyor', 3467: 'audience', 3468: 'victim', 3469: 'souvenir', 3470: 'twerpy', 3471: 'advertise', 3472: 'bleacher', 3473: 'wildest', 3474: 'designer', 3475: 'schedule', 3476: 'boxcars', 3477: 'insurance', 3478: 'sagely', 3479: 'shelf', 3480: 'fiction', 3481: 'playhouse', 3482: 'zone', 3483: 'soul-crushing', 3484: 'rat-like', 3485: 'lift', 3486: \"feelin's\", 3487: 'flea:', 3488: 'enthused', 3489: 'guts', 3490: 'sistine', 3491: 'heals', 3492: 'pasta', 3493: 'dreary', 3494: 'peeved', 3495: 'thought_bubble_lenny:', 3496: 'whispered', 3497: 'dumptruck', 3498: 'doof', 3499: 'intention', 3500: 'eats', 3501: \"fightin'\", 3502: \"donatin'\", 3503: 'a-b-', 3504: 'lecture', 3505: 'getcha', 3506: 'football', 3507: 'colossal', 3508: \"doctor's\", 3509: \"neat's-foot\", 3510: 'bumped', 3511: 'rasputin', 3512: 'kearney_zzyzwicz:', 3513: 'grease', 3514: 'specified', 3515: 'stonewall', 3516: 'deliberately', 3517: 'cleaning', 3518: 'elizabeth', 3519: '70', 3520: 'online', 3521: 'popping', 3522: 'toms', 3523: 'amends', 3524: 'archaeologist', 3525: 'eighty-six', 3526: 'malfeasance', 3527: 'lofty', 3528: 'whoa-ho', 3529: 'oughta', 3530: 'continuum', 3531: 'rainbows', 3532: 'catty', 3533: 'glamour', 3534: 'fistiana', 3535: 'prompting', 3536: 'dean', 3537: 'meaningfully', 3538: 'notably', 3539: 'phrase', 3540: '/mr', 3541: 'lawyer', 3542: 'apply', 3543: '3', 3544: 'cecil_terwilliger:', 3545: 'philosophic', 3546: 'overstressed', 3547: 'gayer', 3548: 'illegally', 3549: 'itself', 3550: 'clammy', 3551: 'paintings', 3552: 'poetics', 3553: 'bad-mouth', 3554: 'shindig', 3555: \"must've\", 3556: 'grateful', 3557: 'kinds', 3558: 'tire', 3559: 'coms', 3560: 'champs', 3561: 'swine', 3562: 'snapping', 3563: 'unusually', 3564: 'remain', 3565: 'meditative', 3566: 'graves', 3567: 'notch', 3568: 'y-you', 3569: 'moe-clone', 3570: 'supplying', 3571: 'one-hour', 3572: 'fella', 3573: 'refreshingness', 3574: 'entertainer', 3575: 'exact', 3576: 'moonlight', 3577: 'introduce', 3578: 'darjeeling', 3579: 'cricket', 3580: 'je', 3581: 'fustigate', 3582: 'maxed', 3583: 'wild', 3584: 'muertos', 3585: 'sheets', 3586: 'handler', 3587: 'super-tough', 3588: 'finish', 3589: 'drapes', 3590: 'shtick', 3591: 'hooky', 3592: 'enlightened', 3593: 'notices', 3594: 'iran', 3595: 'scornfully', 3596: 'sucks', 3597: 'wham', 3598: 'scratching', 3599: 'parked', 3600: \"blowin'\", 3601: 'nachos', 3602: 'ironic', 3603: 'wreck', 3604: 'bouquet', 3605: 'pack', 3606: 'carefully', 3607: 'soaked', 3608: 'exited', 3609: 'acronyms', 3610: 'badly', 3611: 'hearing', 3612: 'conclusions', 3613: 'polygon', 3614: 'said:', 3615: 'shesh', 3616: 'cyrano', 3617: 'drinker', 3618: 'prizefighters', 3619: 'ze-ro', 3620: 'las', 3621: 'cuddling', 3622: 'runt', 3623: 'solely', 3624: 'fell', 3625: 'sturdy', 3626: 'absolut', 3627: 'strongly', 3628: 'attend', 3629: 'kickoff', 3630: 'nitwit', 3631: \"lady's\", 3632: 'beast', 3633: \"g'ahead\", 3634: 'multi-purpose', 3635: 'crapmore', 3636: 'acquitted', 3637: 'rolls', 3638: 'loneliness', 3639: \"kearney's_dad:\", 3640: 'crooks', 3641: 'the_edge:', 3642: 'traitors', 3643: 'heroism', 3644: 'pretend', 3645: 'high-definition', 3646: \"'cept\", 3647: 'plotz', 3648: 'bobo', 3649: 'impeach', 3650: 'score', 3651: 'droning', 3652: 'accusing', 3653: 'bono', 3654: \"spaghetti-o's\", 3655: 'saucy', 3656: 'newly-published', 3657: 'mckinley', 3658: \"nick's\", 3659: 'beanbag', 3660: 'shifty', 3661: 'gabriel', 3662: 'smelly', 3663: 'astonishment', 3664: 'blinds', 3665: 'intruding', 3666: 'startup', 3667: 'tomahto', 3668: 'emergency', 3669: 'reaction', 3670: 'diddilies', 3671: 'tigers', 3672: 'weekend', 3673: 'pyramid', 3674: 'pepper', 3675: 'cheered', 3676: 'syndicate', 3677: 'rockers', 3678: 'padres', 3679: 'zack', 3680: 'contemplated', 3681: 'radiator', 3682: 'bounced', 3683: 'gutenberg', 3684: 'backgammon', 3685: 'y', 3686: 'muscle', 3687: 'pepto-bismol', 3688: 'capitol', 3689: 'nature', 3690: 'blackjack', 3691: 'occupied', 3692: 'ore', 3693: \"games'd\", 3694: 'hearts', 3695: 'teen', 3696: 'transylvania', 3697: 'intoxicated', 3698: '10:15', 3699: 'terrace', 3700: 'effect', 3701: 'gotcha', 3702: 'grind', 3703: 'annie', 3704: 'mexicans', 3705: 'crushed', 3706: 'older', 3707: 'failure', 3708: 'heck', 3709: 'breakfast', 3710: 'investigating', 3711: 'ding-a-ding-ding-ding-ding-ding-ding', 3712: 'appearance-altering', 3713: 'difference', 3714: 'hispanic_crowd:', 3715: 'depressed', 3716: 'fuzzlepitch', 3717: 'disaster', 3718: 'crippling', 3719: 'attractive_woman_#2:', 3720: 'demand', 3721: 'anxious', 3722: 'infestation', 3723: 'wakede', 3724: 'chipped', 3725: \"industry's\", 3726: 'brandy', 3727: 'cupid', 3728: 'alibi', 3729: 'bits', 3730: 'self-centered', 3731: 'enthusiastically', 3732: 'presto:', 3733: 'doppler', 3734: 'pets', 3735: 'physical', 3736: 'drawn', 3737: 'awake', 3738: 'non-american', 3739: 'victorious', 3740: 'squad', 3741: 'non-losers', 3742: 'fat_in_the_hat:', 3743: 'lee', 3744: 'wh', 3745: 'blubberino', 3746: 'country-fried', 3747: 'pizza', 3748: 'drove', 3749: 'supermarket', 3750: 'ebullient', 3751: '-ry', 3752: 'pushes', 3753: 'musta', 3754: 'nick', 3755: 'combines', 3756: 'frankie', 3757: 'employees', 3758: 'furry', 3759: 'blooded', 3760: 'influence', 3761: 'shaky', 3762: 'statistician', 3763: 'capitalists', 3764: 'cause', 3765: 'model', 3766: 'junkyard', 3767: \"school's\", 3768: 'omit', 3769: 'permanent', 3770: 'name:', 3771: 'dimly', 3772: 'strangles', 3773: \"eatin'\", 3774: 'male_singers:', 3775: 'groan', 3776: 'pine', 3777: 'cherry', 3778: 'further', 3779: 'eggshell', 3780: 'fluoroscope', 3781: 'contract', 3782: 'eternity', 3783: \"nothin's\", 3784: 'tapered', 3785: 'pledge', 3786: 'undated', 3787: 'bartholomé:', 3788: 'tropical', 3789: 'mansions', 3790: 'mines', 3791: 'dennis', 3792: \"s'cuse\", 3793: 'sneak', 3794: 'conversations', 3795: 'cuz', 3796: 'handshake', 3797: 'appalled', 3798: '91', 3799: 'chubby', 3800: 'strips', 3801: \"cashin'\", 3802: 'tar-paper', 3803: 'drinking:', 3804: 'asses', 3805: 'hot-rod', 3806: 'friday', 3807: \"elmo's\", 3808: 'cosmetics', 3809: 'moon-bounce', 3810: 'meaning', 3811: 'ehhhhhhhh', 3812: 'blossoming', 3813: 'expensive', 3814: 'arse', 3815: 'larry', 3816: 'compadre', 3817: 'option', 3818: 'hiding', 3819: 'lurks', 3820: 'bleeding', 3821: 'generosity', 3822: \"somebody's\", 3823: 'training', 3824: 'swe-ee-ee-ee-eet', 3825: 'unfresh', 3826: 'gardens', 3827: 'fortress', 3828: 'murdoch', 3829: 'half-day', 3830: 'beer-jerks', 3831: 'sympathizer', 3832: 'temple', 3833: 'dignified', 3834: 'hooked', 3835: 'renew', 3836: 'marvelous', 3837: 'dna', 3838: \"mcstagger's\", 3839: 'habit', 3840: 'contemplates', 3841: 'packets', 3842: 'dana_scully:', 3843: 'naegle', 3844: 'confidentially', 3845: 'mock-up', 3846: 'upsetting', 3847: 'oopsie', 3848: 'kenny', 3849: 'plums', 3850: 'shriners', 3851: 'mini-dumpsters', 3852: 'thawing', 3853: 'ghouls', 3854: 'birth', 3855: 'cloudy', 3856: 'ditched', 3857: 'scratcher', 3858: 'injury', 3859: 'cooking', 3860: 'albert', 3861: 'groveling', 3862: 'natured', 3863: 'juke', 3864: 'congoleum', 3865: 'certainly', 3866: 'caper', 3867: 'captain:', 3868: 'sight', 3869: 'focused', 3870: \"somethin':\", 3871: 'exchanged', 3872: 'presses', 3873: 'temporarily', 3874: \"when's\", 3875: 'urge', 3876: 'rebuttal', 3877: 'tow', 3878: 'richard:', 3879: 'tear', 3880: 'choices', 3881: 'vermont', 3882: 'fills', 3883: 'pawed', 3884: \"jimbo's_dad:\", 3885: 'moe-lennium', 3886: 'irs', 3887: 'oooh', 3888: 'villanova', 3889: 'founded', 3890: 'peabody', 3891: 'canyoner-oooo', 3892: 'alter', 3893: 'incapable', 3894: 'washouts', 3895: 'walther', 3896: 'result', 3897: \"choosin'\", 3898: 'badmouths', 3899: 'i/you', 3900: 'protesters', 3901: 'snide', 3902: 'encores', 3903: \"'round\", 3904: 'fletcherism', 3905: 'authenticity', 3906: 'hanh', 3907: 'repay', 3908: 'exits', 3909: 'unable', 3910: 'drains', 3911: 'dumbass', 3912: 'griffith', 3913: 'moustache', 3914: 'dint', 3915: 'mission', 3916: \"s'pose\", 3917: 'england', 3918: 'extended', 3919: 'kissingher', 3920: 'panicked', 3921: 'tomato', 3922: \"high-falutin'\", 3923: 'arise', 3924: 'patrons', 3925: 'clown-like', 3926: 'punishment', 3927: 'fruit', 3928: 'cushion', 3929: 'banned', 3930: 'rupert_murdoch:', 3931: 'confidential', 3932: 'mommy', 3933: 'newsletter', 3934: 'pernt', 3935: 'pinball', 3936: 'headhunters', 3937: 'fourteen:', 3938: 'dressing', 3939: 'royal', 3940: 'insured', 3941: 'title:', 3942: 'bill_james:', 3943: 'agents', 3944: 'wrecking', 3945: 'plaintive', 3946: 'generally', 3947: 'reality', 3948: 'mabel', 3949: 'ling', 3950: 'militia', 3951: 'gear-head', 3952: 'sideshow', 3953: 'including', 3954: 'butter', 3955: 'hibachi', 3956: 'pee', 3957: 'fools', 3958: 'progress', 3959: 'bothered', 3960: 'cakes', 3961: 'spits', 3962: \"wait'll\", 3963: 'emphasis', 3964: 'starlets', 3965: 'man_at_bar:', 3966: 'cletus_spuckler:', 3967: 'creature', 3968: 'provide', 3969: 'dexterous', 3970: 'sixteen', 3971: 'heather', 3972: 'upgrade', 3973: 'stab', 3974: 'schorr', 3975: 'theory', 3976: 'hat', 3977: 'publishers', 3978: 'items', 3979: 'thrown', 3980: 'puke-holes', 3981: 'manatee', 3982: 'mis-statement', 3983: 'effervescence', 3984: 'rainier', 3985: 'whoopi', 3986: 'pajamas', 3987: 'decided', 3988: 'literary', 3989: 'affection', 3990: 'bridges', 3991: 'halloween', 3992: 'ineffective', 3993: 'eightball', 3994: 'majesty', 3995: 'occupation', 3996: \"tonight's\", 3997: 'watched', 3998: 'shoe', 3999: \"narratin'\", 4000: 'beaumarchais', 4001: 'cocks', 4002: 'watered', 4003: 'mahatma', 4004: 'trunk', 4005: 'jay:', 4006: 'getup', 4007: 'potatoes', 4008: 'listened', 4009: 'feat', 4010: 'logos', 4011: 'radioactive', 4012: 'voicemail', 4013: 'shaved', 4014: 'heliotrope', 4015: 'sickens', 4016: 'winces', 4017: 'coast', 4018: 'hidden', 4019: 'poorer', 4020: 'something:', 4021: 'elect', 4022: 'vestigial', 4023: 'brief', 4024: 'paramedic:', 4025: 'deny', 4026: 'slipped', 4027: 'groans', 4028: \"kid's\", 4029: 'gibson', 4030: 'instrument', 4031: 'slot', 4032: 'wipes', 4033: 'refill', 4034: 'flash', 4035: 'lovejoy', 4036: 'soot', 4037: 'leak', 4038: 'suspiciously', 4039: 'cigars', 4040: 'lump', 4041: 'swelling', 4042: 'federal', 4043: 'haircuts', 4044: 'alma', 4045: 'barber', 4046: 'freed', 4047: 'solves', 4048: \"people's\", 4049: 'employment', 4050: 'jackass', 4051: 'picky', 4052: 'cuff', 4053: 'two-drink', 4054: 'hairs', 4055: \"professor's\", 4056: 'gees', 4057: 'spine', 4058: 'stamp', 4059: '50-60', 4060: 'dealie', 4061: \"homer'll\", 4062: \"bashir's\", 4063: 'furiously', 4064: 'mexican', 4065: 'disgraceful', 4066: 'washed', 4067: 'buttocks', 4068: 'menlo', 4069: \"life's\", 4070: 'disguised', 4071: 'hafta', 4072: 'pennies', 4073: 'ons', 4074: \"phone's\", 4075: 'rubbed', 4076: \"car's\", 4077: 'wrestle', 4078: 'wells', 4079: 'twentieth', 4080: 'yellow-belly', 4081: 'depressant', 4082: 'retain', 4083: 'locklear', 4084: 'iranian', 4085: 'hydrant', 4086: 'community', 4087: 'half-beer', 4088: 'causes', 4089: 'reopen', 4090: 'rumor', 4091: 'beaumont', 4092: 'w-a-3-q-i-zed', 4093: 'mexican_duffman:', 4094: 'pep', 4095: 'steam', 4096: \"how're\", 4097: 'melodramatic', 4098: 'conversion', 4099: 'conditioning', 4100: 'stalin', 4101: \"hawkin'\", 4102: 'clapping', 4103: 'build', 4104: 'intervention', 4105: 'michelin', 4106: 'perfected', 4107: 'muslim', 4108: 'swimming', 4109: 'resolution', 4110: 'crunch', 4111: '50%', 4112: 'repressed', 4113: 'jeff_gordon:', 4114: 'device', 4115: 'donation', 4116: 'senators:', 4117: 'eaters', 4118: 'fiiiiile', 4119: 'prolonged', 4120: 'space-time', 4121: 'spectacular', 4122: 'forty-nine', 4123: 'verdict', 4124: 'nail', 4125: 'verticality', 4126: \"writin'\", 4127: 'aunt', 4128: 'fast-paced', 4129: 'crowbar', 4130: 'graveyard', 4131: 'norway', 4132: 'tuna', 4133: 'lodge', 4134: 'geysir', 4135: \"stallin'\", 4136: 'vin', 4137: 'culkin', 4138: 'smiled', 4139: 'dogs', 4140: 'warmth', 4141: 'attractive_woman_#1:', 4142: 'agency', 4143: 'land', 4144: 'tremendous', 4145: 'sanitation', 4146: 'wuss', 4147: 'celebration', 4148: 'self-satisfied', 4149: 'muffled', 4150: 'poison', 4151: 'baloney', 4152: 'sharity', 4153: 'adjourned', 4154: 'wenceslas', 4155: 'shark', 4156: \"stealin'\", 4157: 'pink', 4158: 'ireland', 4159: 'starve', 4160: 'whining', 4161: 'kicks', 4162: \"ball's\", 4163: 'roy', 4164: 'hawaii', 4165: \"thing's\", 4166: 'pushing', 4167: 'stomach', 4168: 'spreads', 4169: 'arrested:', 4170: 'barkeeps', 4171: 'mugs', 4172: 'womb', 4173: 'annus', 4174: 'viva', 4175: 'diving', 4176: 'aristotle:', 4177: '8', 4178: 'befriend', 4179: 'fontaine', 4180: 'chic', 4181: 'according', 4182: 'country', 4183: 'control', 4184: 'ralphie', 4185: 's-a-u-r-c-e', 4186: 'giant', 4187: 'examples', 4188: '530', 4189: 'fortune', 4190: 'triple-sec', 4191: 'op', 4192: 'friction', 4193: 'hemorrhage-amundo', 4194: 'mirror', 4195: 'ho-la', 4196: 'flames', 4197: 'november', 4198: \"o'reilly\", 4199: 'indigenous', 4200: 'pas', 4201: 'led', 4202: 'shuts', 4203: \"'er\", 4204: 'thousand-year', 4205: 'ali', 4206: 'enveloped', 4207: 'moe-heads', 4208: 'sacrifice', 4209: 'cattle', 4210: 'sniffing', 4211: 'microbrew', 4212: 'sweetie', 4213: 'paints', 4214: 'starving', 4215: 'fl', 4216: 'settled', 4217: 'martini', 4218: 'resist', 4219: 'simon', 4220: 'endorsed', 4221: 'sumatran', 4222: 'faith', 4223: 'sudoku', 4224: 'slick', 4225: 'barstools', 4226: 'gluten', 4227: 'champignons', 4228: 'businessman_#2:', 4229: 'gamble', 4230: 'nerd', 4231: 'humiliation', 4232: 'refreshment', 4233: 'edgy', 4234: 'ronstadt', 4235: 'singer', 4236: 'strategizing', 4237: 'bonfire', 4238: 'slaves', 4239: 'sangre', 4240: 'mole', 4241: 'convenient', 4242: 'flophouse', 4243: 'pridesters:', 4244: 'squadron', 4245: 'stengel', 4246: 'commit', 4247: \"betsy'll\", 4248: 'delays', 4249: 'bulletin', 4250: 'gunter', 4251: 'sneeze', 4252: 'afterglow', 4253: 'store-bought', 4254: 'lobster-based', 4255: 'competing', 4256: 'remote', 4257: 'meteor', 4258: 'payday', 4259: 'renovations', 4260: 'firm', 4261: 'killjoy', 4262: 'premise', 4263: 'doom', 4264: 'intoxicants', 4265: 'error', 4266: 'hotel', 4267: 'insist', 4268: 'phlegm', 4269: 'take-back', 4270: 'aggravazes', 4271: 'swimmers', 4272: 'certified', 4273: 'basement', 4274: 'crystal', 4275: 'shop', 4276: 'sells', 4277: 'housing', 4278: 'practically', 4279: \"round's\", 4280: 'ambrose', 4281: 'dozen', 4282: 'offa', 4283: 'measure', 4284: 'choose', 4285: 'suits', 4286: 'rub-a-dub', 4287: 'beans', 4288: 'devils:', 4289: 'tapestry', 4290: 'pro', 4291: 'north', 4292: 'pancakes', 4293: 'plug', 4294: 'forty-two', 4295: 'charged', 4296: 'wednesday', 4297: 'shrieks', 4298: 'parents', 4299: 'taunting', 4300: 'ferry', 4301: 'adult', 4302: 'bras', 4303: 'tee', 4304: 'brother-in-law', 4305: \"soundin'\", 4306: 'não', 4307: 'williams', 4308: 'grin', 4309: \"'n'\", 4310: 'evergreen', 4311: 'goblins', 4312: 'stan', 4313: 'crony', 4314: 'billingsley', 4315: 'venom', 4316: \"coaster's\", 4317: 'dory', 4318: 'grudgingly', 4319: 'ingested', 4320: 'leftover', 4321: 'possessions', 4322: 'thirsty', 4323: 'whup', 4324: 'du', 4325: 'button-pusher', 4326: 'solved', 4327: 'safecracker', 4328: 'kirk', 4329: 'bills', 4330: 'muhammad', 4331: 'regretful', 4332: 'fantasy', 4333: 'endorsement', 4334: 'enter', 4335: 'runners', 4336: '$42', 4337: 'sweater', 4338: \"fun's\", 4339: 'united', 4340: 'thirty-thousand', 4341: 'bauer', 4342: 'flustered', 4343: 'alpha-crow', 4344: 'cell-ee', 4345: 'contractors', 4346: 'relative', 4347: 'disappointing', 4348: 'gimmicks', 4349: 'tolerance', 4350: 'privacy', 4351: 'maintenance', 4352: 'donated', 4353: 'homeless', 4354: 'encouraged', 4355: 'sanitary', 4356: 'fast-food', 4357: 'congratulations', 4358: 'winch', 4359: 'brotherhood', 4360: 'arm-pittish', 4361: 'inserts', 4362: \"linin'\", 4363: 'loafers', 4364: 'reluctantly', 4365: 'extreme', 4366: 'ruuuule', 4367: 'jogging', 4368: 'wazoo', 4369: 'ripping', 4370: 'grieving', 4371: 'marry', 4372: 'taste', 4373: 'obese', 4374: 'chumbawamba', 4375: 'killarney', 4376: 'texan', 4377: 'neighborhood', 4378: 'head-gunk', 4379: 'amber', 4380: 'cooker', 4381: 'delivery_man:', 4382: \"show's\", 4383: 'gordon', 4384: 'crab', 4385: 'swigmore', 4386: 'heh-heh', 4387: 'co-sign', 4388: 'worldly', 4389: 'dammit', 4390: 'sue', 4391: \"o'\", 4392: 'defected', 4393: 'boozebag', 4394: 'lager', 4395: 'malibu', 4396: 'rivalry', 4397: 'movement', 4398: 'stinky', 4399: 'serum', 4400: 'usual', 4401: 'life:', 4402: \"smokin'\", 4403: 'strains', 4404: \"scammin'\", 4405: 'frontrunner', 4406: \"mopin'\", 4407: 'gloop', 4408: 'ballot', 4409: 'load', 4410: 'storms', 4411: 'medieval', 4412: 'childless', 4413: 'language', 4414: 'cheaper', 4415: 'legal', 4416: 'warranty', 4417: 'assert', 4418: 'wisconsin', 4419: 'huddle', 4420: 'hmmmm', 4421: 'lookalike:', 4422: 'california', 4423: 'colonel:', 4424: 'sickened', 4425: 'besides', 4426: \"tony's\", 4427: 'relaxed', 4428: 'loyal', 4429: 'jackson', 4430: 'hoped', 4431: 'collateral', 4432: 'alec_baldwin:', 4433: 'ford', 4434: 'beeps', 4435: 'wacky', 4436: 'rome', 4437: 'assumed', 4438: 'connor', 4439: 'guessing', 4440: 'squeezed', 4441: 'spamming', 4442: 'officials', 4443: \"burnin'\", 4444: 'count', 4445: 'lady_duff:', 4446: 'stickers', 4447: \"speakin'\", 4448: 'lewis', 4449: 'idealistic', 4450: 'brown', 4451: 'indicates', 4452: 'trapping', 4453: 'tobacky', 4454: 'slit', 4455: 'sacrilicious', 4456: 'jerk-ass', 4457: 'tsking', 4458: 'whaaaa', 4459: 'susie-q', 4460: 'dazed', 4461: 'kazoo', 4462: 'official', 4463: 'killer', 4464: 'sky', 4465: 'bugs', 4466: 'coy', 4467: 'post-suicide', 4468: 'wish-meat', 4469: 'metal', 4470: 'thirty-three', 4471: 'undermine', 4472: 'total', 4473: 'crappy', 4474: 'nervously', 4475: 'cronies', 4476: 'chosen', 4477: 'eyeing', 4478: 'cross-country', 4479: 'bum:', 4480: 'lingus', 4481: 'shreda', 4482: 'shopping', 4483: 'gags', 4484: 'placed', 4485: 'refreshing', 4486: 'julep', 4487: 'depository', 4488: 'mid-seventies', 4489: 'nailed', 4490: 'fifth', 4491: 'exultant', 4492: 'flaking', 4493: 'bottomless', 4494: 'supply', 4495: 'tickets', 4496: 'murderously', 4497: 'betcha', 4498: 'oh-ho', 4499: 'sunk', 4500: 'tree_hoper:', 4501: 'jury', 4502: 'fica', 4503: 'stagey', 4504: \"yieldin'\", 4505: 'philosophical', 4506: 'proposition', 4507: 'caricature', 4508: 'separator', 4509: 'remodel', 4510: 'payback', 4511: 'rash', 4512: 'pews', 4513: 'grumbling', 4514: 'approval', 4515: \"listenin'\", 4516: 'perverse', 4517: 'engraved', 4518: 'foodie', 4519: 'toxins', 4520: 'mariah', 4521: \"hell's\", 4522: 'courteous', 4523: 'binoculars', 4524: 'ceremony', 4525: 'unusual', 4526: 'eminence', 4527: 'wrapped', 4528: 'yoink', 4529: 'karaoke_machine:', 4530: 'vacations', 4531: 'growing', 4532: 'b-day', 4533: 'spender', 4534: 'radical', 4535: 'ignoring', 4536: 'thorn', 4537: 'farewell', 4538: 'dictating', 4539: 'sidelines', 4540: 'flashing', 4541: 'pages', 4542: 'deeper', 4543: 'weight', 4544: 'sentimonies', 4545: 'helpless', 4546: 'ear', 4547: \"what'd\", 4548: 'thunder', 4549: '_eugene_blatz:', 4550: \"ma's\", 4551: 'charming', 4552: 'carey', 4553: 'nash', 4554: 'lear', 4555: 'sidekick', 4556: 'colorado', 4557: 'alarm', 4558: 'mozzarella', 4559: 'kitchen', 4560: 'liability', 4561: 'spelling', 4562: 'heatherton', 4563: 'utensils', 4564: 'lizard', 4565: 'conclude', 4566: 'rutabaga', 4567: 'boxers', 4568: 'poetry', 4569: 'onion', 4570: 'numeral', 4571: 'punkin', 4572: 'windelle', 4573: 'stays', 4574: 'exception:', 4575: 'coin', 4576: 'hostages', 4577: 'multi-national', 4578: 'yuh-huh', 4579: 'liquor', 4580: 'billiard', 4581: 'mirthless', 4582: 'issues', 4583: 'noooooooooo', 4584: 'chauffeur', 4585: 'bidet', 4586: 'lease', 4587: 'repeated', 4588: 'waist', 4589: 'refiero', 4590: \"challengin'\", 4591: 'interesting', 4592: 'notice', 4593: 'comment', 4594: 'regretted', 4595: 'hooch', 4596: 'affects', 4597: 'buzz', 4598: 'jumping', 4599: 'reading:', 4600: 'lushmore', 4601: 'produce', 4602: 'arrived', 4603: 'mccall', 4604: 'dreamily', 4605: 'rem', 4606: 'legs:', 4607: 'promise', 4608: 'stripes', 4609: 'clench', 4610: 'laid', 4611: 'hockey-fight', 4612: 'gangrene', 4613: 'curse', 4614: 'mags', 4615: 'statesmanlike', 4616: 'old-time', 4617: 'kansas', 4618: 'peter_buck:', 4619: \"leavin'\", 4620: 'sensitivity', 4621: 'widow', 4622: 'mayan', 4623: 'shred', 4624: 'meals', 4625: 'cocking', 4626: 'mindless', 4627: 'charlie:', 4628: 'comforting', 4629: 'low-blow', 4630: 'iddilies', 4631: 'samples', 4632: 'sympathy', 4633: 'heavens', 4634: 'arguing', 4635: \"messin'\", 4636: 'presently', 4637: 'nascar', 4638: 'botanical', 4639: 'risqué', 4640: 'mailbox', 4641: 'hosting', 4642: 'bathtub', 4643: 'otherwise', 4644: 'cheerier', 4645: 'assent', 4646: \"beggin'\", 4647: 'dice', 4648: 'betrayed', 4649: 'masks', 4650: 'rector', 4651: 'crowned', 4652: 'rip-off', 4653: 'blokes', 4654: 'prettiest', 4655: 'walked', 4656: 'ninety-eight', 4657: 'resenting', 4658: 'leno', 4659: 'two-thirds-empty', 4660: 'dizzy', 4661: \"tinklin'\", 4662: 'mmmmm', 4663: 'buds', 4664: 'wind', 4665: 'gruff', 4666: 'rancid', 4667: 'part-time', 4668: 'connor-politan', 4669: 'buddha', 4670: \"number's\", 4671: 'honeys', 4672: 'disposal', 4673: 'waste', 4674: 'spacey', 4675: 'entering', 4676: 'hustle', 4677: 'sooo', 4678: 'taught', 4679: 'shipment', 4680: 'mocking', 4681: 'worldview', 4682: \"something's\", 4683: 'wad', 4684: 'winded', 4685: 'relaxing', 4686: 'taxi', 4687: 'flat', 4688: 'hare-brained', 4689: 'hardhat', 4690: 'ancestors', 4691: 'danny', 4692: 'stewart', 4693: 'jer', 4694: 'chow', 4695: 'cup', 4696: 'lone', 4697: 'cans', 4698: 'philip', 4699: 'rapidly', 4700: 'boisterous', 4701: 'conditioners', 4702: 'recipe', 4703: 'funeral', 4704: 'predecessor', 4705: 'sternly', 4706: 'wildfever', 4707: 'rice', 4708: 'liser', 4709: 'avec', 4710: 'creepy', 4711: 'klown', 4712: 'pure', 4713: 'luv', 4714: 'soir', 4715: 'fringe', 4716: 'feld', 4717: 'youth', 4718: 'most:', 4719: \"tap-pullin'\", 4720: 'oblongata', 4721: \"table's\", 4722: 'hurting', 4723: 'nemo', 4724: 'sneering', 4725: 'aboard', 4726: 'strawberry', 4727: 'espn', 4728: 'stalking', 4729: 'prices', 4730: 'reunion', 4731: 'urine', 4732: \"i'd'a\", 4733: 'faded', 4734: 'pre-recorded', 4735: 'cerebral', 4736: 'blank', 4737: 'insensitive', 4738: 'depending', 4739: 'getaway', 4740: 'powered', 4741: 'uniforms', 4742: 'edna-lover-one-seventy-two', 4743: 'slender', 4744: 'knuckles', 4745: 'emotion', 4746: 'stained-glass', 4747: 'mccarthy', 4748: 'toy', 4749: 'column', 4750: 'dracula', 4751: 'referee', 4752: 'salary', 4753: 'angrily', 4754: 'h', 4755: 'quarterback', 4756: 'polls', 4757: 'drives', 4758: 'occupancy', 4759: 'innocence', 4760: 'soaking', 4761: 'insulin', 4762: 'hook', 4763: 'doy', 4764: 'shores', 4765: 'washer', 4766: 'almond', 4767: 'julienne', 4768: 'gus', 4769: 'haplessly', 4770: 'scores', 4771: 'snotball', 4772: 'rueful', 4773: 'manuel', 4774: 'parrot', 4775: 'beer-dorf', 4776: 'mostly', 4777: 'whirlybird', 4778: 'xx', 4779: 'mm-hmm', 4780: 'newsies', 4781: 'proof', 4782: 'ignorance', 4783: 'insults', 4784: 'intriguing', 4785: 'espousing', 4786: 'looooooooooooooooooong', 4787: 'kool', 4788: 'tons', 4789: 'crayon', 4790: 'meaningless', 4791: 'appreciate', 4792: 'distaste', 4793: 'bumpy-like', 4794: 'a-a-b-b-a', 4795: 'shout', 4796: 'weather', 4797: 'richer', 4798: 'vampire', 4799: 'harvey', 4800: 'sideshow_mel:', 4801: 'lessee', 4802: 'wagering', 4803: 'gentles', 4804: 'sponsor', 4805: 'sacajawea', 4806: 'forced', 4807: 'arrange', 4808: 'illustrates', 4809: 'sickly', 4810: 'gesture', 4811: 'p-k', 4812: 'ruby-studded', 4813: 'methinks', 4814: 'dashes', 4815: 'moonshine', 4816: 'sampler', 4817: \"treatin'\", 4818: 'haikus', 4819: 'idioms', 4820: 'mike_mills:', 4821: 'assume', 4822: 'albeit', 4823: \"fendin'\", 4824: 'psst', 4825: 'smoker', 4826: 'vincent', 4827: \"sat's\", 4828: 'pursue', 4829: \"daughter's\", 4830: 'suave', 4831: 'fastest', 4832: 'prejudice', 4833: 'nor', 4834: 'begging', 4835: 'lobster', 4836: 'rings', 4837: 'theme', 4838: 'shoes', 4839: 'hoax', 4840: 'parenting', 4841: 'tragedy', 4842: 'donut-shaped', 4843: 'lipo', 4844: 'pile', 4845: \"i'unno\", 4846: 'ultimate', 4847: 'stares', 4848: 'burg', 4849: 'othello', 4850: 'harvesting', 4851: \"stabbin'\", 4852: 'located', 4853: 'ripper', 4854: 'massage', 4855: 'luxury', 4856: 'booze-bags', 4857: 'concentrate', 4858: 'anger', 4859: 'cauliflower', 4860: 'mellow', 4861: 'ripped', 4862: 'donut', 4863: 'kl5-4796', 4864: 'suru', 4865: \"brady's\", 4866: 'revenge', 4867: 'white_rabbit:', 4868: 'delightfully', 4869: 'saga', 4870: 'jernt', 4871: 'crow', 4872: 'up-bup-bup', 4873: 'waterfront', 4874: 'coupon', 4875: 'habitrail', 4876: 'writer:', 4877: 'jigger', 4878: 'uninhibited', 4879: 'magnanimous', 4880: 'liven', 4881: 'indecipherable', 4882: 'youuu', 4883: 'acceptance', 4884: 'dollface', 4885: 'breaks', 4886: 'darkness', 4887: 'scrutinizes', 4888: 'fonzie', 4889: 'arabs', 4890: 'barney-type', 4891: 'cockroach', 4892: 'stretches', 4893: 'riveting', 4894: 'drop-off', 4895: 'squeal', 4896: \"tomorrow's\", 4897: 'chunk', 4898: 'musical', 4899: 'chunky', 4900: 'yee-ha', 4901: 'unsourced', 4902: 'phony', 4903: 'unfair', 4904: 'streetlights', 4905: 'whispers', 4906: 'brusque', 4907: 'unbelievable', 4908: 'oooo', 4909: 'yak', 4910: 'shack', 4911: 'u2:', 4912: 'old_jewish_man:', 4913: 'characteristic', 4914: 'jewelry', 4915: 'nelson_muntz:', 4916: 'settlement', 4917: 'freaking', 4918: 'eyed', 4919: 'calendars', 4920: 'western', 4921: 'sincerely', 4922: 'atari', 4923: \"d'\", 4924: 'world-class', 4925: 'executive', 4926: 'dutch', 4927: 'praise', 4928: 'theatrical', 4929: 'pussycat', 4930: 'pall', 4931: 'lend', 4932: \"bladder's\", 4933: 'dejected_barfly:', 4934: 'screws', 4935: 'states', 4936: 'night-crawlers', 4937: 'luckily', 4938: 'apulina', 4939: 'west', 4940: 'chinese_restaurateur:', 4941: 'allegiance', 4942: 'starla', 4943: 'infatuation', 4944: 'anti-lock', 4945: 'transfer', 4946: 'attractive', 4947: 'four-star', 4948: 'wudgy', 4949: 'automobiles', 4950: 'grains', 4951: 'disco_stu:', 4952: 'predictable', 4953: 'voyager', 4954: 'afloat', 4955: 'squeals', 4956: 'selective', 4957: \"i-i'll\", 4958: 'quarry', 4959: 'normals', 4960: 'nameless', 4961: 'capuchin', 4962: 'carlotta:', 4963: 'stingy', 4964: 'hollye', 4965: 'facebook', 4966: \"askin'\", 4967: 'boozer', 4968: 'gruesome', 4969: 'noosey', 4970: 'combination', 4971: 'milhouses', 4972: 'abolish', 4973: 'anti-crime', 4974: 'apron', 4975: 'roach', 4976: 'malabar', 4977: 'kentucky', 4978: 'modest', 4979: 'coincidentally', 4980: 'totalitarians', 4981: 'booger', 4982: 'vengeance', 4983: 'manfred', 4984: 'occurrence', 4985: 'specific', 4986: 'sued', 4987: 'portuguese', 4988: 'landfill', 4989: 'test-', 4990: 'face-macer', 4991: 'presidential', 4992: 'wantcha', 4993: 'voted', 4994: 'overflowing', 4995: 'whaaa', 4996: 'direction', 4997: 'aquafresh', 4998: 'malted', 4999: 'faint', 5000: 'increased', 5001: 'liable', 5002: 'spoon', 5003: 'unhook', 5004: 'mull', 5005: 'symphonies', 5006: 'network', 5007: 'sap', 5008: 'drollery', 5009: 'teriyaki', 5010: 'patrons:', 5011: \"this'll\", 5012: 'thing:', 5013: 'reconsidering', 5014: 'application', 5015: 'nursemaid', 5016: 'typing', 5017: 'gol-dangit', 5018: 'humanity', 5019: 'geyser', 5020: 'cecil', 5021: 'protesting', 5022: 'volunteer', 5023: 'waking-up', 5024: 'understood:', 5025: 'boozehound', 5026: 'wizard', 5027: 'holidays', 5028: 'icy', 5029: \"costume's\", 5030: 'detail', 5031: 'valuable', 5032: \"brockman's\", 5033: 'bachelorhood', 5034: 'picnic', 5035: 'data', 5036: 'abe', 5037: 'gel', 5038: 'gunter:', 5039: 'slobs', 5040: 'sixty-five', 5041: \"city's\", 5042: 'mostrar', 5043: 'whale', 5044: 'done:', 5045: 'e-z', 5046: 'elite', 5047: 'bagged', 5048: 'fatso', 5049: 'korea', 5050: \"tv'll\", 5051: 'napkins', 5052: 'byrne', 5053: 'forget-me-drinks', 5054: 'lead', 5055: 'nectar', 5056: 'profiling', 5057: 'comeback', 5058: 'considers', 5059: 'random', 5060: 'glowers', 5061: 'eye-gouger', 5062: \"fine-lookin'\", 5063: 'andrew', 5064: 'trash', 5065: 'catch-phrase', 5066: 'ads', 5067: \"'ceptin'\", 5068: 'wolveriskey', 5069: 'stalwart', 5070: 'vicious', 5071: 'scrutinizing', 5072: 'th', 5073: 'monroe', 5074: 'access', 5075: 'maude', 5076: 'soothing', 5077: 'mater', 5078: 'lanes', 5079: 'pretzel', 5080: 'de-scramble', 5081: 'veux', 5082: 'frankenstein', 5083: \"spiffin'\", 5084: 'noose', 5085: 'shyly', 5086: 'criminal', 5087: 'indeedy', 5088: 'agh', 5089: 'temp', 5090: 'office', 5091: 'gumbo', 5092: 'ratio', 5093: 'rife', 5094: 'derisive', 5095: 'loathe', 5096: 'rascals', 5097: 'selection', 5098: 'platinum', 5099: 'presumir', 5100: 'arts', 5101: 'burt_reynolds:', 5102: 'prince', 5103: 'ugh', 5104: 'presidents', 5105: 'snotty', 5106: 'whaddya', 5107: 'issuing', 5108: 'dae', 5109: 'remaining', 5110: 'furniture', 5111: 'file', 5112: 'duff_announcer:', 5113: 'easter', 5114: 'beatings', 5115: 'kegs', 5116: 'piling', 5117: 'knowledge', 5118: 'compete', 5119: 'officer', 5120: 'frink-y', 5121: 'ing', 5122: 'perking', 5123: 'squishee', 5124: 'sobo', 5125: 'tabs', 5126: 'marched', 5127: 'kidneys', 5128: 'cavern', 5129: 'grey', 5130: 'shill', 5131: 'grace', 5132: 'calvin', 5133: 'publish', 5134: 'bell', 5135: 'clipped', 5136: 'sustain', 5137: 'listens', 5138: 'chateau', 5139: 'enhance', 5140: 'initially', 5141: 'choices:', 5142: 'trade', 5143: 'virility', 5144: 'chips', 5145: 'in-in-in', 5146: 'lis', 5147: 'ducked', 5148: 'barney-guarding', 5149: 'lime', 5150: 'weapon', 5151: 'overhearing', 5152: 'clandestine', 5153: 'splendid', 5154: 'shells', 5155: 'limericks', 5156: 'mind-numbing', 5157: 'unhappy', 5158: 'mither', 5159: 'nordiques', 5160: 'beyond', 5161: 'dislike', 5162: \"mtv's\", 5163: 'background', 5164: \"depressin'\", 5165: 'kissed', 5166: 'gentle', 5167: 'die-hard', 5168: 'disturbing', 5169: 'snail', 5170: 'recent', 5171: 'horribilis', 5172: 'gabriel:', 5173: 'delightful', 5174: 'partners', 5175: 'plants', 5176: 'ninety-six', 5177: 'little_hibbert_girl:', 5178: 'pusillanimous', 5179: \"can't-believe-how-bald-he-is\", 5180: 'perfunctory', 5181: 'life-partner', 5182: 'octa-', 5183: 'tin', 5184: 'winston', 5185: 'donor', 5186: 'improved', 5187: 'wieners', 5188: 'reminded', 5189: 'fdic', 5190: 'booking', 5191: '35', 5192: 'blimp', 5193: 'pantsless', 5194: 'ralph_wiggum:', 5195: 'wraps', 5196: 'art', 5197: 'germans', 5198: \"bart'd\", 5199: 'interrupting', 5200: 'outstanding', 5201: 'unkempt', 5202: 'accepting', 5203: 'edge', 5204: 'divine', 5205: 'leaving', 5206: 'compare', 5207: 'jokes', 5208: 'stirrers', 5209: 'carney', 5210: 'neighboreeno', 5211: 'necklace', 5212: 'sorts', 5213: 'horses', 5214: 'buffet', 5215: 'whatchacallit', 5216: 'fonda', 5217: 'perch', 5218: 'vehicle', 5219: 'indifferent', 5220: 'bathed', 5221: 'stairs', 5222: \"knockin'\", 5223: 'signal', 5224: 'when-i-get-a-hold-of-you', 5225: 'benjamin:', 5226: 'mountain', 5227: 'jelly', 5228: 'cheerleaders:', 5229: 'exciting', 5230: \"aren'tcha\", 5231: 'simplest', 5232: 'behavior', 5233: 'tactful', 5234: 'hundreds', 5235: 'yourse', 5236: 'updated', 5237: 'bon', 5238: 'finance', 5239: 'nooo', 5240: 'man_with_tree_hat:', 5241: 'coined', 5242: 'host', 5243: 'babar', 5244: 'stink', 5245: 'believer', 5246: 'blaze', 5247: 'gheet', 5248: 'nibble', 5249: 'thorough', 5250: 'sniper', 5251: \"who'da\", 5252: \"renee's\", 5253: 'ails', 5254: 'forty-seven', 5255: 'helping', 5256: 'fatty', 5257: \"plaster's\", 5258: 'rig', 5259: 'cummerbund', 5260: 'donuts', 5261: 'housework', 5262: 'nfl_narrator:', 5263: 'we-we-we', 5264: 'eddie', 5265: 'be-stainèd', 5266: 'con', 5267: 'stu', 5268: 'splattered', 5269: 'sobriety', 5270: 'cracked', 5271: 'gallon', 5272: 'forgiven', 5273: 'mystery', 5274: 'wobble', 5275: 'lincoln', 5276: \"s'okay\", 5277: 'fighter', 5278: 'lowest', 5279: 'sealed', 5280: 'tribute', 5281: 'goal', 5282: 'court', 5283: 'sitcom', 5284: 'disappointment', 5285: 'harvard', 5286: 'blur', 5287: 'murdered', 5288: \"plank's\", 5289: 'burglary', 5290: 'faced', 5291: 'five-fifteen', 5292: 'planned', 5293: 'loudly', 5294: 'naval', 5295: 'lachrymose', 5296: 'bolting', 5297: 'quimby_#2:', 5298: 'pinchpenny', 5299: 'beady', 5300: 'floating', 5301: 'moonnnnnnnn', 5302: 'ees', 5303: 'paper', 5304: 'hoagie', 5305: 'darn', 5306: 'sheriff', 5307: 'dipping', 5308: 'cheering', 5309: 'wikipedia', 5310: 'heave-ho', 5311: 'renders', 5312: 'trail', 5313: 'strolled', 5314: 'corn', 5315: \"drexel's\", 5316: 'bumbling', 5317: 'xanders', 5318: 'sloe', 5319: 'genuinely', 5320: 'expose', 5321: 'bull', 5322: 'represents', 5323: 'neighbors', 5324: 'venture', 5325: 'whoops', 5326: 'ummmmmmmmm', 5327: 'carolina', 5328: 'suspenders', 5329: 'eliminate', 5330: 'canoodling', 5331: 'jay_leno:', 5332: 'hems', 5333: 'occasion', 5334: \"enjoyin'\", 5335: 'wolverines', 5336: 'pulitzer', 5337: 'tearfully', 5338: 'expired', 5339: 'created', 5340: \"should've\", 5341: \"don'tcha\", 5342: 'feminine', 5343: 'minors', 5344: 'milks', 5345: 'sail', 5346: 'moolah-stealing', 5347: 'polishing', 5348: 'michael', 5349: 'grope', 5350: 'pair', 5351: 'transmission', 5352: 'support', 5353: 'roller', 5354: 'mistakes', 5355: 'fondest', 5356: 'flexible', 5357: 'appendectomy', 5358: 'tooth', 5359: 'personal', 5360: 'peeping', 5361: 'highball', 5362: 'test-lady', 5363: 'easygoing', 5364: 'highest', 5365: 'warren', 5366: \"foolin'\", 5367: \"bettin'\", 5368: 'astrid', 5369: 'stinger', 5370: \"now's\", 5371: 'tied', 5372: 'accidents', 5373: 'menace', 5374: 'convinced', 5375: 'fist', 5376: 'wheels', 5377: 'bellyaching', 5378: 'obsessive-compulsive', 5379: 'whim', 5380: 'anonymous', 5381: 'young_barfly:', 5382: 'cesss', 5383: 'awkwardly', 5384: 'rhode', 5385: 'microphone', 5386: 'nasty', 5387: 'lighten', 5388: 'legend', 5389: 'settles', 5390: 'shoulda', 5391: 'sketch', 5392: 'clap', 5393: 'steinbrenner', 5394: 'aerospace', 5395: 'steampunk', 5396: 'cell', 5397: \"'evening\", 5398: 'democracy', 5399: 'homer_', 5400: 'rods', 5401: 'stored', 5402: 'coyly', 5403: 'beef', 5404: 'macgregor', 5405: 'restless', 5406: 'trivia', 5407: 'perplexed', 5408: 'chuckling', 5409: 'eight-year-old', 5410: 'snatch', 5411: 'selfish', 5412: \"ragin'\", 5413: 'urban', 5414: 'forty-five', 5415: 'lied', 5416: 'enforced', 5417: '1979', 5418: 'italian', 5419: 'pretends', 5420: 'belly-aching', 5421: 'here-here-here', 5422: 'television', 5423: 'chauffeur:', 5424: 'flayvin', 5425: 'crayola', 5426: 'oddest', 5427: 'hunka', 5428: \"soakin's\", 5429: 'adequate', 5430: 'windshield', 5431: 'everywhere', 5432: 'regulations', 5433: 'ping-pong', 5434: \"clancy's\", 5435: 'marshmallow', 5436: 'fires', 5437: 'barbara', 5438: 'misfire', 5439: 'manboobs', 5440: 'horns', 5441: 'shhh', 5442: 'cursed', 5443: 'sponge:', 5444: 'carny:', 5445: 'twenty-six', 5446: 'cap', 5447: 'charter', 5448: 'femininity', 5449: 'uncreeped-out', 5450: 'cowboy', 5451: 'irishman', 5452: 'shakes', 5453: \"floatin'\", 5454: 'chub', 5455: 'jovial', 5456: 'kisses', 5457: 'grammar', 5458: 'lemonade', 5459: 'sassy', 5460: 'unsafe', 5461: 'inherent', 5462: 'spouses', 5463: 'fleabag', 5464: 'janette', 5465: 'ga', 5466: 'upn', 5467: 'month', 5468: 'hangout', 5469: 'wasted', 5470: 'rookie', 5471: 'rush', 5472: 'rugged', 5473: 'abusive', 5474: 'madman', 5475: 'please/', 5476: 'truck_driver:', 5477: 'aziz', 5478: \"swishifyin'\", 5479: 'soaps', 5480: 'irrelevant', 5481: 'clips', 5482: 'disgracefully', 5483: 'owned', 5484: 'practice', 5485: 'event', 5486: 'bail', 5487: 'all-american', 5488: 'options', 5489: 'theatah', 5490: 'wolfcastle', 5491: 'cheaped', 5492: 'cobbling', 5493: 'mamma', 5494: 'gasoline', 5495: 'admirer', 5496: 'exhale', 5497: 'lookalikes', 5498: 'hammock', 5499: \"santa's\", 5500: 'sees/', 5501: 'rip', 5502: \"changin'\", 5503: 'lucinda', 5504: 'dropping', 5505: 'penmanship', 5506: 'attached', 5507: 'incriminating', 5508: 'softer', 5509: 'cousin', 5510: 'rafters', 5511: 'guard', 5512: 'burger', 5513: 'jeers', 5514: 'hourly', 5515: 'flush', 5516: 'slaps', 5517: 'blissful', 5518: \"singin'\", 5519: 'brainheaded', 5520: 'fantastic', 5521: \"rasputin's\", 5522: 'meatpies', 5523: 'hillary', 5524: 'hate-hugs', 5525: 'life-threatening', 5526: 'cartoons', 5527: 'emporium', 5528: 'fwooof', 5529: 'tow-talitarian', 5530: 'aghast', 5531: 'jewish', 5532: 'tender', 5533: 'moe-ron', 5534: 'jackpot-thief', 5535: 'beached', 5536: 'giggle', 5537: 'plane', 5538: 'well-wisher', 5539: 'politicians', 5540: 'phasing', 5541: 'busiest', 5542: 'haiti', 5543: 'bachelor', 5544: 'macaulay', 5545: 'broken:', 5546: '7g', 5547: \"man's_voice:\", 5548: 'swatch', 5549: 'swamp', 5550: 'blocked', 5551: 'patriotic', 5552: 'optimistic', 5553: 'eighty-five', 5554: 'moxie', 5555: 'travel', 5556: \"liberty's\", 5557: 'homunculus', 5558: 'prints', 5559: 'pilsner-pusher', 5560: 'pointedly', 5561: 'cliff', 5562: 'specialists', 5563: 'my-y-y-y-y-y', 5564: 'throws', 5565: 'conspiracy', 5566: 'whoever', 5567: \"puttin'\", 5568: 'pointy', 5569: 'ninety-seven', 5570: 'unsanitary', 5571: 'bullet-proof', 5572: 'and/or', 5573: 'adopted', 5574: 'frozen', 5575: 'whoo', 5576: 'choke', 5577: 'resigned', 5578: 'average', 5579: 'bid', 5580: \"department's\", 5581: 'sleigh-horses', 5582: 'triangle', 5583: 'triumphantly', 5584: 'religious', 5585: 'handoff', 5586: 'dreamy', 5587: 'neon', 5588: 'fuhgetaboutit', 5589: \"summer's\", 5590: 'schmoe', 5591: 'stiffening', 5592: 'fulla', 5593: 'cage', 5594: 'counter', 5595: 'stores', 5596: 'hillbillies', 5597: 'earpiece', 5598: 'clams', 5599: 'blamed', 5600: 'sunglasses', 5601: 'hyper-credits', 5602: 're-al', 5603: 'citizens', 5604: 'flynt', 5605: 'phase', 5606: 'ease', 5607: 'bottoms', 5608: 'skinheads', 5609: 'seminar', 5610: 'gunk', 5611: 'hooters', 5612: 'eaten', 5613: 'simultaneous', 5614: 'microwave', 5615: \"pickin'\", 5616: 'stones', 5617: 'happiness', 5618: 'position', 5619: 'bliss', 5620: 'gulps', 5621: 'strictly', 5622: 'daaaaad', 5623: \"she'll\", 5624: 'wistful', 5625: 'producers', 5626: 'tasimeter', 5627: \"liftin'\", 5628: 'sass', 5629: 'reaches', 5630: 'belts', 5631: 'population', 5632: 'grain', 5633: 'cleveland', 5634: 'carnival', 5635: 'reserved', 5636: 'forgets', 5637: 'squirrel', 5638: 'unattractive', 5639: 'mural', 5640: 'socialize', 5641: \"'roids\", 5642: 'deals', 5643: 'aer', 5644: 'knock-up', 5645: 'snitch', 5646: 'dilemma', 5647: 'lugs', 5648: 'benjamin', 5649: 'safety', 5650: 'ninety-nine', 5651: 'ram', 5652: 'strain', 5653: 'sun', 5654: 'temples', 5655: 'ungrateful', 5656: 'libraries', 5657: 'lobster-politans', 5658: 'decide:', 5659: 'compromise:', 5660: 'sending', 5661: 'in-ground', 5662: 'sweat', 5663: \"snappin'\", 5664: 'fustigation', 5665: 'ribbon', 5666: 'outrageous', 5667: 'prayers', 5668: 'blows', 5669: 'this:', 5670: 'crisis', 5671: 'package', 5672: 'sinkhole', 5673: 'teacup', 5674: 'broncos', 5675: \"time's\", 5676: 'associate', 5677: 'dime', 5678: 'unjustly', 5679: 'hotenhoffer', 5680: 'kisser', 5681: 'invisible', 5682: 'pictured', 5683: 'delicate', 5684: 'ivy-covered', 5685: 'barter', 5686: 'butterball', 5687: 'incredible', 5688: 'affectations', 5689: 'composer', 5690: 'unfamiliar', 5691: 'decision', 5692: 'scrubbing', 5693: '1973', 5694: 'outs', 5695: 'muscles', 5696: 'blobbo', 5697: 'motto', 5698: 'freaky', 5699: 'drunkenly', 5700: 'municipal', 5701: 'priceless', 5702: 'hellhole', 5703: 'examines', 5704: 'treats', 5705: 'tomatoes', 5706: 'alls', 5707: 'chicken', 5708: 'celeste', 5709: 'thnord', 5710: 'rafter', 5711: 'arimasen', 5712: 'nonchalant', 5713: 'rainforest', 5714: 'ideal', 5715: 'spirit', 5716: 'woulda', 5717: 'ew', 5718: 'ab', 5719: 'contemptuous', 5720: 'boxer:', 5721: 'understood', 5722: 'scoffs', 5723: 'mimes', 5724: 'short_man:', 5725: 'knuckle-dragging', 5726: \"neighbor's\", 5727: 'yells', 5728: 'hyahh', 5729: 'voters', 5730: 'ignorant', 5731: 'felony', 5732: 'spooky', 5733: 'rabbits', 5734: 'mustard', 5735: 'taylor', 5736: 'son-of-a', 5737: 'miracle', 5738: 'miss_lois_pennycandy:', 5739: 'reed', 5740: 'compels', 5741: 'title', 5742: 'maximum', 5743: 'stumble', 5744: 'ashtray', 5745: 'saving', 5746: 'daniel', 5747: 'frescas', 5748: 'lily-pond', 5749: 'clenched', 5750: 'squirrels', 5751: \"fryer's\", 5752: 'excavating', 5753: 'chastity', 5754: \"hole'\", 5755: 'bumblebee_man:', 5756: 'falling', 5757: 'corkscrews', 5758: 'warned', 5759: 'greatly', 5760: 'carb', 5761: 'stretch', 5762: 'robbers', 5763: 'propose', 5764: 'wheeeee', 5765: 'experience', 5766: 'hammer', 5767: 'maher', 5768: 'aisle', 5769: 'bar:', 5770: 'orifice', 5771: 'cruise', 5772: 'champion', 5773: '1-800-555-hugs', 5774: 'cannoli', 5775: 'ladder', 5776: 'william', 5777: 'cranberry', 5778: 'swell', 5779: 'hangover', 5780: 'tow-joes', 5781: 'reentering', 5782: 'popped', 5783: 'anti-intellectualism', 5784: 'chained', 5785: 'tv-station_announcer:', 5786: 'pickles', 5787: 'stupidest', 5788: 'meanwhile', 5789: 'drawer', 5790: 'quick-like', 5791: \"england's\", 5792: 'explanation', 5793: 'george', 5794: 'kodos:', 5795: \"handwriting's\", 5796: 'fbi_agent:', 5797: 'recorder', 5798: 'easy-going', 5799: 'consoling', 5800: 'amused', 5801: 'hounds', 5802: \"heat's\", 5803: 'presents', 5804: 'doooown', 5805: \"mecca's\", 5806: 'quadruple-sec', 5807: 'anderson', 5808: 'jacks', 5809: 'de', 5810: 'breathless', 5811: 'skydiving', 5812: \"'pu\", 5813: 'low-life', 5814: 'suburban', 5815: 'tha', 5816: 'sat-is-fac-tion', 5817: 'sesame', 5818: 'hippies', 5819: 'bust', 5820: 'clothespins:', 5821: 'booth', 5822: 'jaegermeister', 5823: 'enabling', 5824: 'clubs', 5825: 'pus-bucket', 5826: 'wise', 5827: \"tramp's\", 5828: 'argue', 5829: 'kako:', 5830: 'gig', 5831: 'mushy', 5832: 'shareholder', 5833: 'donate', 5834: 'trashed', 5835: 'hateful', 5836: 'stupidly', 5837: 'it:', 5838: 'hygienically', 5839: 'pudgy', 5840: 'bookie', 5841: 'pretzels', 5842: 'forgotten', 5843: 'jam', 5844: 'circus', 5845: \"family's\", 5846: 'touches', 5847: 'fat-free', 5848: 'tapping', 5849: 'coma', 5850: 'beer:', 5851: 'duffed', 5852: 'helpful', 5853: 'problemo', 5854: 'jägermeister', 5855: 'stocking', 5856: 'tokens', 5857: 'bury', 5858: 'rain', 5859: 'brockelstein', 5860: 'supports', 5861: \"cuckold's\", 5862: 'eighteen', 5863: 'michael_stipe:', 5864: 'jerking', 5865: 'unearth', 5866: 'lifetime', 5867: 'massive', 5868: 'moe-near-now', 5869: 'elves:', 5870: 'zeal', 5871: 'jams', 5872: 'discriminate', 5873: 'desperately', 5874: 'dirge-like', 5875: 'jane', 5876: 'wrap', 5877: \"nixon's\", 5878: 'surgeonnn', 5879: 'hiring', 5880: 'ton', 5881: 'breathtaking', 5882: 'sugar-free', 5883: 'oak', 5884: 'wowww', 5885: 'indeed', 5886: 'backbone', 5887: 'anyhoo', 5888: 'sharing', 5889: 'swooning', 5890: 'fury', 5891: 'louse', 5892: 'disturbance', 5893: 'estranged', 5894: 'skins', 5895: 'notorious', 5896: 'amnesia', 5897: 'landlord', 5898: 'killing', 5899: 'specializes', 5900: 'crowded', 5901: 'typed', 5902: 'ugliness', 5903: 'wok', 5904: 'tones', 5905: 'patting', 5906: 'raining', 5907: 'fishing', 5908: 'spit-backs', 5909: 'unattended', 5910: 'wife-swapping', 5911: 'ingrates', 5912: 'erasers', 5913: 'whatsit', 5914: 'showered', 5915: 'anyhow', 5916: \"rentin'\", 5917: 'twenty-nine', 5918: 'evils', 5919: 'trainers', 5920: 'engine', 5921: 'johnny', 5922: 'blob', 5923: 'developed', 5924: 'frightened', 5925: 'para', 5926: 'oblivious', 5927: 'orders', 5928: 'disdainful', 5929: 'infor', 5930: 'smokes', 5931: 'marquee', 5932: 'rotten', 5933: 'wishing', 5934: 'limits', 5935: 'dirty', 5936: 'wholeheartedly', 5937: 'twenty-four', 5938: 'doll-baby', 5939: 'unintelligent', 5940: 'nonsense', 5941: 'artist', 5942: 'politician', 5943: 'rickles', 5944: 'slurps', 5945: 'latour', 5946: 'justify', 5947: 'stolen', 5948: 'bleak', 5949: 'nightmare', 5950: 'smiles', 5951: 'sticker', 5952: 'shelbyville', 5953: 'subscriptions', 5954: 'ivory', 5955: 'terrifying', 5956: 'chug-monkeys', 5957: 'recap:', 5958: 'experiments', 5959: \"wallet's\", 5960: \"aristotle's\", 5961: 'wittgenstein', 5962: 'impending', 5963: 'splash', 5964: 'talkative', 5965: 'gestated', 5966: 'midge:', 5967: 'elaborate', 5968: 'steaming', 5969: 'view', 5970: 'monday', 5971: 'americans', 5972: 'buzziness', 5973: 'lou', 5974: 'languages', 5975: 'hers', 5976: 'nightmares', 5977: 'stacey', 5978: 'beefs', 5979: 'bronco', 5980: 'richard', 5981: 'cappuccino', 5982: 'fail', 5983: 'owes', 5984: 'negative', 5985: 'appropriate', 5986: 'harmony', 5987: 'cajun', 5988: 'figure', 5989: 'howya', 5990: 'ahem', 5991: 'ivanna', 5992: 'lungs', 5993: 'scientists', 5994: 'sequel', 5995: 'additional-seating-capacity', 5996: 'six-barrel', 5997: 'suspended', 5998: 'savagely', 5999: 'pre-columbian', 6000: 'dejected', 6001: 'wood', 6002: 'single-mindedness', 6003: 'lifestyle', 6004: 'jeter', 6005: 'evasive', 6006: 'piano', 6007: 'supreme', 6008: 'faiths', 6009: 'impress', 6010: 'moon', 6011: 'frenchman', 6012: 'reader', 6013: 'harrowing', 6014: 'diaper', 6015: 'si-lent', 6016: 'annual', 6017: 'takeaway', 6018: 'nickel', 6019: 'maiden', 6020: 'agent_miller:', 6021: 'kirk_voice_milhouse:', 6022: \"tree's\", 6023: 'dumbbell', 6024: 'fry', 6025: 'right-handed', 6026: 'unforgettable', 6027: \"wearin'\", 6028: 'fresco', 6029: 'buyer', 6030: '4x4', 6031: 'delicately', 6032: 'poured', 6033: 'toledo', 6034: 'firing', 6035: 'noble', 6036: 'steamed', 6037: 'superdad', 6038: 'helps', 6039: 'whatchamacallit', 6040: 'protestantism', 6041: 'swig', 6042: \"breakin'\", 6043: \"battin'\", 6044: \"playin'\", 6045: 'rationalizing', 6046: 'chinua', 6047: 'disillusioned', 6048: 'fence', 6049: 'holy', 6050: 'huhza', 6051: 'dumpster', 6052: 'freely', 6053: \"grandmother's\", 6054: 'cozies', 6055: 'smuggled', 6056: 'edner', 6057: 'priority', 6058: 'john', 6059: 'gulliver_dark:', 6060: 'tanking', 6061: 'urinal', 6062: 'youngsters', 6063: \"cheerin'\", 6064: 'correction', 6065: 'society_matron:', 6066: 'hose', 6067: 'k-zug', 6068: 'alky', 6069: 'hunger', 6070: 'flack', 6071: 'chin', 6072: \"jackpot's\", 6073: 'unavailable', 6074: 'inexorable', 6075: 'stay-puft', 6076: 'oughtta', 6077: \"dog's\", 6078: 'ought', 6079: 'astronauts', 6080: 'snout', 6081: 'merchants', 6082: 'thrilled', 6083: 'environment', 6084: 'junebug', 6085: 'spiritual', 6086: 'decadent', 6087: 'watt', 6088: 'proper', 6089: 'disguise', 6090: \"secret's\", 6091: 'dishrag', 6092: 'raging', 6093: \"coffee'll\", 6094: \"spyin'\", 6095: 'invulnerable', 6096: 'studied', 6097: 'lard', 6098: 'witches', 6099: 'legoland', 6100: 'classy', 6101: 'jasper_beardly:', 6102: 'continued', 6103: 'lindsay', 6104: 'improv', 6105: 'dealer', 6106: 'parasol', 6107: \"'kay-zugg'\", 6108: 'uhhhh', 6109: 'bindle', 6110: 'example', 6111: 'manipulation', 6112: 'intimacy', 6113: 'march', 6114: 'racially-diverse', 6115: 'farthest', 6116: 'mice', 6117: 'ding-a-ding-ding-a-ding-ding', 6118: 'lookalike', 6119: 'underwear', 6120: 'recruiter', 6121: \"dolph's_dad:\", 6122: 'th-th-th-the', 6123: 'without:', 6124: 'trees', 6125: \"stayin'\", 6126: 'beards', 6127: \"raggin'\", 6128: 'horrors', 6129: 'railroads', 6130: \"d'ya\", 6131: 'troubles', 6132: 'delts', 6133: 'terminated', 6134: 'forbids', 6135: 'turlet', 6136: 'and:', 6137: 'wound', 6138: 'alien', 6139: 'stein-stengel-', 6140: 'kick-ass', 6141: 'press', 6142: 'grinch', 6143: 'foam', 6144: 'homeland', 6145: \"shootin'\", 6146: 'ape-like', 6147: 'yew', 6148: \"pressure's\", 6149: 'thanking', 6150: 'log', 6151: 'saget', 6152: 'rosey', 6153: 'flourish', 6154: 'forecast', 6155: 'launch', 6156: 'superpower', 6157: 'vanities', 6158: 'skinny', 6159: 'van', 6160: 'glitz', 6161: 'innocuous', 6162: 'housewife', 6163: 'chain', 6164: 'horror', 6165: 'apart', 6166: 'cadillac', 6167: \"fishin'\", 6168: \"that'd\", 6169: 'swallowed', 6170: 'poin-dexterous', 6171: 'rewound', 6172: 'fixes', 6173: 'digging', 6174: 'consciousness', 6175: 'winks', 6176: 'surprised/thrilled', 6177: 'frat', 6178: '_burns_heads:', 6179: 'ahhhh', 6180: 'tyson/secretariat', 6181: 'links', 6182: 'bowled', 6183: 'cockroaches', 6184: 'talkers', 6185: 'lennyy', 6186: 'wussy', 6187: 'published', 6188: 'what-for', 6189: 'civil', 6190: 'shush', 6191: 'gift:', 6192: 'committing', 6193: 'guttural', 6194: 'dinks', 6195: 'and-and', 6196: 'so-ng', 6197: 'plain', 6198: 'dateline:', 6199: 'crimes', 6200: 'portentous', 6201: 'startled', 6202: 'bloodball', 6203: 'cab', 6204: 'puke-pail', 6205: 'chew', 6206: \"hobo's\", 6207: 'defiantly', 6208: 'ehhhhhh', 6209: 'finale', 6210: 'x-men', 6211: 'wiggle-frowns', 6212: 'vengeful', 6213: 'sweetest', 6214: \"'morning\", 6215: 'indifference', 6216: \"duff's\", 6217: 'er', 6218: 'protecting', 6219: 'nauseous', 6220: 'wally', 6221: 'offense', 6222: 'drift', 6223: 'cock', 6224: 'full-blooded', 6225: 'lame', 6226: 'hampstead-on-cecil-cecil', 6227: 'countryman', 6228: 'mt', 6229: 'jimmy', 6230: 'cologne', 6231: 'gossipy', 6232: 'massachusetts', 6233: 'ideas', 6234: 'grandé', 6235: 'peppers', 6236: 'beverage', 6237: 'skunk', 6238: 'mary', 6239: 'hooray', 6240: 'breathalyzer', 6241: 'other_book_club_member:', 6242: 'chapel', 6243: 'halvsies', 6244: 'j', 6245: 'mickey', 6246: 'hmf', 6247: 'errrrrrr', 6248: 'limber', 6249: 'telegraph', 6250: \"sippin'\", 6251: 'ehhhhhhhhh', 6252: 'site', 6253: 'allow', 6254: 'cruiser', 6255: 'planted', 6256: 'car:', 6257: 'braun:', 6258: 'labor', 6259: 'fund', 6260: 'glitterati', 6261: 'nevada', 6262: 'traditions', 6263: 'monorails', 6264: 'badmouth', 6265: 'papa', 6266: 'recorded', 6267: 'lenses', 6268: 'hideous', 6269: 'stage', 6270: 'tank', 6271: 'committee', 6272: 'valley', 6273: 'happens', 6274: \"lovers'\", 6275: 'chipper', 6276: 'socratic', 6277: 'breakdown', 6278: 'nagurski', 6279: 'hearse', 6280: 'speed', 6281: 'trucks', 6282: 'ne', 6283: 'hub', 6284: 'treehouse', 6285: 'rusty', 6286: 'sanctuary', 6287: 'punching', 6288: 'sen', 6289: 'dishonor', 6290: 'elmer', 6291: 'celebrate', 6292: 'spite', 6293: 'raggie', 6294: \"g'night\", 6295: 'modestly', 6296: 'rims', 6297: 'ratted', 6298: 'ointment', 6299: 'blind', 6300: 'judgments', 6301: 'achebe', 6302: 'society', 6303: 'choked-up', 6304: 'dads', 6305: 'tight', 6306: 'sponsoring', 6307: 'bono:', 6308: 'tornado', 6309: 'bunion', 6310: 'imitating', 6311: 'loboto-moth', 6312: 'leprechaun', 6313: 'poster', 6314: 'ron_howard:', 6315: 'all-all-all', 6316: 'sketching', 6317: 'distance', 6318: 'guiltily', 6319: 'nelson', 6320: 'super-genius', 6321: 'glyco-load', 6322: 'runaway', 6323: 'idiots', 6324: 'sister-in-law', 6325: 'releases', 6326: 'lay', 6327: 'stood', 6328: 'choked', 6329: 'bonding', 6330: 'britannia', 6331: 'dark', 6332: 'lifters', 6333: 'wounds', 6334: 'neanderthal', 6335: 'craft', 6336: 'exploiter', 6337: 'jukebox_record:', 6338: 'life-extension', 6339: 'commanding', 6340: 'hostile', 6341: 'allowance', 6342: 'jay', 6343: 'fortensky', 6344: 'bachelorette', 6345: 'dateline', 6346: 'shard', 6347: 'gimmick', 6348: \"poisonin'\", 6349: 'dentist', 6350: 'strokkur', 6351: \"'s\", 6352: 'pharmaceutical', 6353: 'wears', 6354: 'easily', 6355: 'tiger', 6356: 'layer', 6357: 'tablecloth', 6358: 'skoal', 6359: 'mulder', 6360: 'alva', 6361: 'instantly', 6362: 'temper', 6363: 'dramatically', 6364: 'eager', 6365: \"man'd\", 6366: 'ruled', 6367: 'broken', 6368: '_marvin_monroe:', 6369: 'germany', 6370: 'flame', 6371: 'gator', 6372: 'hardy', 6373: 'distinct', 6374: 'eyeballs', 6375: 'perfume', 6376: 'simpsons', 6377: \"friend's\", 6378: '21', 6379: 'democrats', 6380: 'pumping', 6381: 'rug', 6382: 'patron_#2:', 6383: 'exclusive:', 6384: 'santeria', 6385: 'micronesian', 6386: 'bulked', 6387: 'brings', 6388: 'appreciated', 6389: \"lefty's\", 6390: 'scatter', 6391: '2nd_voice_on_transmitter:', 6392: 'displeased', 6393: 'juan', 6394: 'glorious', 6395: 'kemi', 6396: 'grenky', 6397: \"'your\", 6398: 'winning', 6399: 'derek', 6400: 'burnside', 6401: 'oww', 6402: 'eva', 6403: 'crinkly', 6404: 'break-up', 6405: 'slop', 6406: 'powers', 6407: 'pepsi', 6408: 'escort', 6409: 'experienced', 6410: 'brine', 6411: 'patented', 6412: 'halfway', 6413: 'johnny_carson:', 6414: 'full-bodied', 6415: 'hootie', 6416: \"yesterday's\", 6417: 'starters', 6418: \"c'mom\", 6419: 'occurred', 6420: 'script', 6421: 'spotting', 6422: 'drag', 6423: 'universe', 6424: 'outlive', 6425: 'bupkus', 6426: 'you-need-man', 6427: 'novelty', 6428: 'clearing', 6429: 'edelbrock', 6430: 'glummy', 6431: 'healthier', 6432: 'pronto', 6433: 'persia', 6434: 'tempting', 6435: 'dignity', 6436: 'caveman', 6437: 'shaker', 6438: 'heartless', 6439: 'singing/pushing', 6440: 'sloppy', 6441: 'flailing', 6442: 'rocks', 6443: 'unexplained', 6444: \"bringin'\", 6445: 'tubman', 6446: 'leonard', 6447: 'wobbly', 6448: 'earrings', 6449: 'paparazzo', 6450: 'fears', 6451: 'quitcher', 6452: 'flashbacks', 6453: 'diminish', 6454: 'absentmindedly', 6455: 'alcoholism', 6456: 'scanning', 6457: 'proves', 6458: 'female_inspector:', 6459: 'düffenbraus', 6460: 'tonic', 6461: \"cleanin'\", 6462: 'spews', 6463: 'dregs', 6464: 'incarcerated', 6465: 'scientific', 6466: 'libido', 6467: 'cheapskates', 6468: 'reciting', 6469: 'thomas', 6470: 'madonna', 6471: 'hollowed-out', 6472: 'whistling', 6473: 'hilton', 6474: 'harm', 6475: 'today/', 6476: 'tourist', 6477: 'east', 6478: 'gambler', 6479: 'reflected', 6480: \"'now\", 6481: 'lance', 6482: 'occasional', 6483: \"idea's\", 6484: 'chair', 6485: 'inanely', 6486: 'refinanced', 6487: 'tasty', 6488: 'choice:', 6489: 'au', 6490: 'lainie:', 6491: 'cushions', 6492: 'mid-conversation', 6493: 'factor', 6494: 'fumigated', 6495: 'hottest', 6496: 'she-pu', 6497: 'aah', 6498: 'suffering', 6499: 'flash-fry', 6500: 'figures', 6501: 'presentable', 6502: 'thirty-five', 6503: 'amber_dempsey:', 6504: 'roz', 6505: 'man_with_crazy_beard:', 6506: 'scruffy_blogger:', 6507: 'righ', 6508: 'often', 6509: 'drummer', 6510: 'throats', 6511: 'hardwood', 6512: 'shame', 6513: 'e', 6514: 'crotch', 6515: 'newest', 6516: 'quebec', 6517: 'putty', 6518: 'show-off', 6519: 'bowie', 6520: 'tenuous', 6521: 'releasing', 6522: 'handed', 6523: 'veteran', 6524: 'nicer', 6525: 'silent', 6526: 'hunky', 6527: 'appeals', 6528: 'super-nice', 6529: 'investment', 6530: 'sub-monkeys', 6531: 'batmobile', 6532: 'coherent', 6533: 'madison', 6534: 'nos', 6535: \"boy's\", 6536: 'actress', 6537: 'make:', 6538: 'material', 6539: 'smelling', 6540: 'locked', 6541: 'debonair', 6542: 'leathery', 6543: 'kills', 6544: 'tense', 6545: 'nbc', 6546: 'panties', 6547: 'polenta', 6548: 'dictator', 6549: 'limited', 6550: 'musses', 6551: 'backing', 6552: 'prettied', 6553: 'los', 6554: 'perón', 6555: 'opens', 6556: 'absorbent', 6557: 'fake', 6558: 'adjust', 6559: \"football's\", 6560: 'bannister', 6561: 'encore', 6562: 'waters', 6563: 'fink', 6564: 'novel', 6565: \"calf's\", 6566: 'puffy', 6567: 'trenchant', 6568: 'judges', 6569: 'pen', 6570: 'laughter', 6571: \"tootin'\", 6572: 'radiation', 6573: 'shutup', 6574: 'stepped', 6575: \"ya'\", 6576: 'deli', 6577: 'stooges', 6578: 'promotion', 6579: 'undies', 6580: 'slim', 6581: 'blessing', 6582: 'wiggle', 6583: 'key', 6584: 'cheesecake', 6585: 'rebuilt', 6586: 'knocks', 6587: 'distract', 6588: 'enjoyed', 6589: 'reckless', 6590: 'kings', 6591: 'slobbo', 6592: 'slapped', 6593: 'extinguishers', 6594: 'abcs', 6595: 'morning-after', 6596: 'fit', 6597: 'badge', 6598: 'gargoyles', 6599: 'sunny', 6600: 'thoughtless', 6601: 'knives', 6602: 'hemoglobin', 6603: 'owns', 6604: 'tidy', 6605: 'creme', 6606: 'timbuk-tee', 6607: 'bubbles-in-my-nose-y', 6608: 'insecure', 6609: 'passports', 6610: \"mother's\", 6611: 'funniest', 6612: 'imaginary', 6613: 'entrance', 6614: 'sieben-gruben', 6615: 'faceful', 6616: 'depressing', 6617: 'showed', 6618: 'nominated', 6619: 'kahlua', 6620: 'stripe', 6621: 'infiltrate', 6622: 'woodchucks', 6623: 'lovelorn', 6624: 'faces', 6625: 'zinged', 6626: 'declan', 6627: 'apology', 6628: 'contact', 6629: 'contented', 6630: 'schizophrenia', 6631: 'pontiff', 6632: \"renovatin'\", 6633: 'declare', 6634: 'sprawl', 6635: 'item', 6636: 'hushed', 6637: 'nap', 6638: 'pugilist', 6639: 'sensible', 6640: 'scornful', 6641: 'brooklyn', 6642: 'naively', 6643: 'players', 6644: 'grandkids', 6645: 'blade', 6646: 'absentminded', 6647: 'earlier', 6648: 'grocery', 6649: 'tv_daughter:', 6650: 'wigs', 6651: \"poundin'\", 6652: 'hexa-', 6653: 'banquet', 6654: 'candles', 6655: 'dizer', 6656: 'overturned', 6657: 'immiggants', 6658: 'mcclure', 6659: 'app', 6660: 'adventure', 6661: 'duke', 6662: 'sam:', 6663: 'ralph', 6664: 'semi-imported', 6665: 'email', 6666: 'nahasapeemapetilon', 6667: 'declared', 6668: 'chug-a-lug', 6669: 'louisiana', 6670: 'contemporary', 6671: 'cutest', 6672: 'togetherness', 6673: 'boyhood', 6674: 'photos', 6675: 'terrorizing', 6676: 'rump', 6677: 'doctor', 6678: 'imported-sounding', 6679: 'information', 6680: 'pills', 6681: 'though:', 6682: 'three-man', 6683: 'kim_basinger:', 6684: 'string', 6685: 'stats', 6686: \"president's\", 6687: 'sheet', 6688: 'index', 6689: 'shorter', 6690: 'researching', 6691: 'dispenser', 6692: 'kay', 6693: 'chill', 6694: 'full-time', 6695: 'connection', 6696: 'haws', 6697: 'gut', 6698: 'ventriloquism', 6699: 'tolerable', 6700: 'mobile', 6701: 'sink', 6702: 'silence', 6703: 'occurs', 6704: 'orphan', 6705: 'moesy', 6706: 'dig', 6707: 'brain-switching', 6708: 'thirty-nine', 6709: 'life-sized', 6710: 'completely', 6711: 'paste', 6712: 'enjoys', 6713: 'bites', 6714: 'len-ny', 6715: 'trustworthy', 6716: 'portfolium', 6717: 'counterfeit', 6718: 'unbelievably', 6719: 'weep', 6720: 'christian', 6721: 'jazz', 6722: 'fainted', 6723: 'steely-eyed', 6724: 'nantucket', 6725: 'mitts', 6726: 'poulet', 6727: 'golden', 6728: 'lists', 6729: 'sing-song', 6730: 'swishkabobs', 6731: 'shortcomings', 6732: 'bloodiest', 6733: 'detective', 6734: 'tuborg', 6735: 'goodwill', 6736: 'squabbled', 6737: 'inclination', 6738: 'sticking', 6739: 'boxcar', 6740: 'attracted', 6741: 'everyday', 6742: 'touch', 6743: 'vulgar', 6744: 'brace', 6745: 'boggs', 6746: 'gregor', 6747: 'augustus', 6748: 'skills', 6749: 'einstein', 6750: 'dealt', 6751: 'hitchhike', 6752: 'frazier', 6753: 'warning', 6754: 'briefly', 6755: 'assassination', 6756: 'abercrombie', 6757: 'sixty', 6758: 'beings', 6759: 'legally', 6760: 'divorced', 6761: 'ron', 6762: 'taxes', 6763: 'fayed', 6764: 'caholic', 6765: 'side:', 6766: 'eurotrash', 6767: \"g'on\", 6768: 'willing', 6769: 'chapstick', 6770: 'competitive', 6771: 'incognito', 6772: 'quarter', 6773: 'wishful', 6774: 'happily:', 6775: \"murphy's\"}\n"
     ]
    }
   ],
   "source": [
    "\"\"\"\n",
    "DON'T MODIFY ANYTHING IN THIS CELL\n",
    "\"\"\"\n",
    "# Preprocess Training, Validation, and Testing Data\n",
    "helper.preprocess_and_save_data(data_dir, token_lookup, create_lookup_tables)"
   ]
  },
  {
   "cell_type": "markdown",
   "metadata": {
    "deletable": true,
    "editable": true
   },
   "source": [
    "# Check Point\n",
    "This is your first checkpoint. If you ever decide to come back to this notebook or have to restart the notebook, you can start from here. The preprocessed data has been saved to disk."
   ]
  },
  {
   "cell_type": "code",
   "execution_count": 25,
   "metadata": {
    "collapsed": false,
    "deletable": true,
    "editable": true
   },
   "outputs": [],
   "source": [
    "\"\"\"\n",
    "DON'T MODIFY ANYTHING IN THIS CELL\n",
    "\"\"\"\n",
    "import helper\n",
    "import numpy as np\n",
    "import problem_unittests as tests\n",
    "\n",
    "int_text, vocab_to_int, int_to_vocab, token_dict = helper.load_preprocess()"
   ]
  },
  {
   "cell_type": "markdown",
   "metadata": {
    "deletable": true,
    "editable": true
   },
   "source": [
    "## Build the Neural Network\n",
    "You'll build the components necessary to build a RNN by implementing the following functions below:\n",
    "- get_inputs\n",
    "- get_init_cell\n",
    "- get_embed\n",
    "- build_rnn\n",
    "- build_nn\n",
    "- get_batches\n",
    "\n",
    "### Check the Version of TensorFlow and Access to GPU"
   ]
  },
  {
   "cell_type": "code",
   "execution_count": 26,
   "metadata": {
    "collapsed": false
   },
   "outputs": [
    {
     "name": "stdout",
     "output_type": "stream",
     "text": [
      "TensorFlow Version: 1.0.1\n"
     ]
    },
    {
     "name": "stderr",
     "output_type": "stream",
     "text": [
      "/Users/dougwright/miniconda3/lib/python3.5/site-packages/ipykernel/__main__.py:14: UserWarning: No GPU found. Please use a GPU to train your neural network.\n"
     ]
    }
   ],
   "source": [
    "\"\"\"\n",
    "DON'T MODIFY ANYTHING IN THIS CELL\n",
    "\"\"\"\n",
    "from distutils.version import LooseVersion\n",
    "import warnings\n",
    "import tensorflow as tf\n",
    "\n",
    "# Check TensorFlow Version\n",
    "assert LooseVersion(tf.__version__) >= LooseVersion('1.0'), 'Please use TensorFlow version 1.0 or newer'\n",
    "print('TensorFlow Version: {}'.format(tf.__version__))\n",
    "\n",
    "# Check for a GPU\n",
    "if not tf.test.gpu_device_name():\n",
    "    warnings.warn('No GPU found. Please use a GPU to train your neural network.')\n",
    "else:\n",
    "    print('Default GPU Device: {}'.format(tf.test.gpu_device_name()))"
   ]
  },
  {
   "cell_type": "markdown",
   "metadata": {},
   "source": [
    "### Input\n",
    "Implement the `get_inputs()` function to create TF Placeholders for the Neural Network.  It should create the following placeholders:\n",
    "- Input text placeholder named \"input\" using the [TF Placeholder](https://www.tensorflow.org/api_docs/python/tf/placeholder) `name` parameter.\n",
    "- Targets placeholder\n",
    "- Learning Rate placeholder\n",
    "\n",
    "Return the placeholders in the following the tuple `(Input, Targets, LearingRate)`"
   ]
  },
  {
   "cell_type": "code",
   "execution_count": 27,
   "metadata": {
    "collapsed": false,
    "deletable": true,
    "editable": true
   },
   "outputs": [
    {
     "name": "stdout",
     "output_type": "stream",
     "text": [
      "Tests Passed\n"
     ]
    }
   ],
   "source": [
    "def get_inputs():\n",
    "    \"\"\"\n",
    "    Create TF Placeholders for input, targets, and learning rate.\n",
    "    :return: Tuple (input, targets, learning rate)\n",
    "    \"\"\"\n",
    "    input_ = tf.placeholder(tf.int32, [None, None], name='input')\n",
    "    targets = tf.placeholder(tf.int32, [None, None], name='targets')\n",
    "    learning_rate = tf.placeholder(tf.float32, name='learn_rate')\n",
    "    return (input_, targets, learning_rate)\n",
    "\n",
    "\n",
    "\"\"\"\n",
    "DON'T MODIFY ANYTHING IN THIS CELL THAT IS BELOW THIS LINE\n",
    "\"\"\"\n",
    "tests.test_get_inputs(get_inputs)"
   ]
  },
  {
   "cell_type": "markdown",
   "metadata": {
    "deletable": true,
    "editable": true
   },
   "source": [
    "### Build RNN Cell and Initialize\n",
    "Stack one or more [`BasicLSTMCells`](https://www.tensorflow.org/api_docs/python/tf/contrib/rnn/BasicLSTMCell) in a [`MultiRNNCell`](https://www.tensorflow.org/api_docs/python/tf/contrib/rnn/MultiRNNCell).\n",
    "- The Rnn size should be set using `rnn_size`\n",
    "- Initalize Cell State using the MultiRNNCell's [`zero_state()`](https://www.tensorflow.org/api_docs/python/tf/contrib/rnn/MultiRNNCell#zero_state) function\n",
    "    - Apply the name \"initial_state\" to the initial state using [`tf.identity()`](https://www.tensorflow.org/api_docs/python/tf/identity)\n",
    "\n",
    "Return the cell and initial state in the following tuple `(Cell, InitialState)`"
   ]
  },
  {
   "cell_type": "code",
   "execution_count": 36,
   "metadata": {
    "collapsed": false,
    "deletable": true,
    "editable": true
   },
   "outputs": [
    {
     "name": "stdout",
     "output_type": "stream",
     "text": [
      "Tests Passed\n"
     ]
    }
   ],
   "source": [
    "def get_init_cell(batch_size, rnn_size):\n",
    "    \"\"\"\n",
    "    Create an RNN Cell and initialize it.\n",
    "    :param batch_size: Size of batches\n",
    "    :param rnn_size: Size of RNNs\n",
    "    :return: Tuple (cell, initialize state)\n",
    "    \"\"\"\n",
    "    lstm = tf.contrib.rnn.BasicLSTMCell(rnn_size)\n",
    "    cell = tf.contrib.rnn.MultiRNNCell([lstm])  # perhaps multiply by 2\n",
    "    initial_state = tf.identity(cell.zero_state(batch_size, dtype=tf.float32), name=\"initial_state\")\n",
    "    return (cell, initial_state)\n",
    "\n",
    "\n",
    "\"\"\"\n",
    "DON'T MODIFY ANYTHING IN THIS CELL THAT IS BELOW THIS LINE\n",
    "\"\"\"\n",
    "tests.test_get_init_cell(get_init_cell)"
   ]
  },
  {
   "cell_type": "markdown",
   "metadata": {
    "deletable": true,
    "editable": true
   },
   "source": [
    "### Word Embedding\n",
    "Apply embedding to `input_data` using TensorFlow.  Return the embedded sequence."
   ]
  },
  {
   "cell_type": "code",
   "execution_count": 37,
   "metadata": {
    "collapsed": false,
    "deletable": true,
    "editable": true
   },
   "outputs": [
    {
     "name": "stdout",
     "output_type": "stream",
     "text": [
      "Tests Passed\n"
     ]
    }
   ],
   "source": [
    "def get_embed(input_data, vocab_size, embed_dim):\n",
    "    \"\"\"\n",
    "    Create embedding for <input_data>.\n",
    "    :param input_data: TF placeholder for text input.\n",
    "    :param vocab_size: Number of words in vocabulary.\n",
    "    :param embed_dim: Number of embedding dimensions\n",
    "    :return: Embedded input.\n",
    "    \"\"\"\n",
    "    embedding = tf.Variable(tf.random_uniform((vocab_size, embed_dim), -1, 1))\n",
    "    embed = tf.nn.embedding_lookup(embedding, input_data)\n",
    "    return embed\n",
    "\n",
    "\n",
    "\"\"\"\n",
    "DON'T MODIFY ANYTHING IN THIS CELL THAT IS BELOW THIS LINE\n",
    "\"\"\"\n",
    "tests.test_get_embed(get_embed)"
   ]
  },
  {
   "cell_type": "markdown",
   "metadata": {
    "deletable": true,
    "editable": true
   },
   "source": [
    "### Build RNN\n",
    "You created a RNN Cell in the `get_init_cell()` function.  Time to use the cell to create a RNN.\n",
    "- Build the RNN using the [`tf.nn.dynamic_rnn()`](https://www.tensorflow.org/api_docs/python/tf/nn/dynamic_rnn)\n",
    " - Apply the name \"final_state\" to the final state using [`tf.identity()`](https://www.tensorflow.org/api_docs/python/tf/identity)\n",
    "\n",
    "Return the outputs and final_state state in the following tuple `(Outputs, FinalState)` "
   ]
  },
  {
   "cell_type": "code",
   "execution_count": 40,
   "metadata": {
    "collapsed": false,
    "deletable": true,
    "editable": true
   },
   "outputs": [
    {
     "name": "stdout",
     "output_type": "stream",
     "text": [
      "Tests Passed\n"
     ]
    }
   ],
   "source": [
    "def build_rnn(cell, inputs):\n",
    "    \"\"\"\n",
    "    Create a RNN using a RNN Cell\n",
    "    :param cell: RNN Cell\n",
    "    :param inputs: Input text data\n",
    "    :return: Tuple (Outputs, Final State)\n",
    "    \"\"\"\n",
    "    outputs, final_state = tf.nn.dynamic_rnn(cell, inputs, dtype=tf.float32)\n",
    "    final_state = tf.identity(final_state, name='final_state')\n",
    "    return (outputs, final_state)\n",
    "\n",
    "\n",
    "\"\"\"\n",
    "DON'T MODIFY ANYTHING IN THIS CELL THAT IS BELOW THIS LINE\n",
    "\"\"\"\n",
    "tests.test_build_rnn(build_rnn)"
   ]
  },
  {
   "cell_type": "markdown",
   "metadata": {
    "deletable": true,
    "editable": true
   },
   "source": [
    "### Build the Neural Network\n",
    "Apply the functions you implemented above to:\n",
    "- Apply embedding to `input_data` using your `get_embed(input_data, vocab_size, embed_dim)` function.\n",
    "- Build RNN using `cell` and your `build_rnn(cell, inputs)` function.\n",
    "- Apply a fully connected layer with a linear activation and `vocab_size` as the number of outputs.\n",
    "\n",
    "Return the logits and final state in the following tuple (Logits, FinalState) "
   ]
  },
  {
   "cell_type": "code",
   "execution_count": 50,
   "metadata": {
    "collapsed": false,
    "deletable": true,
    "editable": true
   },
   "outputs": [
    {
     "name": "stdout",
     "output_type": "stream",
     "text": [
      "Tests Passed\n"
     ]
    }
   ],
   "source": [
    "def build_nn(cell, rnn_size, input_data, vocab_size):\n",
    "    \"\"\"\n",
    "    Build part of the neural network\n",
    "    :param cell: RNN cell\n",
    "    :param rnn_size: Size of rnns\n",
    "    :param input_data: Input data\n",
    "    :param vocab_size: Vocabulary size\n",
    "    :return: Tuple (Logits, FinalState)\n",
    "    \"\"\"\n",
    "    embed = get_embed(input_data, vocab_size, 200)\n",
    "    outputs, final_state = build_rnn(cell, embed)\n",
    "    logits = tf.contrib.layers.fully_connected(outputs, vocab_size, activation_fn=None)\n",
    "    \n",
    "    return (logits, final_state)\n",
    "\n",
    "\n",
    "\"\"\"\n",
    "DON'T MODIFY ANYTHING IN THIS CELL THAT IS BELOW THIS LINE\n",
    "\"\"\"\n",
    "tests.test_build_nn(build_nn)"
   ]
  },
  {
   "cell_type": "markdown",
   "metadata": {
    "deletable": true,
    "editable": true
   },
   "source": [
    "### Batches\n",
    "Implement `get_batches` to create batches of input and targets using `int_text`.  The batches should be a Numpy array with the shape `(number of batches, 2, batch size, sequence length)`. Each batch contains two elements:\n",
    "- The first element is a single batch of **input** with the shape `[batch size, sequence length]`\n",
    "- The second element is a single batch of **targets** with the shape `[batch size, sequence length]`\n",
    "\n",
    "If you can't fill the last batch with enough data, drop the last batch.\n",
    "\n",
    "For exmple, `get_batches([1, 2, 3, 4, 5, 6, 7, 8, 9, 10, 11, 12, 13, 14, 15], 2, 3)` would return a Numpy array of the following:\n",
    "```\n",
    "[\n",
    "  # First Batch\n",
    "  [\n",
    "    # Batch of Input\n",
    "    [[ 1  2  3], [ 7  8  9]],\n",
    "    # Batch of targets\n",
    "    [[ 2  3  4], [ 8  9 10]]\n",
    "  ],\n",
    " \n",
    "  # Second Batch\n",
    "  [\n",
    "    # Batch of Input\n",
    "    [[ 4  5  6], [10 11 12]],\n",
    "    # Batch of targets\n",
    "    [[ 5  6  7], [11 12 13]]\n",
    "  ]\n",
    "]\n",
    "```"
   ]
  },
  {
   "cell_type": "code",
   "execution_count": 63,
   "metadata": {
    "collapsed": false,
    "deletable": true,
    "editable": true
   },
   "outputs": [
    {
     "name": "stdout",
     "output_type": "stream",
     "text": [
      "Tests Passed\n"
     ]
    }
   ],
   "source": [
    "def get_batches(int_text, batch_size, seq_length):\n",
    "    \"\"\"\n",
    "    Return batches of input and target\n",
    "    :param int_text: Text with the words replaced by their ids\n",
    "    :param batch_size: The size of batch\n",
    "    :param seq_length: The length of sequence\n",
    "    :return: Batches as a Numpy array\n",
    "    \"\"\"\n",
    "    n_batches = int(len(int_text) / (batch_size * seq_length))\n",
    "\n",
    "    # Drop the last few characters to make only full batches\n",
    "    xdata = np.array(int_text[: n_batches * batch_size * seq_length])\n",
    "    ydata = np.array(int_text[1: n_batches * batch_size * seq_length + 1])\n",
    "\n",
    "    x_batches = np.split(xdata.reshape(batch_size, -1), n_batches, 1)\n",
    "    y_batches = np.split(ydata.reshape(batch_size, -1), n_batches, 1)\n",
    "\n",
    "    return np.array(list(zip(x_batches, y_batches)))\n",
    "    \n",
    "    \n",
    "\n",
    "\n",
    "\"\"\"\n",
    "DON'T MODIFY ANYTHING IN THIS CELL THAT IS BELOW THIS LINE\n",
    "\"\"\"\n",
    "tests.test_get_batches(get_batches)"
   ]
  },
  {
   "cell_type": "markdown",
   "metadata": {
    "deletable": true,
    "editable": true
   },
   "source": [
    "## Neural Network Training\n",
    "### Hyperparameters\n",
    "Tune the following parameters:\n",
    "\n",
    "- Set `num_epochs` to the number of epochs.\n",
    "- Set `batch_size` to the batch size.\n",
    "- Set `rnn_size` to the size of the RNNs.\n",
    "- Set `seq_length` to the length of sequence.\n",
    "- Set `learning_rate` to the learning rate.\n",
    "- Set `show_every_n_batches` to the number of batches the neural network should print progress."
   ]
  },
  {
   "cell_type": "code",
   "execution_count": 64,
   "metadata": {
    "collapsed": true,
    "deletable": true,
    "editable": true
   },
   "outputs": [],
   "source": [
    "# Number of Epochs\n",
    "num_epochs = 200\n",
    "# Batch Size\n",
    "batch_size = 50\n",
    "# RNN Size\n",
    "rnn_size = 300\n",
    "# Sequence Length\n",
    "seq_length = 25\n",
    "# Learning Rate\n",
    "learning_rate = 0.01\n",
    "# Show stats for every n number of batches\n",
    "show_every_n_batches = 25\n",
    "\n",
    "\n",
    "\"\"\"\n",
    "DON'T MODIFY ANYTHING IN THIS CELL THAT IS BELOW THIS LINE\n",
    "\"\"\"\n",
    "save_dir = './save'"
   ]
  },
  {
   "cell_type": "markdown",
   "metadata": {
    "deletable": true,
    "editable": true
   },
   "source": [
    "### Build the Graph\n",
    "Build the graph using the neural network you implemented."
   ]
  },
  {
   "cell_type": "code",
   "execution_count": 65,
   "metadata": {
    "collapsed": false,
    "deletable": true,
    "editable": true
   },
   "outputs": [],
   "source": [
    "\"\"\"\n",
    "DON'T MODIFY ANYTHING IN THIS CELL\n",
    "\"\"\"\n",
    "from tensorflow.contrib import seq2seq\n",
    "\n",
    "train_graph = tf.Graph()\n",
    "with train_graph.as_default():\n",
    "    vocab_size = len(int_to_vocab)\n",
    "    input_text, targets, lr = get_inputs()\n",
    "    input_data_shape = tf.shape(input_text)\n",
    "    cell, initial_state = get_init_cell(input_data_shape[0], rnn_size)\n",
    "    logits, final_state = build_nn(cell, rnn_size, input_text, vocab_size)\n",
    "\n",
    "    # Probabilities for generating words\n",
    "    probs = tf.nn.softmax(logits, name='probs')\n",
    "\n",
    "    # Loss function\n",
    "    cost = seq2seq.sequence_loss(\n",
    "        logits,\n",
    "        targets,\n",
    "        tf.ones([input_data_shape[0], input_data_shape[1]]))\n",
    "\n",
    "    # Optimizer\n",
    "    optimizer = tf.train.AdamOptimizer(lr)\n",
    "\n",
    "    # Gradient Clipping\n",
    "    gradients = optimizer.compute_gradients(cost)\n",
    "    capped_gradients = [(tf.clip_by_value(grad, -1., 1.), var) for grad, var in gradients]\n",
    "    train_op = optimizer.apply_gradients(capped_gradients)"
   ]
  },
  {
   "cell_type": "markdown",
   "metadata": {
    "deletable": true,
    "editable": true
   },
   "source": [
    "## Train\n",
    "Train the neural network on the preprocessed data.  If you have a hard time getting a good loss, check the [forms](https://discussions.udacity.com/) to see if anyone is having the same problem."
   ]
  },
  {
   "cell_type": "code",
   "execution_count": 66,
   "metadata": {
    "collapsed": false,
    "deletable": true,
    "editable": true
   },
   "outputs": [
    {
     "name": "stdout",
     "output_type": "stream",
     "text": [
      "Epoch   0 Batch    0/55   train_loss = 8.823\n",
      "Epoch   0 Batch   25/55   train_loss = 5.526\n",
      "Epoch   0 Batch   50/55   train_loss = 5.077\n",
      "Epoch   1 Batch   20/55   train_loss = 4.840\n",
      "Epoch   1 Batch   45/55   train_loss = 4.541\n",
      "Epoch   2 Batch   15/55   train_loss = 4.258\n",
      "Epoch   2 Batch   40/55   train_loss = 4.227\n",
      "Epoch   3 Batch   10/55   train_loss = 3.883\n",
      "Epoch   3 Batch   35/55   train_loss = 3.692\n",
      "Epoch   4 Batch    5/55   train_loss = 3.462\n",
      "Epoch   4 Batch   30/55   train_loss = 3.517\n",
      "Epoch   5 Batch    0/55   train_loss = 3.105\n",
      "Epoch   5 Batch   25/55   train_loss = 3.066\n",
      "Epoch   5 Batch   50/55   train_loss = 2.889\n",
      "Epoch   6 Batch   20/55   train_loss = 2.940\n",
      "Epoch   6 Batch   45/55   train_loss = 2.726\n",
      "Epoch   7 Batch   15/55   train_loss = 2.646\n",
      "Epoch   7 Batch   40/55   train_loss = 2.616\n",
      "Epoch   8 Batch   10/55   train_loss = 2.375\n",
      "Epoch   8 Batch   35/55   train_loss = 2.342\n",
      "Epoch   9 Batch    5/55   train_loss = 2.214\n",
      "Epoch   9 Batch   30/55   train_loss = 2.147\n",
      "Epoch  10 Batch    0/55   train_loss = 1.933\n",
      "Epoch  10 Batch   25/55   train_loss = 1.748\n",
      "Epoch  10 Batch   50/55   train_loss = 1.780\n",
      "Epoch  11 Batch   20/55   train_loss = 1.668\n",
      "Epoch  11 Batch   45/55   train_loss = 1.650\n",
      "Epoch  12 Batch   15/55   train_loss = 1.653\n",
      "Epoch  12 Batch   40/55   train_loss = 1.490\n",
      "Epoch  13 Batch   10/55   train_loss = 1.502\n",
      "Epoch  13 Batch   35/55   train_loss = 1.314\n",
      "Epoch  14 Batch    5/55   train_loss = 1.401\n",
      "Epoch  14 Batch   30/55   train_loss = 1.284\n",
      "Epoch  15 Batch    0/55   train_loss = 1.170\n",
      "Epoch  15 Batch   25/55   train_loss = 1.055\n",
      "Epoch  15 Batch   50/55   train_loss = 1.158\n",
      "Epoch  16 Batch   20/55   train_loss = 1.024\n",
      "Epoch  16 Batch   45/55   train_loss = 1.017\n",
      "Epoch  17 Batch   15/55   train_loss = 1.076\n",
      "Epoch  17 Batch   40/55   train_loss = 0.922\n",
      "Epoch  18 Batch   10/55   train_loss = 1.032\n",
      "Epoch  18 Batch   35/55   train_loss = 0.869\n",
      "Epoch  19 Batch    5/55   train_loss = 0.960\n",
      "Epoch  19 Batch   30/55   train_loss = 0.920\n",
      "Epoch  20 Batch    0/55   train_loss = 0.774\n",
      "Epoch  20 Batch   25/55   train_loss = 0.742\n",
      "Epoch  20 Batch   50/55   train_loss = 0.824\n",
      "Epoch  21 Batch   20/55   train_loss = 0.748\n",
      "Epoch  21 Batch   45/55   train_loss = 0.763\n",
      "Epoch  22 Batch   15/55   train_loss = 0.842\n",
      "Epoch  22 Batch   40/55   train_loss = 0.689\n",
      "Epoch  23 Batch   10/55   train_loss = 0.729\n",
      "Epoch  23 Batch   35/55   train_loss = 0.691\n",
      "Epoch  24 Batch    5/55   train_loss = 0.727\n",
      "Epoch  24 Batch   30/55   train_loss = 0.739\n",
      "Epoch  25 Batch    0/55   train_loss = 0.629\n",
      "Epoch  25 Batch   25/55   train_loss = 0.635\n",
      "Epoch  25 Batch   50/55   train_loss = 0.701\n",
      "Epoch  26 Batch   20/55   train_loss = 0.669\n",
      "Epoch  26 Batch   45/55   train_loss = 0.656\n",
      "Epoch  27 Batch   15/55   train_loss = 0.737\n",
      "Epoch  27 Batch   40/55   train_loss = 0.632\n",
      "Epoch  28 Batch   10/55   train_loss = 0.685\n",
      "Epoch  28 Batch   35/55   train_loss = 0.671\n",
      "Epoch  29 Batch    5/55   train_loss = 0.691\n",
      "Epoch  29 Batch   30/55   train_loss = 0.695\n",
      "Epoch  30 Batch    0/55   train_loss = 0.643\n",
      "Epoch  30 Batch   25/55   train_loss = 0.647\n",
      "Epoch  30 Batch   50/55   train_loss = 0.635\n",
      "Epoch  31 Batch   20/55   train_loss = 0.598\n",
      "Epoch  31 Batch   45/55   train_loss = 0.647\n",
      "Epoch  32 Batch   15/55   train_loss = 0.721\n",
      "Epoch  32 Batch   40/55   train_loss = 0.645\n",
      "Epoch  33 Batch   10/55   train_loss = 0.677\n",
      "Epoch  33 Batch   35/55   train_loss = 0.651\n",
      "Epoch  34 Batch    5/55   train_loss = 0.660\n",
      "Epoch  34 Batch   30/55   train_loss = 0.661\n",
      "Epoch  35 Batch    0/55   train_loss = 0.575\n",
      "Epoch  35 Batch   25/55   train_loss = 0.529\n",
      "Epoch  35 Batch   50/55   train_loss = 0.582\n",
      "Epoch  36 Batch   20/55   train_loss = 0.553\n",
      "Epoch  36 Batch   45/55   train_loss = 0.551\n",
      "Epoch  37 Batch   15/55   train_loss = 0.578\n",
      "Epoch  37 Batch   40/55   train_loss = 0.505\n",
      "Epoch  38 Batch   10/55   train_loss = 0.532\n",
      "Epoch  38 Batch   35/55   train_loss = 0.495\n",
      "Epoch  39 Batch    5/55   train_loss = 0.451\n",
      "Epoch  39 Batch   30/55   train_loss = 0.459\n",
      "Epoch  40 Batch    0/55   train_loss = 0.378\n",
      "Epoch  40 Batch   25/55   train_loss = 0.341\n",
      "Epoch  40 Batch   50/55   train_loss = 0.411\n",
      "Epoch  41 Batch   20/55   train_loss = 0.335\n",
      "Epoch  41 Batch   45/55   train_loss = 0.350\n",
      "Epoch  42 Batch   15/55   train_loss = 0.344\n",
      "Epoch  42 Batch   40/55   train_loss = 0.295\n",
      "Epoch  43 Batch   10/55   train_loss = 0.286\n",
      "Epoch  43 Batch   35/55   train_loss = 0.309\n",
      "Epoch  44 Batch    5/55   train_loss = 0.265\n",
      "Epoch  44 Batch   30/55   train_loss = 0.261\n",
      "Epoch  45 Batch    0/55   train_loss = 0.221\n",
      "Epoch  45 Batch   25/55   train_loss = 0.160\n",
      "Epoch  45 Batch   50/55   train_loss = 0.235\n",
      "Epoch  46 Batch   20/55   train_loss = 0.197\n",
      "Epoch  46 Batch   45/55   train_loss = 0.208\n",
      "Epoch  47 Batch   15/55   train_loss = 0.223\n",
      "Epoch  47 Batch   40/55   train_loss = 0.190\n",
      "Epoch  48 Batch   10/55   train_loss = 0.178\n",
      "Epoch  48 Batch   35/55   train_loss = 0.204\n",
      "Epoch  49 Batch    5/55   train_loss = 0.167\n",
      "Epoch  49 Batch   30/55   train_loss = 0.185\n",
      "Epoch  50 Batch    0/55   train_loss = 0.140\n",
      "Epoch  50 Batch   25/55   train_loss = 0.110\n",
      "Epoch  50 Batch   50/55   train_loss = 0.175\n",
      "Epoch  51 Batch   20/55   train_loss = 0.157\n",
      "Epoch  51 Batch   45/55   train_loss = 0.160\n",
      "Epoch  52 Batch   15/55   train_loss = 0.167\n",
      "Epoch  52 Batch   40/55   train_loss = 0.151\n",
      "Epoch  53 Batch   10/55   train_loss = 0.150\n",
      "Epoch  53 Batch   35/55   train_loss = 0.179\n",
      "Epoch  54 Batch    5/55   train_loss = 0.155\n",
      "Epoch  54 Batch   30/55   train_loss = 0.170\n",
      "Epoch  55 Batch    0/55   train_loss = 0.126\n",
      "Epoch  55 Batch   25/55   train_loss = 0.104\n",
      "Epoch  55 Batch   50/55   train_loss = 0.163\n",
      "Epoch  56 Batch   20/55   train_loss = 0.147\n",
      "Epoch  56 Batch   45/55   train_loss = 0.149\n",
      "Epoch  57 Batch   15/55   train_loss = 0.160\n",
      "Epoch  57 Batch   40/55   train_loss = 0.147\n",
      "Epoch  58 Batch   10/55   train_loss = 0.149\n",
      "Epoch  58 Batch   35/55   train_loss = 0.179\n",
      "Epoch  59 Batch    5/55   train_loss = 0.144\n",
      "Epoch  59 Batch   30/55   train_loss = 0.168\n",
      "Epoch  60 Batch    0/55   train_loss = 0.123\n",
      "Epoch  60 Batch   25/55   train_loss = 0.098\n",
      "Epoch  60 Batch   50/55   train_loss = 0.159\n",
      "Epoch  61 Batch   20/55   train_loss = 0.145\n",
      "Epoch  61 Batch   45/55   train_loss = 0.145\n",
      "Epoch  62 Batch   15/55   train_loss = 0.157\n",
      "Epoch  62 Batch   40/55   train_loss = 0.141\n",
      "Epoch  63 Batch   10/55   train_loss = 0.143\n",
      "Epoch  63 Batch   35/55   train_loss = 0.172\n",
      "Epoch  64 Batch    5/55   train_loss = 0.149\n",
      "Epoch  64 Batch   30/55   train_loss = 0.164\n",
      "Epoch  65 Batch    0/55   train_loss = 0.122\n",
      "Epoch  65 Batch   25/55   train_loss = 0.098\n",
      "Epoch  65 Batch   50/55   train_loss = 0.157\n",
      "Epoch  66 Batch   20/55   train_loss = 0.142\n",
      "Epoch  66 Batch   45/55   train_loss = 0.143\n",
      "Epoch  67 Batch   15/55   train_loss = 0.156\n",
      "Epoch  67 Batch   40/55   train_loss = 0.144\n",
      "Epoch  68 Batch   10/55   train_loss = 0.145\n",
      "Epoch  68 Batch   35/55   train_loss = 0.175\n",
      "Epoch  69 Batch    5/55   train_loss = 0.140\n",
      "Epoch  69 Batch   30/55   train_loss = 0.164\n",
      "Epoch  70 Batch    0/55   train_loss = 0.121\n",
      "Epoch  70 Batch   25/55   train_loss = 0.096\n",
      "Epoch  70 Batch   50/55   train_loss = 0.156\n",
      "Epoch  71 Batch   20/55   train_loss = 0.142\n",
      "Epoch  71 Batch   45/55   train_loss = 0.142\n",
      "Epoch  72 Batch   15/55   train_loss = 0.155\n",
      "Epoch  72 Batch   40/55   train_loss = 0.139\n",
      "Epoch  73 Batch   10/55   train_loss = 0.142\n",
      "Epoch  73 Batch   35/55   train_loss = 0.172\n",
      "Epoch  74 Batch    5/55   train_loss = 0.148\n",
      "Epoch  74 Batch   30/55   train_loss = 0.163\n",
      "Epoch  75 Batch    0/55   train_loss = 0.121\n",
      "Epoch  75 Batch   25/55   train_loss = 0.097\n",
      "Epoch  75 Batch   50/55   train_loss = 0.156\n",
      "Epoch  76 Batch   20/55   train_loss = 0.141\n",
      "Epoch  76 Batch   45/55   train_loss = 0.142\n",
      "Epoch  77 Batch   15/55   train_loss = 0.156\n",
      "Epoch  77 Batch   40/55   train_loss = 0.144\n",
      "Epoch  78 Batch   10/55   train_loss = 0.144\n",
      "Epoch  78 Batch   35/55   train_loss = 0.174\n",
      "Epoch  79 Batch    5/55   train_loss = 0.140\n",
      "Epoch  79 Batch   30/55   train_loss = 0.164\n",
      "Epoch  80 Batch    0/55   train_loss = 0.121\n",
      "Epoch  80 Batch   25/55   train_loss = 0.095\n",
      "Epoch  80 Batch   50/55   train_loss = 0.157\n",
      "Epoch  81 Batch   20/55   train_loss = 0.142\n",
      "Epoch  81 Batch   45/55   train_loss = 0.141\n",
      "Epoch  82 Batch   15/55   train_loss = 0.158\n",
      "Epoch  82 Batch   40/55   train_loss = 0.143\n",
      "Epoch  83 Batch   10/55   train_loss = 0.159\n",
      "Epoch  83 Batch   35/55   train_loss = 0.234\n",
      "Epoch  84 Batch    5/55   train_loss = 1.201\n",
      "Epoch  84 Batch   30/55   train_loss = 3.900\n",
      "Epoch  85 Batch    0/55   train_loss = 4.413\n",
      "Epoch  85 Batch   25/55   train_loss = 3.617\n",
      "Epoch  85 Batch   50/55   train_loss = 3.194\n",
      "Epoch  86 Batch   20/55   train_loss = 2.874\n",
      "Epoch  86 Batch   45/55   train_loss = 2.407\n",
      "Epoch  87 Batch   15/55   train_loss = 2.147\n",
      "Epoch  87 Batch   40/55   train_loss = 2.017\n",
      "Epoch  88 Batch   10/55   train_loss = 1.789\n",
      "Epoch  88 Batch   35/55   train_loss = 1.508\n",
      "Epoch  89 Batch    5/55   train_loss = 1.494\n",
      "Epoch  89 Batch   30/55   train_loss = 1.385\n",
      "Epoch  90 Batch    0/55   train_loss = 1.205\n",
      "Epoch  90 Batch   25/55   train_loss = 0.976\n",
      "Epoch  90 Batch   50/55   train_loss = 1.044\n",
      "Epoch  91 Batch   20/55   train_loss = 0.899\n",
      "Epoch  91 Batch   45/55   train_loss = 0.887\n",
      "Epoch  92 Batch   15/55   train_loss = 0.915\n",
      "Epoch  92 Batch   40/55   train_loss = 0.786\n",
      "Epoch  93 Batch   10/55   train_loss = 0.737\n",
      "Epoch  93 Batch   35/55   train_loss = 0.684\n",
      "Epoch  94 Batch    5/55   train_loss = 0.660\n",
      "Epoch  94 Batch   30/55   train_loss = 0.654\n",
      "Epoch  95 Batch    0/55   train_loss = 0.542\n",
      "Epoch  95 Batch   25/55   train_loss = 0.450\n",
      "Epoch  95 Batch   50/55   train_loss = 0.520\n",
      "Epoch  96 Batch   20/55   train_loss = 0.458\n",
      "Epoch  96 Batch   45/55   train_loss = 0.467\n",
      "Epoch  97 Batch   15/55   train_loss = 0.481\n",
      "Epoch  97 Batch   40/55   train_loss = 0.423\n",
      "Epoch  98 Batch   10/55   train_loss = 0.407\n",
      "Epoch  98 Batch   35/55   train_loss = 0.377\n",
      "Epoch  99 Batch    5/55   train_loss = 0.359\n",
      "Epoch  99 Batch   30/55   train_loss = 0.378\n",
      "Epoch 100 Batch    0/55   train_loss = 0.296\n",
      "Epoch 100 Batch   25/55   train_loss = 0.251\n",
      "Epoch 100 Batch   50/55   train_loss = 0.317\n",
      "Epoch 101 Batch   20/55   train_loss = 0.290\n",
      "Epoch 101 Batch   45/55   train_loss = 0.298\n",
      "Epoch 102 Batch   15/55   train_loss = 0.299\n",
      "Epoch 102 Batch   40/55   train_loss = 0.259\n",
      "Epoch 103 Batch   10/55   train_loss = 0.277\n",
      "Epoch 103 Batch   35/55   train_loss = 0.274\n",
      "Epoch 104 Batch    5/55   train_loss = 0.247\n",
      "Epoch 104 Batch   30/55   train_loss = 0.267\n",
      "Epoch 105 Batch    0/55   train_loss = 0.209\n",
      "Epoch 105 Batch   25/55   train_loss = 0.177\n",
      "Epoch 105 Batch   50/55   train_loss = 0.242\n",
      "Epoch 106 Batch   20/55   train_loss = 0.218\n",
      "Epoch 106 Batch   45/55   train_loss = 0.228\n",
      "Epoch 107 Batch   15/55   train_loss = 0.227\n",
      "Epoch 107 Batch   40/55   train_loss = 0.202\n",
      "Epoch 108 Batch   10/55   train_loss = 0.226\n",
      "Epoch 108 Batch   35/55   train_loss = 0.236\n",
      "Epoch 109 Batch    5/55   train_loss = 0.216\n",
      "Epoch 109 Batch   30/55   train_loss = 0.227\n",
      "Epoch 110 Batch    0/55   train_loss = 0.178\n",
      "Epoch 110 Batch   25/55   train_loss = 0.152\n",
      "Epoch 110 Batch   50/55   train_loss = 0.215\n",
      "Epoch 111 Batch   20/55   train_loss = 0.196\n",
      "Epoch 111 Batch   45/55   train_loss = 0.194\n",
      "Epoch 112 Batch   15/55   train_loss = 0.205\n",
      "Epoch 112 Batch   40/55   train_loss = 0.194\n",
      "Epoch 113 Batch   10/55   train_loss = 0.210\n",
      "Epoch 113 Batch   35/55   train_loss = 0.242\n",
      "Epoch 114 Batch    5/55   train_loss = 0.228\n",
      "Epoch 114 Batch   30/55   train_loss = 0.258\n",
      "Epoch 115 Batch    0/55   train_loss = 0.241\n",
      "Epoch 115 Batch   25/55   train_loss = 0.262\n",
      "Epoch 115 Batch   50/55   train_loss = 0.543\n",
      "Epoch 116 Batch   20/55   train_loss = 0.932\n",
      "Epoch 116 Batch   45/55   train_loss = 1.622\n",
      "Epoch 117 Batch   15/55   train_loss = 2.238\n",
      "Epoch 117 Batch   40/55   train_loss = 2.604\n",
      "Epoch 118 Batch   10/55   train_loss = 2.483\n",
      "Epoch 118 Batch   35/55   train_loss = 2.379\n",
      "Epoch 119 Batch    5/55   train_loss = 2.212\n",
      "Epoch 119 Batch   30/55   train_loss = 1.916\n",
      "Epoch 120 Batch    0/55   train_loss = 1.642\n",
      "Epoch 120 Batch   25/55   train_loss = 1.363\n",
      "Epoch 120 Batch   50/55   train_loss = 1.400\n",
      "Epoch 121 Batch   20/55   train_loss = 1.242\n",
      "Epoch 121 Batch   45/55   train_loss = 1.129\n",
      "Epoch 122 Batch   15/55   train_loss = 1.109\n",
      "Epoch 122 Batch   40/55   train_loss = 1.009\n",
      "Epoch 123 Batch   10/55   train_loss = 0.906\n",
      "Epoch 123 Batch   35/55   train_loss = 0.830\n",
      "Epoch 124 Batch    5/55   train_loss = 0.824\n",
      "Epoch 124 Batch   30/55   train_loss = 0.696\n",
      "Epoch 125 Batch    0/55   train_loss = 0.604\n",
      "Epoch 125 Batch   25/55   train_loss = 0.485\n",
      "Epoch 125 Batch   50/55   train_loss = 0.530\n",
      "Epoch 126 Batch   20/55   train_loss = 0.457\n",
      "Epoch 126 Batch   45/55   train_loss = 0.468\n",
      "Epoch 127 Batch   15/55   train_loss = 0.476\n",
      "Epoch 127 Batch   40/55   train_loss = 0.399\n",
      "Epoch 128 Batch   10/55   train_loss = 0.390\n",
      "Epoch 128 Batch   35/55   train_loss = 0.369\n",
      "Epoch 129 Batch    5/55   train_loss = 0.362\n",
      "Epoch 129 Batch   30/55   train_loss = 0.333\n",
      "Epoch 130 Batch    0/55   train_loss = 0.262\n",
      "Epoch 130 Batch   25/55   train_loss = 0.222\n",
      "Epoch 130 Batch   50/55   train_loss = 0.278\n",
      "Epoch 131 Batch   20/55   train_loss = 0.247\n",
      "Epoch 131 Batch   45/55   train_loss = 0.268\n",
      "Epoch 132 Batch   15/55   train_loss = 0.259\n",
      "Epoch 132 Batch   40/55   train_loss = 0.232\n",
      "Epoch 133 Batch   10/55   train_loss = 0.239\n",
      "Epoch 133 Batch   35/55   train_loss = 0.246\n",
      "Epoch 134 Batch    5/55   train_loss = 0.232\n",
      "Epoch 134 Batch   30/55   train_loss = 0.236\n",
      "Epoch 135 Batch    0/55   train_loss = 0.182\n",
      "Epoch 135 Batch   25/55   train_loss = 0.150\n",
      "Epoch 135 Batch   50/55   train_loss = 0.207\n",
      "Epoch 136 Batch   20/55   train_loss = 0.190\n",
      "Epoch 136 Batch   45/55   train_loss = 0.198\n",
      "Epoch 137 Batch   15/55   train_loss = 0.200\n",
      "Epoch 137 Batch   40/55   train_loss = 0.187\n",
      "Epoch 138 Batch   10/55   train_loss = 0.192\n",
      "Epoch 138 Batch   35/55   train_loss = 0.210\n",
      "Epoch 139 Batch    5/55   train_loss = 0.189\n",
      "Epoch 139 Batch   30/55   train_loss = 0.205\n",
      "Epoch 140 Batch    0/55   train_loss = 0.155\n",
      "Epoch 140 Batch   25/55   train_loss = 0.125\n",
      "Epoch 140 Batch   50/55   train_loss = 0.187\n",
      "Epoch 141 Batch   20/55   train_loss = 0.168\n",
      "Epoch 141 Batch   45/55   train_loss = 0.175\n",
      "Epoch 142 Batch   15/55   train_loss = 0.182\n",
      "Epoch 142 Batch   40/55   train_loss = 0.166\n",
      "Epoch 143 Batch   10/55   train_loss = 0.171\n",
      "Epoch 143 Batch   35/55   train_loss = 0.197\n",
      "Epoch 144 Batch    5/55   train_loss = 0.167\n",
      "Epoch 144 Batch   30/55   train_loss = 0.186\n",
      "Epoch 145 Batch    0/55   train_loss = 0.141\n",
      "Epoch 145 Batch   25/55   train_loss = 0.113\n",
      "Epoch 145 Batch   50/55   train_loss = 0.174\n",
      "Epoch 146 Batch   20/55   train_loss = 0.159\n",
      "Epoch 146 Batch   45/55   train_loss = 0.157\n",
      "Epoch 147 Batch   15/55   train_loss = 0.168\n",
      "Epoch 147 Batch   40/55   train_loss = 0.154\n",
      "Epoch 148 Batch   10/55   train_loss = 0.163\n",
      "Epoch 148 Batch   35/55   train_loss = 0.188\n",
      "Epoch 149 Batch    5/55   train_loss = 0.158\n",
      "Epoch 149 Batch   30/55   train_loss = 0.178\n",
      "Epoch 150 Batch    0/55   train_loss = 0.134\n",
      "Epoch 150 Batch   25/55   train_loss = 0.105\n",
      "Epoch 150 Batch   50/55   train_loss = 0.167\n",
      "Epoch 151 Batch   20/55   train_loss = 0.156\n",
      "Epoch 151 Batch   45/55   train_loss = 0.150\n",
      "Epoch 152 Batch   15/55   train_loss = 0.165\n",
      "Epoch 152 Batch   40/55   train_loss = 0.150\n",
      "Epoch 153 Batch   10/55   train_loss = 0.154\n",
      "Epoch 153 Batch   35/55   train_loss = 0.178\n",
      "Epoch 154 Batch    5/55   train_loss = 0.150\n",
      "Epoch 154 Batch   30/55   train_loss = 0.174\n",
      "Epoch 155 Batch    0/55   train_loss = 0.128\n",
      "Epoch 155 Batch   25/55   train_loss = 0.101\n",
      "Epoch 155 Batch   50/55   train_loss = 0.162\n",
      "Epoch 156 Batch   20/55   train_loss = 0.152\n",
      "Epoch 156 Batch   45/55   train_loss = 0.147\n",
      "Epoch 157 Batch   15/55   train_loss = 0.162\n",
      "Epoch 157 Batch   40/55   train_loss = 0.150\n",
      "Epoch 158 Batch   10/55   train_loss = 0.148\n",
      "Epoch 158 Batch   35/55   train_loss = 0.180\n",
      "Epoch 159 Batch    5/55   train_loss = 0.148\n",
      "Epoch 159 Batch   30/55   train_loss = 0.171\n",
      "Epoch 160 Batch    0/55   train_loss = 0.129\n",
      "Epoch 160 Batch   25/55   train_loss = 0.103\n",
      "Epoch 160 Batch   50/55   train_loss = 0.163\n",
      "Epoch 161 Batch   20/55   train_loss = 0.156\n",
      "Epoch 161 Batch   45/55   train_loss = 0.152\n",
      "Epoch 162 Batch   15/55   train_loss = 0.181\n",
      "Epoch 162 Batch   40/55   train_loss = 0.169\n",
      "Epoch 163 Batch   10/55   train_loss = 0.231\n",
      "Epoch 163 Batch   35/55   train_loss = 0.695\n",
      "Epoch 164 Batch    5/55   train_loss = 2.057\n",
      "Epoch 164 Batch   30/55   train_loss = 3.159\n",
      "Epoch 165 Batch    0/55   train_loss = 3.315\n",
      "Epoch 165 Batch   25/55   train_loss = 3.046\n",
      "Epoch 165 Batch   50/55   train_loss = 2.828\n",
      "Epoch 166 Batch   20/55   train_loss = 2.537\n",
      "Epoch 166 Batch   45/55   train_loss = 2.378\n",
      "Epoch 167 Batch   15/55   train_loss = 2.175\n",
      "Epoch 167 Batch   40/55   train_loss = 1.981\n",
      "Epoch 168 Batch   10/55   train_loss = 1.778\n",
      "Epoch 168 Batch   35/55   train_loss = 1.492\n",
      "Epoch 169 Batch    5/55   train_loss = 1.598\n",
      "Epoch 169 Batch   30/55   train_loss = 1.354\n",
      "Epoch 170 Batch    0/55   train_loss = 1.182\n",
      "Epoch 170 Batch   25/55   train_loss = 0.986\n",
      "Epoch 170 Batch   50/55   train_loss = 0.996\n",
      "Epoch 171 Batch   20/55   train_loss = 0.905\n",
      "Epoch 171 Batch   45/55   train_loss = 0.874\n",
      "Epoch 172 Batch   15/55   train_loss = 0.888\n",
      "Epoch 172 Batch   40/55   train_loss = 0.714\n",
      "Epoch 173 Batch   10/55   train_loss = 0.726\n",
      "Epoch 173 Batch   35/55   train_loss = 0.640\n",
      "Epoch 174 Batch    5/55   train_loss = 0.649\n",
      "Epoch 174 Batch   30/55   train_loss = 0.584\n",
      "Epoch 175 Batch    0/55   train_loss = 0.472\n",
      "Epoch 175 Batch   25/55   train_loss = 0.433\n",
      "Epoch 175 Batch   50/55   train_loss = 0.479\n",
      "Epoch 176 Batch   20/55   train_loss = 0.435\n",
      "Epoch 176 Batch   45/55   train_loss = 0.426\n",
      "Epoch 177 Batch   15/55   train_loss = 0.454\n",
      "Epoch 177 Batch   40/55   train_loss = 0.375\n",
      "Epoch 178 Batch   10/55   train_loss = 0.401\n",
      "Epoch 178 Batch   35/55   train_loss = 0.358\n",
      "Epoch 179 Batch    5/55   train_loss = 0.357\n",
      "Epoch 179 Batch   30/55   train_loss = 0.336\n",
      "Epoch 180 Batch    0/55   train_loss = 0.265\n",
      "Epoch 180 Batch   25/55   train_loss = 0.233\n",
      "Epoch 180 Batch   50/55   train_loss = 0.310\n",
      "Epoch 181 Batch   20/55   train_loss = 0.275\n",
      "Epoch 181 Batch   45/55   train_loss = 0.270\n",
      "Epoch 182 Batch   15/55   train_loss = 0.281\n",
      "Epoch 182 Batch   40/55   train_loss = 0.247\n",
      "Epoch 183 Batch   10/55   train_loss = 0.274\n",
      "Epoch 183 Batch   35/55   train_loss = 0.258\n",
      "Epoch 184 Batch    5/55   train_loss = 0.251\n",
      "Epoch 184 Batch   30/55   train_loss = 0.257\n",
      "Epoch 185 Batch    0/55   train_loss = 0.200\n",
      "Epoch 185 Batch   25/55   train_loss = 0.172\n",
      "Epoch 185 Batch   50/55   train_loss = 0.240\n",
      "Epoch 186 Batch   20/55   train_loss = 0.218\n",
      "Epoch 186 Batch   45/55   train_loss = 0.218\n",
      "Epoch 187 Batch   15/55   train_loss = 0.228\n",
      "Epoch 187 Batch   40/55   train_loss = 0.205\n",
      "Epoch 188 Batch   10/55   train_loss = 0.224\n",
      "Epoch 188 Batch   35/55   train_loss = 0.224\n",
      "Epoch 189 Batch    5/55   train_loss = 0.212\n",
      "Epoch 189 Batch   30/55   train_loss = 0.220\n",
      "Epoch 190 Batch    0/55   train_loss = 0.168\n",
      "Epoch 190 Batch   25/55   train_loss = 0.145\n",
      "Epoch 190 Batch   50/55   train_loss = 0.211\n",
      "Epoch 191 Batch   20/55   train_loss = 0.192\n",
      "Epoch 191 Batch   45/55   train_loss = 0.190\n",
      "Epoch 192 Batch   15/55   train_loss = 0.196\n",
      "Epoch 192 Batch   40/55   train_loss = 0.180\n",
      "Epoch 193 Batch   10/55   train_loss = 0.192\n",
      "Epoch 193 Batch   35/55   train_loss = 0.200\n",
      "Epoch 194 Batch    5/55   train_loss = 0.187\n",
      "Epoch 194 Batch   30/55   train_loss = 0.204\n",
      "Epoch 195 Batch    0/55   train_loss = 0.155\n",
      "Epoch 195 Batch   25/55   train_loss = 0.134\n",
      "Epoch 195 Batch   50/55   train_loss = 0.197\n",
      "Epoch 196 Batch   20/55   train_loss = 0.183\n",
      "Epoch 196 Batch   45/55   train_loss = 0.183\n",
      "Epoch 197 Batch   15/55   train_loss = 0.192\n",
      "Epoch 197 Batch   40/55   train_loss = 0.175\n",
      "Epoch 198 Batch   10/55   train_loss = 0.184\n",
      "Epoch 198 Batch   35/55   train_loss = 0.213\n",
      "Epoch 199 Batch    5/55   train_loss = 0.197\n",
      "Epoch 199 Batch   30/55   train_loss = 0.212\n",
      "Model Trained and Saved\n"
     ]
    }
   ],
   "source": [
    "\"\"\"\n",
    "DON'T MODIFY ANYTHING IN THIS CELL\n",
    "\"\"\"\n",
    "batches = get_batches(int_text, batch_size, seq_length)\n",
    "\n",
    "with tf.Session(graph=train_graph) as sess:\n",
    "    sess.run(tf.global_variables_initializer())\n",
    "\n",
    "    for epoch_i in range(num_epochs):\n",
    "        state = sess.run(initial_state, {input_text: batches[0][0]})\n",
    "\n",
    "        for batch_i, (x, y) in enumerate(batches):\n",
    "            feed = {\n",
    "                input_text: x,\n",
    "                targets: y,\n",
    "                initial_state: state,\n",
    "                lr: learning_rate}\n",
    "            train_loss, state, _ = sess.run([cost, final_state, train_op], feed)\n",
    "\n",
    "            # Show every <show_every_n_batches> batches\n",
    "            if (epoch_i * len(batches) + batch_i) % show_every_n_batches == 0:\n",
    "                print('Epoch {:>3} Batch {:>4}/{}   train_loss = {:.3f}'.format(\n",
    "                    epoch_i,\n",
    "                    batch_i,\n",
    "                    len(batches),\n",
    "                    train_loss))\n",
    "\n",
    "    # Save Model\n",
    "    saver = tf.train.Saver()\n",
    "    saver.save(sess, save_dir)\n",
    "    print('Model Trained and Saved')"
   ]
  },
  {
   "cell_type": "markdown",
   "metadata": {
    "deletable": true,
    "editable": true
   },
   "source": [
    "## Save Parameters\n",
    "Save `seq_length` and `save_dir` for generating a new TV script."
   ]
  },
  {
   "cell_type": "code",
   "execution_count": 67,
   "metadata": {
    "collapsed": false,
    "deletable": true,
    "editable": true
   },
   "outputs": [],
   "source": [
    "\"\"\"\n",
    "DON'T MODIFY ANYTHING IN THIS CELL\n",
    "\"\"\"\n",
    "# Save parameters for checkpoint\n",
    "helper.save_params((seq_length, save_dir))"
   ]
  },
  {
   "cell_type": "markdown",
   "metadata": {
    "deletable": true,
    "editable": true
   },
   "source": [
    "# Checkpoint"
   ]
  },
  {
   "cell_type": "code",
   "execution_count": 68,
   "metadata": {
    "collapsed": false,
    "deletable": true,
    "editable": true
   },
   "outputs": [],
   "source": [
    "\"\"\"\n",
    "DON'T MODIFY ANYTHING IN THIS CELL\n",
    "\"\"\"\n",
    "import tensorflow as tf\n",
    "import numpy as np\n",
    "import helper\n",
    "import problem_unittests as tests\n",
    "\n",
    "_, vocab_to_int, int_to_vocab, token_dict = helper.load_preprocess()\n",
    "seq_length, load_dir = helper.load_params()"
   ]
  },
  {
   "cell_type": "markdown",
   "metadata": {
    "deletable": true,
    "editable": true
   },
   "source": [
    "## Implement Generate Functions\n",
    "### Get Tensors\n",
    "Get tensors from `loaded_graph` using the function [`get_tensor_by_name()`](https://www.tensorflow.org/api_docs/python/tf/Graph#get_tensor_by_name).  Get the tensors using the following names:\n",
    "- \"input:0\"\n",
    "- \"initial_state:0\"\n",
    "- \"final_state:0\"\n",
    "- \"probs:0\"\n",
    "\n",
    "Return the tensors in the following tuple `(InputTensor, InitialStateTensor, FinalStateTensor, ProbsTensor)` "
   ]
  },
  {
   "cell_type": "code",
   "execution_count": 69,
   "metadata": {
    "collapsed": false,
    "deletable": true,
    "editable": true
   },
   "outputs": [
    {
     "name": "stdout",
     "output_type": "stream",
     "text": [
      "Tests Passed\n"
     ]
    }
   ],
   "source": [
    "def get_tensors(loaded_graph):\n",
    "    \"\"\"\n",
    "    Get input, initial state, final state, and probabilities tensor from <loaded_graph>\n",
    "    :param loaded_graph: TensorFlow graph loaded from file\n",
    "    :return: Tuple (InputTensor, InitialStateTensor, FinalStateTensor, ProbsTensor)\n",
    "    \"\"\"\n",
    "    input_     = loaded_graph.get_tensor_by_name(\"input:0\")\n",
    "    init_state = loaded_graph.get_tensor_by_name(\"initial_state:0\")\n",
    "    fin_state  = loaded_graph.get_tensor_by_name(\"final_state:0\")\n",
    "    probs      = loaded_graph.get_tensor_by_name(\"probs:0\")\n",
    "    return (input_, init_state, fin_state, probs)\n",
    "\n",
    "\n",
    "\"\"\"\n",
    "DON'T MODIFY ANYTHING IN THIS CELL THAT IS BELOW THIS LINE\n",
    "\"\"\"\n",
    "tests.test_get_tensors(get_tensors)"
   ]
  },
  {
   "cell_type": "markdown",
   "metadata": {
    "deletable": true,
    "editable": true
   },
   "source": [
    "### Choose Word\n",
    "Implement the `pick_word()` function to select the next word using `probabilities`."
   ]
  },
  {
   "cell_type": "code",
   "execution_count": 96,
   "metadata": {
    "collapsed": false,
    "deletable": true,
    "editable": true
   },
   "outputs": [
    {
     "name": "stdout",
     "output_type": "stream",
     "text": [
      "Tests Passed\n"
     ]
    }
   ],
   "source": [
    "def pick_word(probabilities, int_to_vocab):\n",
    "    \"\"\"\n",
    "    Pick the next word in the generated text\n",
    "    :param probabilities: Probabilites of the next word\n",
    "    :param int_to_vocab: Dictionary of word ids as the keys and words as the values\n",
    "    :return: String of the predicted word\n",
    "    \"\"\"\n",
    "    return np.random.choice(list(int_to_vocab.values()), 5, p=probabilities)[0]\n",
    "\n",
    "\n",
    "\n",
    "\"\"\"\n",
    "DON'T MODIFY ANYTHING IN THIS CELL THAT IS BELOW THIS LINE\n",
    "\"\"\"\n",
    "tests.test_pick_word(pick_word)"
   ]
  },
  {
   "cell_type": "markdown",
   "metadata": {
    "deletable": true,
    "editable": true
   },
   "source": [
    "## Generate TV Script\n",
    "This will generate the TV script for you.  Set `gen_length` to the length of TV script you want to generate."
   ]
  },
  {
   "cell_type": "code",
   "execution_count": 97,
   "metadata": {
    "collapsed": false,
    "deletable": true,
    "editable": true
   },
   "outputs": [
    {
     "name": "stdout",
     "output_type": "stream",
     "text": [
      "moe_szyslak: no.\n",
      "lenny_leonard: i'm leavin', i'll just talk to myself.(goes through his wallet) three hundred and i ain't changin' it?\n",
      "marge_simpson:(\" and many old and it's not even ladies night.(singing) back to the day i have some tang.\n",
      "moe_szyslak: yeah, i can't believe how much for a radiator?(beat) i'm looking for amanda huggenkiss! that was drinking.\n",
      "lenny_leonard: i dunno, homer. after all my life is one\".\n",
      "moe_szyslak: so come on, uh, homer's been?\n",
      "lenny_leonard:(nods) yeah, i always got behind my back?\n",
      "carl_carlson: no. are we are.\n",
      "larry:(to homer)\" the\" flaming moe\"?\n",
      "\n",
      "\n",
      "moe_szyslak: let's kick this dog it!\n",
      "moe_szyslak: yeah, all right, everybody put down for the next pretty or duff, but at least we're hearing some interesting conversation from those two book clubs.\n",
      "book_club_member: well, let me look up to meet ladies. another round for my problems.\"\n"
     ]
    }
   ],
   "source": [
    "gen_length = 200\n",
    "# homer_simpson, moe_szyslak, or Barney_Gumble\n",
    "prime_word = 'moe_szyslak'\n",
    "\n",
    "\"\"\"\n",
    "DON'T MODIFY ANYTHING IN THIS CELL THAT IS BELOW THIS LINE\n",
    "\"\"\"\n",
    "loaded_graph = tf.Graph()\n",
    "with tf.Session(graph=loaded_graph) as sess:\n",
    "    # Load saved model\n",
    "    loader = tf.train.import_meta_graph(load_dir + '.meta')\n",
    "    loader.restore(sess, load_dir)\n",
    "\n",
    "    # Get Tensors from loaded model\n",
    "    input_text, initial_state, final_state, probs = get_tensors(loaded_graph)\n",
    "\n",
    "    # Sentences generation setup\n",
    "    gen_sentences = [prime_word + ':']\n",
    "    prev_state = sess.run(initial_state, {input_text: np.array([[1]])})\n",
    "\n",
    "    # Generate sentences\n",
    "    for n in range(gen_length):\n",
    "        # Dynamic Input\n",
    "        dyn_input = [[vocab_to_int[word] for word in gen_sentences[-seq_length:]]]\n",
    "        dyn_seq_length = len(dyn_input[0])\n",
    "\n",
    "        # Get Prediction\n",
    "        probabilities, prev_state = sess.run(\n",
    "            [probs, final_state],\n",
    "            {input_text: dyn_input, initial_state: prev_state})\n",
    "        \n",
    "        pred_word = pick_word(probabilities[dyn_seq_length-1], int_to_vocab)\n",
    "\n",
    "        gen_sentences.append(pred_word)\n",
    "    \n",
    "    # Remove tokens\n",
    "    tv_script = ' '.join(gen_sentences)\n",
    "    for key, token in token_dict.items():\n",
    "        ending = ' ' if key in ['\\n', '(', '\"'] else ''\n",
    "        tv_script = tv_script.replace(' ' + token.lower(), key)\n",
    "    tv_script = tv_script.replace('\\n ', '\\n')\n",
    "    tv_script = tv_script.replace('( ', '(')\n",
    "        \n",
    "    print(tv_script)"
   ]
  },
  {
   "cell_type": "markdown",
   "metadata": {
    "deletable": true,
    "editable": true
   },
   "source": [
    "# The TV Script is Nonsensical\n",
    "It's ok if the TV script doesn't make any sense.  We trained on less than a megabyte of text.  In order to get good results, you'll have to use a smaller vocabulary or get more data.  Luckly there's more data!  As we mentioned in the begging of this project, this is a subset of [another dataset](https://www.kaggle.com/wcukierski/the-simpsons-by-the-data).  We didn't have you train on all the data, because that would take too long.  However, you are free to train your neural network on all the data.  After you complete the project, of course.\n",
    "# Submitting This Project\n",
    "When submitting this project, make sure to run all the cells before saving the notebook. Save the notebook file as \"dlnd_tv_script_generation.ipynb\" and save it as a HTML file under \"File\" -> \"Download as\". Include the \"helper.py\" and \"problem_unittests.py\" files in your submission."
   ]
  }
 ],
 "metadata": {
  "kernelspec": {
   "display_name": "Python 3",
   "language": "python",
   "name": "python3"
  },
  "language_info": {
   "codemirror_mode": {
    "name": "ipython",
    "version": 3
   },
   "file_extension": ".py",
   "mimetype": "text/x-python",
   "name": "python",
   "nbconvert_exporter": "python",
   "pygments_lexer": "ipython3",
   "version": "3.5.2"
  }
 },
 "nbformat": 4,
 "nbformat_minor": 0
}
